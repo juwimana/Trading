{
  "nbformat": 4,
  "nbformat_minor": 0,
  "metadata": {
    "colab": {
      "name": "Stock Purchase Valuation.ipynb",
      "provenance": [],
      "authorship_tag": "ABX9TyMn5sLBbthdEBOQ1LqbEcMp",
      "include_colab_link": true
    },
    "kernelspec": {
      "name": "python3",
      "display_name": "Python 3"
    }
  },
  "cells": [
    {
      "cell_type": "markdown",
      "metadata": {
        "id": "view-in-github",
        "colab_type": "text"
      },
      "source": [
        "<a href=\"https://colab.research.google.com/github/juwimana/Trading/blob/main/Stock_Purchase_Valuation.ipynb\" target=\"_parent\"><img src=\"https://colab.research.google.com/assets/colab-badge.svg\" alt=\"Open In Colab\"/></a>"
      ]
    },
    {
      "cell_type": "code",
      "metadata": {
        "id": "vFPmek02-PrB",
        "outputId": "f9b03772-cff2-459b-d40f-5dad3e9b8192",
        "colab": {
          "base_uri": "https://localhost:8080/",
          "height": 35
        }
      },
      "source": [
        "#import packages\n",
        "import datetime as dt\n",
        "import pandas as pd\n",
        "import pandas_datareader.data as data\n",
        "from pandas_datareader._utils import RemoteDataError\n",
        "import yfinance as yf\n",
        "import locale #currency formatting\n",
        "locale.setlocale(locale.LC_ALL, '')"
      ],
      "execution_count": 130,
      "outputs": [
        {
          "output_type": "execute_result",
          "data": {
            "application/vnd.google.colaboratory.intrinsic+json": {
              "type": "string"
            },
            "text/plain": [
              "'en_US.UTF-8'"
            ]
          },
          "metadata": {
            "tags": []
          },
          "execution_count": 130
        }
      ]
    },
    {
      "cell_type": "code",
      "metadata": {
        "id": "c7eT7Bxq_8NO"
      },
      "source": [
        "start_date =dt.datetime(2020,10,1)\n",
        "end_date = dt.date.today()\n",
        "stock_data =''\n",
        "\n",
        "#stock ticker\n",
        "ticker = 'MSFT'\n",
        "stock = yf.Ticker(ticker)"
      ],
      "execution_count": 131,
      "outputs": []
    },
    {
      "cell_type": "code",
      "metadata": {
        "id": "G10rdk-u-YX5",
        "outputId": "23a65360-429a-474c-c144-66f3d4c4207d",
        "colab": {
          "base_uri": "https://localhost:8080/",
          "height": 233
        }
      },
      "source": [
        "#general stock prices\n",
        "df_prices = yf.download(ticker, \n",
        "                      start=start_date, \n",
        "                      end=end_date, \n",
        "                      progress=False)\n",
        "df_prices.head()"
      ],
      "execution_count": 94,
      "outputs": [
        {
          "output_type": "execute_result",
          "data": {
            "text/html": [
              "<div>\n",
              "<style scoped>\n",
              "    .dataframe tbody tr th:only-of-type {\n",
              "        vertical-align: middle;\n",
              "    }\n",
              "\n",
              "    .dataframe tbody tr th {\n",
              "        vertical-align: top;\n",
              "    }\n",
              "\n",
              "    .dataframe thead th {\n",
              "        text-align: right;\n",
              "    }\n",
              "</style>\n",
              "<table border=\"1\" class=\"dataframe\">\n",
              "  <thead>\n",
              "    <tr style=\"text-align: right;\">\n",
              "      <th></th>\n",
              "      <th>Open</th>\n",
              "      <th>High</th>\n",
              "      <th>Low</th>\n",
              "      <th>Close</th>\n",
              "      <th>Adj Close</th>\n",
              "      <th>Volume</th>\n",
              "    </tr>\n",
              "    <tr>\n",
              "      <th>Date</th>\n",
              "      <th></th>\n",
              "      <th></th>\n",
              "      <th></th>\n",
              "      <th></th>\n",
              "      <th></th>\n",
              "      <th></th>\n",
              "    </tr>\n",
              "  </thead>\n",
              "  <tbody>\n",
              "    <tr>\n",
              "      <th>2020-10-01</th>\n",
              "      <td>213.490005</td>\n",
              "      <td>213.990005</td>\n",
              "      <td>211.320007</td>\n",
              "      <td>212.460007</td>\n",
              "      <td>212.460007</td>\n",
              "      <td>27158400</td>\n",
              "    </tr>\n",
              "    <tr>\n",
              "      <th>2020-10-02</th>\n",
              "      <td>208.000000</td>\n",
              "      <td>210.990005</td>\n",
              "      <td>205.539993</td>\n",
              "      <td>206.190002</td>\n",
              "      <td>206.190002</td>\n",
              "      <td>33154800</td>\n",
              "    </tr>\n",
              "    <tr>\n",
              "      <th>2020-10-05</th>\n",
              "      <td>207.220001</td>\n",
              "      <td>210.410004</td>\n",
              "      <td>206.979996</td>\n",
              "      <td>210.380005</td>\n",
              "      <td>210.380005</td>\n",
              "      <td>21331600</td>\n",
              "    </tr>\n",
              "    <tr>\n",
              "      <th>2020-10-06</th>\n",
              "      <td>208.820007</td>\n",
              "      <td>210.179993</td>\n",
              "      <td>204.820007</td>\n",
              "      <td>205.910004</td>\n",
              "      <td>205.910004</td>\n",
              "      <td>28554300</td>\n",
              "    </tr>\n",
              "    <tr>\n",
              "      <th>2020-10-07</th>\n",
              "      <td>207.059998</td>\n",
              "      <td>210.110001</td>\n",
              "      <td>206.720001</td>\n",
              "      <td>209.830002</td>\n",
              "      <td>209.830002</td>\n",
              "      <td>25648100</td>\n",
              "    </tr>\n",
              "  </tbody>\n",
              "</table>\n",
              "</div>"
            ],
            "text/plain": [
              "                  Open        High  ...   Adj Close    Volume\n",
              "Date                                ...                      \n",
              "2020-10-01  213.490005  213.990005  ...  212.460007  27158400\n",
              "2020-10-02  208.000000  210.990005  ...  206.190002  33154800\n",
              "2020-10-05  207.220001  210.410004  ...  210.380005  21331600\n",
              "2020-10-06  208.820007  210.179993  ...  205.910004  28554300\n",
              "2020-10-07  207.059998  210.110001  ...  209.830002  25648100\n",
              "\n",
              "[5 rows x 6 columns]"
            ]
          },
          "metadata": {
            "tags": []
          },
          "execution_count": 94
        }
      ]
    },
    {
      "cell_type": "code",
      "metadata": {
        "id": "JXz4NCnhFmCn",
        "outputId": "c0423f0c-5c0b-4929-fc45-41e7922b8786",
        "colab": {
          "base_uri": "https://localhost:8080/"
        }
      },
      "source": [
        "#incomplete url string\n",
        "str_summary = 'https://finance.yahoo.com/quote/{}?p={}&.tsrc=fin-srch'\n",
        "str_stat = 'https://finance.yahoo.com/quote/{}/key-statistics?p={}'\n",
        "str_analysis = 'https://finance.yahoo.com/quote/{}/analysis?p={}'\n",
        "str_financials= 'https://finance.yahoo.com/quote/{}/financials?p={}'\n",
        "\n",
        "#complete website url\n",
        "url_summary = str_summary.format(ticker,ticker)\n",
        "url_stat = str_stat.format(ticker,ticker)\n",
        "url_analysis = str_analysis.format(ticker,ticker)\n",
        "url_financials = str_financials.format(ticker,ticker)\n",
        "\n",
        "print(url_summary)\n",
        "print(url_stat)\n",
        "print(url_analysis)\n",
        "print(url_financials)"
      ],
      "execution_count": 95,
      "outputs": [
        {
          "output_type": "stream",
          "text": [
            "https://finance.yahoo.com/quote/MSFT?p=MSFT&.tsrc=fin-srch\n",
            "https://finance.yahoo.com/quote/MSFT/key-statistics?p=MSFT\n",
            "https://finance.yahoo.com/quote/MSFT/analysis?p=MSFT\n",
            "https://finance.yahoo.com/quote/MSFT/financials?p=MSFT\n"
          ],
          "name": "stdout"
        }
      ]
    },
    {
      "cell_type": "code",
      "metadata": {
        "id": "5gujSGd9HMrm"
      },
      "source": [
        "#read ticker financial summary page\n",
        "df_summary = pd.read_html(url_summary, header = 0)\n",
        "df_summary"
      ],
      "execution_count": null,
      "outputs": []
    },
    {
      "cell_type": "code",
      "metadata": {
        "id": "pTtdmrSJRZUe"
      },
      "source": [
        "summary_2 = df_summary[0]\n",
        "summary_2"
      ],
      "execution_count": null,
      "outputs": []
    },
    {
      "cell_type": "code",
      "metadata": {
        "id": "avaJdMd4HOr8"
      },
      "source": [
        "summary_1 = df_summary[1]\n",
        "summary_1"
      ],
      "execution_count": null,
      "outputs": []
    },
    {
      "cell_type": "code",
      "metadata": {
        "id": "t-yHL-XLVOI1",
        "outputId": "8e01f3f7-e28f-4d54-fdcc-bfbc8c18137a",
        "colab": {
          "base_uri": "https://localhost:8080/"
        }
      },
      "source": [
        "#read ticker financial statistics page\n",
        "df_stat = pd.read_html(url_stat, header =0)\n",
        "df_stat"
      ],
      "execution_count": 137,
      "outputs": [
        {
          "output_type": "execute_result",
          "data": {
            "text/plain": [
              "[                    Unnamed: 0  ... 9/30/2019\n",
              " 0      Market Cap (intraday) 5  ...     1.06T\n",
              " 1           Enterprise Value 3  ...     1.01T\n",
              " 2                 Trailing P/E  ...     27.48\n",
              " 3                Forward P/E 1  ...     26.45\n",
              " 4  PEG Ratio (5 yr expected) 1  ...      4.94\n",
              " 5            Price/Sales (ttm)  ...      8.57\n",
              " 6             Price/Book (mrq)  ...     10.37\n",
              " 7   Enterprise Value/Revenue 3  ...     30.43\n",
              " 8    Enterprise Value/EBITDA 6  ...     61.73\n",
              " \n",
              " [9 rows x 6 columns],           Beta (5Y Monthly)    0.92\n",
              " 0          52-Week Change 3  48.95%\n",
              " 1   S&P500 52-Week Change 3  15.13%\n",
              " 2            52 Week High 3  232.86\n",
              " 3             52 Week Low 3  132.52\n",
              " 4   50-Day Moving Average 3  211.46\n",
              " 5  200-Day Moving Average 3  193.97,                               Avg Vol (3 month) 3  34.59M\n",
              " 0                              Avg Vol (10 day) 3  28.59M\n",
              " 1                            Shares Outstanding 5   7.57B\n",
              " 2                                           Float   7.46B\n",
              " 3                            % Held by Insiders 1   1.42%\n",
              " 4                        % Held by Institutions 1  74.09%\n",
              " 5                   Shares Short (Sep 14, 2020) 4  37.79M\n",
              " 6                    Short Ratio (Sep 14, 2020) 4    1.09\n",
              " 7               Short % of Float (Sep 14, 2020) 4   0.51%\n",
              " 8  Short % of Shares Outstanding (Sep 14, 2020) 4   0.50%\n",
              " 9       Shares Short (prior month Aug 13, 2020) 4  29.63M,      Forward Annual Dividend Rate 4          2.24\n",
              " 0   Forward Annual Dividend Yield 4         1.09%\n",
              " 1   Trailing Annual Dividend Rate 3          2.04\n",
              " 2  Trailing Annual Dividend Yield 3         0.99%\n",
              " 3   5 Year Average Dividend Yield 4          1.80\n",
              " 4                    Payout Ratio 4        34.55%\n",
              " 5                   Dividend Date 3  Dec 09, 2020\n",
              " 6                Ex-Dividend Date 4  Nov 17, 2020\n",
              " 7               Last Split Factor 2           2:1\n",
              " 8                 Last Split Date 3  Feb 17, 2003,             Fiscal Year Ends  Jun 29, 2020\n",
              " 0  Most Recent Quarter (mrq)  Jun 29, 2020,             Profit Margin  30.96%\n",
              " 0  Operating Margin (ttm)  37.03%,    Return on Assets (ttm)  11.26%\n",
              " 0  Return on Equity (ttm)  40.14%,                      Revenue (ttm)  143.02B\n",
              " 0          Revenue Per Share (ttm)    18.79\n",
              " 1   Quarterly Revenue Growth (yoy)   12.80%\n",
              " 2               Gross Profit (ttm)   96.94B\n",
              " 3                           EBITDA   65.26B\n",
              " 4   Net Income Avi to Common (ttm)   44.28B\n",
              " 5                Diluted EPS (ttm)     5.76\n",
              " 6  Quarterly Earnings Growth (yoy)  -15.10%,              Total Cash (mrq) 136.49B\n",
              " 0  Total Cash Per Share (mrq)   18.04\n",
              " 1            Total Debt (mrq)  82.11B\n",
              " 2     Total Debt/Equity (mrq)   69.41\n",
              " 3         Current Ratio (mrq)    2.52\n",
              " 4  Book Value Per Share (mrq)   15.63,       Operating Cash Flow (ttm)  60.67B\n",
              " 0  Levered Free Cash Flow (ttm)  34.26B]"
            ]
          },
          "metadata": {
            "tags": []
          },
          "execution_count": 137
        }
      ]
    },
    {
      "cell_type": "code",
      "metadata": {
        "id": "t8f9HR7DVpVE",
        "outputId": "2fa97664-3a74-4d25-ec95-e2ab1c2d7a68",
        "colab": {
          "base_uri": "https://localhost:8080/"
        }
      },
      "source": [
        "len(df_stat)"
      ],
      "execution_count": 139,
      "outputs": [
        {
          "output_type": "execute_result",
          "data": {
            "text/plain": [
              "10"
            ]
          },
          "metadata": {
            "tags": []
          },
          "execution_count": 139
        }
      ]
    },
    {
      "cell_type": "code",
      "metadata": {
        "id": "kua3ygdsXoiT"
      },
      "source": [
        "stat_0 = df_stat[0]\n",
        "stat_0"
      ],
      "execution_count": null,
      "outputs": []
    },
    {
      "cell_type": "code",
      "metadata": {
        "id": "uhJgDa7Jbwoa"
      },
      "source": [
        "stat_1 = df_stat[1]\n",
        "stat_1"
      ],
      "execution_count": null,
      "outputs": []
    },
    {
      "cell_type": "code",
      "metadata": {
        "id": "czZ_N2lXcUuo"
      },
      "source": [
        "stat_5 = df_stat[5]\n",
        "stat_5"
      ],
      "execution_count": null,
      "outputs": []
    },
    {
      "cell_type": "code",
      "metadata": {
        "id": "ej0kcJ_7fR8D"
      },
      "source": [
        "stat_6 = df_stat[6]\n",
        "stat_6"
      ],
      "execution_count": null,
      "outputs": []
    },
    {
      "cell_type": "code",
      "metadata": {
        "id": "HVxwJAuZgLQv"
      },
      "source": [
        "stat_8 = df_stat[8]\n",
        "stat_8"
      ],
      "execution_count": null,
      "outputs": []
    },
    {
      "cell_type": "code",
      "metadata": {
        "id": "XV0UI4UmhvWZ"
      },
      "source": [
        ""
      ],
      "execution_count": null,
      "outputs": []
    },
    {
      "cell_type": "markdown",
      "metadata": {
        "id": "SfGG5alJdzW0"
      },
      "source": [
        "*   [Operating margin](https://www.investopedia.com/terms/o/operatingmargin.asp) is the profit a company makes on a dollar of sales after paying for variable costs but before paying any interest or taxes\n",
        "*   [EPS](https://www.investopedia.com/terms/e/eps.asp) indicates how much money a company makes for each share of its stock\n",
        "*   [Beta](https://www.investopedia.com/terms/b/beta.asp) is a measure of the volatility—or systematic risk—of a security or portfolio compared to the market as a whole\n",
        "*   [Enterprise Value/EBITDA](https://www.investopedia.com/ask/answers/072715/what-considered-healthy-evebitda.asp#:~:text=The%20enterprise%2Dvalue%2Dto%2D,10%20are%20seen%20as%20healthy.) compares the value of a company—debt included—to the company’s cash earnings less non-cash expenses\n",
        "*   [Return on equity (ROE)](https://www.investopedia.com/terms/r/returnonequity.asp) measures how effectively management is using a company’s assets to create profits\n",
        "*   [Debt-to-Equity Ratio (D/E)](https://www.investopedia.com/terms/d/debtequityratio.asp) is a measure of the degree to which a company is financing its operations through debt versus wholly-owned funds\n",
        "\n"
      ]
    },
    {
      "cell_type": "code",
      "metadata": {
        "id": "X_kZYdyIDiav",
        "outputId": "3c4f0717-910a-49dd-ba61-3c0da8b238fe",
        "colab": {
          "base_uri": "https://localhost:8080/",
          "height": 114
        }
      },
      "source": [
        "#create stock key metrics DataFrame\n",
        "stock_metrics= {\n",
        "    'Company': stock.info.get('shortName'),\n",
        "    'Ticker': ticker,\n",
        "    'Sector': stock.info.get('sector'),\n",
        "    'Market Cap': locale.currency(stock.info.get('marketCap'),grouping=True),\n",
        "    '52 Week Low': stat_1.loc[3][1],\n",
        "    '52 Week High': stat_1.loc[2][1],\n",
        "    'EPS' : summary_1.loc[2][1],\n",
        "    'Beta' : stock.info.get('beta'),\n",
        "    'Enterprise Value/EBITDA': stat_0.loc[8][1],\n",
        "    'Operating Margin': stat_5.loc[0][1],\n",
        "    'ROE':stat_6.loc[0][1],\n",
        "    'Debt-to-Equity': stat_8.loc[2][1]\n",
        "    }\n",
        "stock_df = pd.DataFrame(data = stock_metrics, index = [0])\n",
        "stock_df"
      ],
      "execution_count": 208,
      "outputs": [
        {
          "output_type": "execute_result",
          "data": {
            "text/html": [
              "<div>\n",
              "<style scoped>\n",
              "    .dataframe tbody tr th:only-of-type {\n",
              "        vertical-align: middle;\n",
              "    }\n",
              "\n",
              "    .dataframe tbody tr th {\n",
              "        vertical-align: top;\n",
              "    }\n",
              "\n",
              "    .dataframe thead th {\n",
              "        text-align: right;\n",
              "    }\n",
              "</style>\n",
              "<table border=\"1\" class=\"dataframe\">\n",
              "  <thead>\n",
              "    <tr style=\"text-align: right;\">\n",
              "      <th></th>\n",
              "      <th>Company</th>\n",
              "      <th>Ticker</th>\n",
              "      <th>Sector</th>\n",
              "      <th>Market Cap</th>\n",
              "      <th>52 Week Low</th>\n",
              "      <th>52 Week High</th>\n",
              "      <th>EPS</th>\n",
              "      <th>Beta</th>\n",
              "      <th>Enterprise Value/EBITDA</th>\n",
              "      <th>Operating Margin</th>\n",
              "      <th>ROE</th>\n",
              "      <th>Debt-to-Equity</th>\n",
              "    </tr>\n",
              "  </thead>\n",
              "  <tbody>\n",
              "    <tr>\n",
              "      <th>0</th>\n",
              "      <td>Microsoft Corporation</td>\n",
              "      <td>MSFT</td>\n",
              "      <td>Technology</td>\n",
              "      <td>$1,587,919,978,496.00</td>\n",
              "      <td>132.52</td>\n",
              "      <td>232.86</td>\n",
              "      <td>5.76</td>\n",
              "      <td>0.923331</td>\n",
              "      <td>21.52</td>\n",
              "      <td>37.03%</td>\n",
              "      <td>40.14%</td>\n",
              "      <td>69.41</td>\n",
              "    </tr>\n",
              "  </tbody>\n",
              "</table>\n",
              "</div>"
            ],
            "text/plain": [
              "                 Company Ticker  ...     ROE Debt-to-Equity\n",
              "0  Microsoft Corporation   MSFT  ...  40.14%          69.41\n",
              "\n",
              "[1 rows x 12 columns]"
            ]
          },
          "metadata": {
            "tags": []
          },
          "execution_count": 208
        }
      ]
    },
    {
      "cell_type": "code",
      "metadata": {
        "id": "Rx6PeeLPTAsm"
      },
      "source": [
        ""
      ],
      "execution_count": null,
      "outputs": []
    }
  ]
}