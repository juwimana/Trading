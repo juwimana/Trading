{
  "nbformat": 4,
  "nbformat_minor": 0,
  "metadata": {
    "colab": {
      "name": "Stock Purchase Valuation.ipynb",
      "provenance": [],
      "authorship_tag": "ABX9TyNx9MbnRtV3JurPULLZGJlw",
      "include_colab_link": true
    },
    "kernelspec": {
      "name": "python3",
      "display_name": "Python 3"
    }
  },
  "cells": [
    {
      "cell_type": "markdown",
      "metadata": {
        "id": "view-in-github",
        "colab_type": "text"
      },
      "source": [
        "<a href=\"https://colab.research.google.com/github/juwimana/Trading/blob/main/Stock_Purchase_Valuation.ipynb\" target=\"_parent\"><img src=\"https://colab.research.google.com/assets/colab-badge.svg\" alt=\"Open In Colab\"/></a>"
      ]
    },
    {
      "cell_type": "code",
      "metadata": {
        "id": "vFPmek02-PrB",
        "outputId": "7c14aed2-6bcf-4929-fc56-079a539698d2",
        "colab": {
          "base_uri": "https://localhost:8080/",
          "height": 35
        }
      },
      "source": [
        "#import packages\n",
        "import datetime as dt\n",
        "import pandas as pd\n",
        "\n",
        "#visualization packages\n",
        "import seaborn as sns\n",
        "import matplotlib.pyplot as plt\n",
        "\n",
        "#install mplfinance package\n",
        "#!pip install mplfinance\n",
        "import mplfinance as mpf\n",
        "\n",
        "#install python package yfinance\n",
        "#!pip install yfinance\n",
        "import yfinance as yf\n",
        "\n",
        "# import stock_info module from yahoo_fin\n",
        "#!pip install yahoo_fin\n",
        "from yahoo_fin import stock_info as si\n",
        "\n",
        "#styling package\n",
        "from IPython.display import HTML\n",
        "\n",
        "#currency formatting\n",
        "import locale \n",
        "locale.setlocale(locale.LC_ALL, '')"
      ],
      "execution_count": 30,
      "outputs": [
        {
          "output_type": "execute_result",
          "data": {
            "application/vnd.google.colaboratory.intrinsic+json": {
              "type": "string"
            },
            "text/plain": [
              "'en_US.UTF-8'"
            ]
          },
          "metadata": {
            "tags": []
          },
          "execution_count": 30
        }
      ]
    },
    {
      "cell_type": "code",
      "metadata": {
        "id": "c7eT7Bxq_8NO"
      },
      "source": [
        "start_date =dt.datetime(2020,10,1)\n",
        "end_date = dt.date.today()\n",
        "stock_data =''\n",
        "\n",
        "#stock ticker\n",
        "ticker = 'LTHM'\n",
        "stock = yf.Ticker(ticker)\n",
        "p_price = 11.51\n",
        "shares = 10"
      ],
      "execution_count": 31,
      "outputs": []
    },
    {
      "cell_type": "code",
      "metadata": {
        "id": "G10rdk-u-YX5",
        "outputId": "4a555ef2-40b6-46e6-cf38-bb3204d81837",
        "colab": {
          "base_uri": "https://localhost:8080/",
          "height": 233
        }
      },
      "source": [
        "#general stock prices\n",
        "df_prices = yf.download(ticker, \n",
        "                      start=start_date, \n",
        "                      end=end_date, \n",
        "                      progress=False)\n",
        "df_prices.head()"
      ],
      "execution_count": 32,
      "outputs": [
        {
          "output_type": "execute_result",
          "data": {
            "text/html": [
              "<div>\n",
              "<style scoped>\n",
              "    .dataframe tbody tr th:only-of-type {\n",
              "        vertical-align: middle;\n",
              "    }\n",
              "\n",
              "    .dataframe tbody tr th {\n",
              "        vertical-align: top;\n",
              "    }\n",
              "\n",
              "    .dataframe thead th {\n",
              "        text-align: right;\n",
              "    }\n",
              "</style>\n",
              "<table border=\"1\" class=\"dataframe\">\n",
              "  <thead>\n",
              "    <tr style=\"text-align: right;\">\n",
              "      <th></th>\n",
              "      <th>Open</th>\n",
              "      <th>High</th>\n",
              "      <th>Low</th>\n",
              "      <th>Close</th>\n",
              "      <th>Adj Close</th>\n",
              "      <th>Volume</th>\n",
              "    </tr>\n",
              "    <tr>\n",
              "      <th>Date</th>\n",
              "      <th></th>\n",
              "      <th></th>\n",
              "      <th></th>\n",
              "      <th></th>\n",
              "      <th></th>\n",
              "      <th></th>\n",
              "    </tr>\n",
              "  </thead>\n",
              "  <tbody>\n",
              "    <tr>\n",
              "      <th>2020-10-01</th>\n",
              "      <td>9.25</td>\n",
              "      <td>9.39</td>\n",
              "      <td>8.94</td>\n",
              "      <td>9.03</td>\n",
              "      <td>9.03</td>\n",
              "      <td>2656200</td>\n",
              "    </tr>\n",
              "    <tr>\n",
              "      <th>2020-10-02</th>\n",
              "      <td>8.62</td>\n",
              "      <td>9.75</td>\n",
              "      <td>8.52</td>\n",
              "      <td>9.56</td>\n",
              "      <td>9.56</td>\n",
              "      <td>4410300</td>\n",
              "    </tr>\n",
              "    <tr>\n",
              "      <th>2020-10-05</th>\n",
              "      <td>10.41</td>\n",
              "      <td>11.35</td>\n",
              "      <td>10.37</td>\n",
              "      <td>11.29</td>\n",
              "      <td>11.29</td>\n",
              "      <td>14363200</td>\n",
              "    </tr>\n",
              "    <tr>\n",
              "      <th>2020-10-06</th>\n",
              "      <td>12.03</td>\n",
              "      <td>12.18</td>\n",
              "      <td>11.06</td>\n",
              "      <td>11.42</td>\n",
              "      <td>11.42</td>\n",
              "      <td>19792600</td>\n",
              "    </tr>\n",
              "    <tr>\n",
              "      <th>2020-10-07</th>\n",
              "      <td>11.68</td>\n",
              "      <td>12.22</td>\n",
              "      <td>11.25</td>\n",
              "      <td>11.97</td>\n",
              "      <td>11.97</td>\n",
              "      <td>8853100</td>\n",
              "    </tr>\n",
              "  </tbody>\n",
              "</table>\n",
              "</div>"
            ],
            "text/plain": [
              "             Open   High    Low  Close  Adj Close    Volume\n",
              "Date                                                       \n",
              "2020-10-01   9.25   9.39   8.94   9.03       9.03   2656200\n",
              "2020-10-02   8.62   9.75   8.52   9.56       9.56   4410300\n",
              "2020-10-05  10.41  11.35  10.37  11.29      11.29  14363200\n",
              "2020-10-06  12.03  12.18  11.06  11.42      11.42  19792600\n",
              "2020-10-07  11.68  12.22  11.25  11.97      11.97   8853100"
            ]
          },
          "metadata": {
            "tags": []
          },
          "execution_count": 32
        }
      ]
    },
    {
      "cell_type": "code",
      "metadata": {
        "id": "jLwBWG-cRuBc",
        "outputId": "a0ed9fd8-6b1e-44ae-b3fb-dc3c80620191",
        "colab": {
          "base_uri": "https://localhost:8080/",
          "height": 446
        }
      },
      "source": [
        "#get stock price historical data\n",
        "h_stock = stock.history(period='max')\n",
        "h_stock"
      ],
      "execution_count": 33,
      "outputs": [
        {
          "output_type": "execute_result",
          "data": {
            "text/html": [
              "<div>\n",
              "<style scoped>\n",
              "    .dataframe tbody tr th:only-of-type {\n",
              "        vertical-align: middle;\n",
              "    }\n",
              "\n",
              "    .dataframe tbody tr th {\n",
              "        vertical-align: top;\n",
              "    }\n",
              "\n",
              "    .dataframe thead th {\n",
              "        text-align: right;\n",
              "    }\n",
              "</style>\n",
              "<table border=\"1\" class=\"dataframe\">\n",
              "  <thead>\n",
              "    <tr style=\"text-align: right;\">\n",
              "      <th></th>\n",
              "      <th>Open</th>\n",
              "      <th>High</th>\n",
              "      <th>Low</th>\n",
              "      <th>Close</th>\n",
              "      <th>Volume</th>\n",
              "      <th>Dividends</th>\n",
              "      <th>Stock Splits</th>\n",
              "    </tr>\n",
              "    <tr>\n",
              "      <th>Date</th>\n",
              "      <th></th>\n",
              "      <th></th>\n",
              "      <th></th>\n",
              "      <th></th>\n",
              "      <th></th>\n",
              "      <th></th>\n",
              "      <th></th>\n",
              "    </tr>\n",
              "  </thead>\n",
              "  <tbody>\n",
              "    <tr>\n",
              "      <th>2018-10-11</th>\n",
              "      <td>16.250000</td>\n",
              "      <td>16.980000</td>\n",
              "      <td>16.00</td>\n",
              "      <td>16.969999</td>\n",
              "      <td>11422700</td>\n",
              "      <td>0</td>\n",
              "      <td>0</td>\n",
              "    </tr>\n",
              "    <tr>\n",
              "      <th>2018-10-12</th>\n",
              "      <td>17.120001</td>\n",
              "      <td>17.299999</td>\n",
              "      <td>16.25</td>\n",
              "      <td>16.250000</td>\n",
              "      <td>4222400</td>\n",
              "      <td>0</td>\n",
              "      <td>0</td>\n",
              "    </tr>\n",
              "    <tr>\n",
              "      <th>2018-10-15</th>\n",
              "      <td>16.440001</td>\n",
              "      <td>16.440001</td>\n",
              "      <td>15.91</td>\n",
              "      <td>16.000000</td>\n",
              "      <td>1972500</td>\n",
              "      <td>0</td>\n",
              "      <td>0</td>\n",
              "    </tr>\n",
              "    <tr>\n",
              "      <th>2018-10-16</th>\n",
              "      <td>16.200001</td>\n",
              "      <td>16.450001</td>\n",
              "      <td>16.00</td>\n",
              "      <td>16.049999</td>\n",
              "      <td>1956200</td>\n",
              "      <td>0</td>\n",
              "      <td>0</td>\n",
              "    </tr>\n",
              "    <tr>\n",
              "      <th>2018-10-17</th>\n",
              "      <td>16.059999</td>\n",
              "      <td>16.410000</td>\n",
              "      <td>16.01</td>\n",
              "      <td>16.400000</td>\n",
              "      <td>1759600</td>\n",
              "      <td>0</td>\n",
              "      <td>0</td>\n",
              "    </tr>\n",
              "    <tr>\n",
              "      <th>...</th>\n",
              "      <td>...</td>\n",
              "      <td>...</td>\n",
              "      <td>...</td>\n",
              "      <td>...</td>\n",
              "      <td>...</td>\n",
              "      <td>...</td>\n",
              "      <td>...</td>\n",
              "    </tr>\n",
              "    <tr>\n",
              "      <th>2020-10-02</th>\n",
              "      <td>8.620000</td>\n",
              "      <td>9.750000</td>\n",
              "      <td>8.52</td>\n",
              "      <td>9.560000</td>\n",
              "      <td>4410300</td>\n",
              "      <td>0</td>\n",
              "      <td>0</td>\n",
              "    </tr>\n",
              "    <tr>\n",
              "      <th>2020-10-05</th>\n",
              "      <td>10.410000</td>\n",
              "      <td>11.350000</td>\n",
              "      <td>10.37</td>\n",
              "      <td>11.290000</td>\n",
              "      <td>14363200</td>\n",
              "      <td>0</td>\n",
              "      <td>0</td>\n",
              "    </tr>\n",
              "    <tr>\n",
              "      <th>2020-10-06</th>\n",
              "      <td>12.030000</td>\n",
              "      <td>12.180000</td>\n",
              "      <td>11.06</td>\n",
              "      <td>11.420000</td>\n",
              "      <td>19792600</td>\n",
              "      <td>0</td>\n",
              "      <td>0</td>\n",
              "    </tr>\n",
              "    <tr>\n",
              "      <th>2020-10-07</th>\n",
              "      <td>11.680000</td>\n",
              "      <td>12.220000</td>\n",
              "      <td>11.25</td>\n",
              "      <td>11.970000</td>\n",
              "      <td>8853100</td>\n",
              "      <td>0</td>\n",
              "      <td>0</td>\n",
              "    </tr>\n",
              "    <tr>\n",
              "      <th>2020-10-08</th>\n",
              "      <td>12.285000</td>\n",
              "      <td>12.530000</td>\n",
              "      <td>11.43</td>\n",
              "      <td>11.720000</td>\n",
              "      <td>9075913</td>\n",
              "      <td>0</td>\n",
              "      <td>0</td>\n",
              "    </tr>\n",
              "  </tbody>\n",
              "</table>\n",
              "<p>502 rows × 7 columns</p>\n",
              "</div>"
            ],
            "text/plain": [
              "                 Open       High    Low  ...    Volume  Dividends  Stock Splits\n",
              "Date                                     ...                                   \n",
              "2018-10-11  16.250000  16.980000  16.00  ...  11422700          0             0\n",
              "2018-10-12  17.120001  17.299999  16.25  ...   4222400          0             0\n",
              "2018-10-15  16.440001  16.440001  15.91  ...   1972500          0             0\n",
              "2018-10-16  16.200001  16.450001  16.00  ...   1956200          0             0\n",
              "2018-10-17  16.059999  16.410000  16.01  ...   1759600          0             0\n",
              "...               ...        ...    ...  ...       ...        ...           ...\n",
              "2020-10-02   8.620000   9.750000   8.52  ...   4410300          0             0\n",
              "2020-10-05  10.410000  11.350000  10.37  ...  14363200          0             0\n",
              "2020-10-06  12.030000  12.180000  11.06  ...  19792600          0             0\n",
              "2020-10-07  11.680000  12.220000  11.25  ...   8853100          0             0\n",
              "2020-10-08  12.285000  12.530000  11.43  ...   9075913          0             0\n",
              "\n",
              "[502 rows x 7 columns]"
            ]
          },
          "metadata": {
            "tags": []
          },
          "execution_count": 33
        }
      ]
    },
    {
      "cell_type": "code",
      "metadata": {
        "id": "MptdReskWAVp",
        "outputId": "9f96ace7-52a5-41ab-8fe1-925386065cd0",
        "colab": {
          "base_uri": "https://localhost:8080/",
          "height": 469
        }
      },
      "source": [
        "#plot historical data\n",
        "plt.rcParams[\"figure.figsize\"] = (20,7)\n",
        "sns.set_theme(style=\"whitegrid\")\n",
        "sns.lineplot(data=h_stock.High, palette='tab10')"
      ],
      "execution_count": 34,
      "outputs": [
        {
          "output_type": "execute_result",
          "data": {
            "text/plain": [
              "<matplotlib.axes._subplots.AxesSubplot at 0x7ff607bab588>"
            ]
          },
          "metadata": {
            "tags": []
          },
          "execution_count": 34
        },
        {
          "output_type": "display_data",
          "data": {
            "image/png": "[encoded data removed]",
            "text/plain": [
              "<Figure size 2000x700 with 1 Axes>"
            ]
          },
          "metadata": {
            "tags": []
          }
        }
      ]
    },
    {
      "cell_type": "code",
      "metadata": {
        "id": "N9fvgWeJYV0b",
        "outputId": "1465c33b-c562-44c8-b9e4-b345e50a41af",
        "colab": {
          "base_uri": "https://localhost:8080/",
          "height": 620
        }
      },
      "source": [
        "#plot stock historical data using mplfinance package\n",
        "mpf.plot(h_stock,type='candle',mav=(3,6,9),volume=True, figratio=(25,10), \n",
        "         title='\\n{}\\n {}, {} {}, {}'.format(ticker,end_date.strftime('%A'), end_date.strftime(\"%B\"), end_date.day, end_date.year),\n",
        "         ylabel='OHLC Candles',\n",
        "         ylabel_lower='Shares\\nTraded'\n",
        "         )"
      ],
      "execution_count": 35,
      "outputs": [
        {
          "output_type": "display_data",
          "data": {
            "image/png": "[encoded data removed]",
            "text/plain": [
              "<Figure size 1437.5x575 with 4 Axes>"
            ]
          },
          "metadata": {
            "tags": []
          }
        }
      ]
    },
    {
      "cell_type": "code",
      "metadata": {
        "id": "JXz4NCnhFmCn",
        "outputId": "265cf376-1bf3-48b7-c1f4-c441d04a4ad6",
        "colab": {
          "base_uri": "https://localhost:8080/",
          "height": 104
        }
      },
      "source": [
        "#incomplete url string\n",
        "str_summary = 'https://finance.yahoo.com/quote/{}?p={}&.tsrc=fin-srch'\n",
        "str_stat = 'https://finance.yahoo.com/quote/{}/key-statistics?p={}'\n",
        "str_analysis = 'https://finance.yahoo.com/quote/{}/analysis?p={}'\n",
        "str_financials= 'https://finance.yahoo.com/quote/{}/financials?p={}'\n",
        "\n",
        "#complete website url\n",
        "url_summary = str_summary.format(ticker,ticker)\n",
        "url_stat = str_stat.format(ticker,ticker)\n",
        "url_analysis = str_analysis.format(ticker,ticker)\n",
        "url_financials = str_financials.format(ticker,ticker)\n",
        "url_indexes = 'https://finance.yahoo.com/world-indices'\n",
        "\n",
        "print(url_summary)\n",
        "print(url_stat)\n",
        "print(url_analysis)\n",
        "print(url_financials)\n",
        "print(url_indexes)"
      ],
      "execution_count": 36,
      "outputs": [
        {
          "output_type": "stream",
          "text": [
            "https://finance.yahoo.com/quote/LTHM?p=LTHM&.tsrc=fin-srch\n",
            "https://finance.yahoo.com/quote/LTHM/key-statistics?p=LTHM\n",
            "https://finance.yahoo.com/quote/LTHM/analysis?p=LTHM\n",
            "https://finance.yahoo.com/quote/LTHM/financials?p=LTHM\n",
            "https://finance.yahoo.com/world-indices\n"
          ],
          "name": "stdout"
        }
      ]
    },
    {
      "cell_type": "code",
      "metadata": {
        "id": "aX5-1ejUyYBJ"
      },
      "source": [
        "#DataFrame styling\n",
        "def color_negative_red(value):\n",
        "  \"\"\"\n",
        "  Colors elements in a dateframe\n",
        "  green if positive and red if\n",
        "  negative. Does not color NaN\n",
        "  values.\n",
        "  \"\"\"\n",
        "\n",
        "  if value < 0:\n",
        "    color = 'red'\n",
        "  elif value > 0:\n",
        "    color = 'green'\n",
        "  else:\n",
        "    color = 'black'\n",
        "\n",
        "  return 'color: %s' % color"
      ],
      "execution_count": 37,
      "outputs": []
    },
    {
      "cell_type": "code",
      "metadata": {
        "id": "RRvqTLlpvSQO",
        "outputId": "e0d95625-8058-43bc-f795-38e6225e271f",
        "colab": {
          "base_uri": "https://localhost:8080/",
          "height": 141
        }
      },
      "source": [
        "#real-time US major index trend\n",
        "df_indexes = pd.read_html(url_indexes, header = 0)\n",
        "name = df_indexes[0].get('Name').to_frame()\n",
        "d_change  = df_indexes[0].get('Change').to_frame()\n",
        "p_change = df_indexes[0].get('% Change').to_frame()\n",
        "last_price = df_indexes[0].get('Last Price').to_frame()\n",
        "index_df = pd.concat([name, last_price ,d_change, p_change], axis=1, sort=False)\n",
        "index_df[0:3]"
      ],
      "execution_count": 38,
      "outputs": [
        {
          "output_type": "execute_result",
          "data": {
            "text/html": [
              "<div>\n",
              "<style scoped>\n",
              "    .dataframe tbody tr th:only-of-type {\n",
              "        vertical-align: middle;\n",
              "    }\n",
              "\n",
              "    .dataframe tbody tr th {\n",
              "        vertical-align: top;\n",
              "    }\n",
              "\n",
              "    .dataframe thead th {\n",
              "        text-align: right;\n",
              "    }\n",
              "</style>\n",
              "<table border=\"1\" class=\"dataframe\">\n",
              "  <thead>\n",
              "    <tr style=\"text-align: right;\">\n",
              "      <th></th>\n",
              "      <th>Name</th>\n",
              "      <th>Last Price</th>\n",
              "      <th>Change</th>\n",
              "      <th>% Change</th>\n",
              "    </tr>\n",
              "  </thead>\n",
              "  <tbody>\n",
              "    <tr>\n",
              "      <th>0</th>\n",
              "      <td>S&amp;P 500</td>\n",
              "      <td>3446.83</td>\n",
              "      <td>+27.38</td>\n",
              "      <td>+0.80%</td>\n",
              "    </tr>\n",
              "    <tr>\n",
              "      <th>1</th>\n",
              "      <td>Dow 30</td>\n",
              "      <td>28425.51</td>\n",
              "      <td>+122.05</td>\n",
              "      <td>+0.43%</td>\n",
              "    </tr>\n",
              "    <tr>\n",
              "      <th>2</th>\n",
              "      <td>Nasdaq</td>\n",
              "      <td>11420.98</td>\n",
              "      <td>+56.38</td>\n",
              "      <td>+0.50%</td>\n",
              "    </tr>\n",
              "  </tbody>\n",
              "</table>\n",
              "</div>"
            ],
            "text/plain": [
              "      Name  Last Price   Change % Change\n",
              "0  S&P 500     3446.83   +27.38   +0.80%\n",
              "1   Dow 30    28425.51  +122.05   +0.43%\n",
              "2   Nasdaq    11420.98   +56.38   +0.50%"
            ]
          },
          "metadata": {
            "tags": []
          },
          "execution_count": 38
        }
      ]
    },
    {
      "cell_type": "code",
      "metadata": {
        "id": "5gujSGd9HMrm",
        "outputId": "7a86f9e8-83da-49e0-85b9-855d5659e2d5",
        "colab": {
          "base_uri": "https://localhost:8080/",
          "height": 277
        }
      },
      "source": [
        "#read ticker financial summary page\n",
        "df_summary = pd.read_html(url_summary, header = 0)\n",
        "df_summary"
      ],
      "execution_count": 39,
      "outputs": [
        {
          "output_type": "execute_result",
          "data": {
            "text/plain": [
              "[  Previous Close          11.97\n",
              " 0           Open          12.28\n",
              " 1            Bid    11.52 x 800\n",
              " 2            Ask   11.70 x 1800\n",
              " 3    Day's Range  11.43 - 12.53\n",
              " 4  52 Week Range   3.95 - 12.53\n",
              " 5         Volume        9075913\n",
              " 6    Avg. Volume        2901223,                  Market Cap        1.714B\n",
              " 0         Beta (5Y Monthly)           NaN\n",
              " 1            PE Ratio (TTM)        109.53\n",
              " 2                 EPS (TTM)          0.11\n",
              " 3             Earnings Date  Aug 06, 2020\n",
              " 4  Forward Dividend & Yield     N/A (N/A)\n",
              " 5          Ex-Dividend Date           NaN\n",
              " 6             1y Target Est          7.90]"
            ]
          },
          "metadata": {
            "tags": []
          },
          "execution_count": 39
        }
      ]
    },
    {
      "cell_type": "code",
      "metadata": {
        "id": "pTtdmrSJRZUe",
        "outputId": "37a9d004-2814-4040-e592-79fd2b52c28e",
        "colab": {
          "base_uri": "https://localhost:8080/",
          "height": 263
        }
      },
      "source": [
        "summary_2 = df_summary[0]\n",
        "summary_2"
      ],
      "execution_count": 40,
      "outputs": [
        {
          "output_type": "execute_result",
          "data": {
            "text/html": [
              "<div>\n",
              "<style scoped>\n",
              "    .dataframe tbody tr th:only-of-type {\n",
              "        vertical-align: middle;\n",
              "    }\n",
              "\n",
              "    .dataframe tbody tr th {\n",
              "        vertical-align: top;\n",
              "    }\n",
              "\n",
              "    .dataframe thead th {\n",
              "        text-align: right;\n",
              "    }\n",
              "</style>\n",
              "<table border=\"1\" class=\"dataframe\">\n",
              "  <thead>\n",
              "    <tr style=\"text-align: right;\">\n",
              "      <th></th>\n",
              "      <th>Previous Close</th>\n",
              "      <th>11.97</th>\n",
              "    </tr>\n",
              "  </thead>\n",
              "  <tbody>\n",
              "    <tr>\n",
              "      <th>0</th>\n",
              "      <td>Open</td>\n",
              "      <td>12.28</td>\n",
              "    </tr>\n",
              "    <tr>\n",
              "      <th>1</th>\n",
              "      <td>Bid</td>\n",
              "      <td>11.52 x 800</td>\n",
              "    </tr>\n",
              "    <tr>\n",
              "      <th>2</th>\n",
              "      <td>Ask</td>\n",
              "      <td>11.70 x 1800</td>\n",
              "    </tr>\n",
              "    <tr>\n",
              "      <th>3</th>\n",
              "      <td>Day's Range</td>\n",
              "      <td>11.43 - 12.53</td>\n",
              "    </tr>\n",
              "    <tr>\n",
              "      <th>4</th>\n",
              "      <td>52 Week Range</td>\n",
              "      <td>3.95 - 12.53</td>\n",
              "    </tr>\n",
              "    <tr>\n",
              "      <th>5</th>\n",
              "      <td>Volume</td>\n",
              "      <td>9075913</td>\n",
              "    </tr>\n",
              "    <tr>\n",
              "      <th>6</th>\n",
              "      <td>Avg. Volume</td>\n",
              "      <td>2901223</td>\n",
              "    </tr>\n",
              "  </tbody>\n",
              "</table>\n",
              "</div>"
            ],
            "text/plain": [
              "  Previous Close          11.97\n",
              "0           Open          12.28\n",
              "1            Bid    11.52 x 800\n",
              "2            Ask   11.70 x 1800\n",
              "3    Day's Range  11.43 - 12.53\n",
              "4  52 Week Range   3.95 - 12.53\n",
              "5         Volume        9075913\n",
              "6    Avg. Volume        2901223"
            ]
          },
          "metadata": {
            "tags": []
          },
          "execution_count": 40
        }
      ]
    },
    {
      "cell_type": "code",
      "metadata": {
        "id": "avaJdMd4HOr8",
        "outputId": "c4ee8822-6621-4aeb-c798-facd0967dd90",
        "colab": {
          "base_uri": "https://localhost:8080/",
          "height": 263
        }
      },
      "source": [
        "summary_1 = df_summary[1]\n",
        "summary_1"
      ],
      "execution_count": 41,
      "outputs": [
        {
          "output_type": "execute_result",
          "data": {
            "text/html": [
              "<div>\n",
              "<style scoped>\n",
              "    .dataframe tbody tr th:only-of-type {\n",
              "        vertical-align: middle;\n",
              "    }\n",
              "\n",
              "    .dataframe tbody tr th {\n",
              "        vertical-align: top;\n",
              "    }\n",
              "\n",
              "    .dataframe thead th {\n",
              "        text-align: right;\n",
              "    }\n",
              "</style>\n",
              "<table border=\"1\" class=\"dataframe\">\n",
              "  <thead>\n",
              "    <tr style=\"text-align: right;\">\n",
              "      <th></th>\n",
              "      <th>Market Cap</th>\n",
              "      <th>1.714B</th>\n",
              "    </tr>\n",
              "  </thead>\n",
              "  <tbody>\n",
              "    <tr>\n",
              "      <th>0</th>\n",
              "      <td>Beta (5Y Monthly)</td>\n",
              "      <td>NaN</td>\n",
              "    </tr>\n",
              "    <tr>\n",
              "      <th>1</th>\n",
              "      <td>PE Ratio (TTM)</td>\n",
              "      <td>109.53</td>\n",
              "    </tr>\n",
              "    <tr>\n",
              "      <th>2</th>\n",
              "      <td>EPS (TTM)</td>\n",
              "      <td>0.11</td>\n",
              "    </tr>\n",
              "    <tr>\n",
              "      <th>3</th>\n",
              "      <td>Earnings Date</td>\n",
              "      <td>Aug 06, 2020</td>\n",
              "    </tr>\n",
              "    <tr>\n",
              "      <th>4</th>\n",
              "      <td>Forward Dividend &amp; Yield</td>\n",
              "      <td>N/A (N/A)</td>\n",
              "    </tr>\n",
              "    <tr>\n",
              "      <th>5</th>\n",
              "      <td>Ex-Dividend Date</td>\n",
              "      <td>NaN</td>\n",
              "    </tr>\n",
              "    <tr>\n",
              "      <th>6</th>\n",
              "      <td>1y Target Est</td>\n",
              "      <td>7.90</td>\n",
              "    </tr>\n",
              "  </tbody>\n",
              "</table>\n",
              "</div>"
            ],
            "text/plain": [
              "                 Market Cap        1.714B\n",
              "0         Beta (5Y Monthly)           NaN\n",
              "1            PE Ratio (TTM)        109.53\n",
              "2                 EPS (TTM)          0.11\n",
              "3             Earnings Date  Aug 06, 2020\n",
              "4  Forward Dividend & Yield     N/A (N/A)\n",
              "5          Ex-Dividend Date           NaN\n",
              "6             1y Target Est          7.90"
            ]
          },
          "metadata": {
            "tags": []
          },
          "execution_count": 41
        }
      ]
    },
    {
      "cell_type": "code",
      "metadata": {
        "id": "t-yHL-XLVOI1",
        "outputId": "af8bd96e-db4e-4d5c-c563-03606f3a31ad",
        "colab": {
          "base_uri": "https://localhost:8080/",
          "height": 936
        }
      },
      "source": [
        "#read ticker financial statistics page\n",
        "df_stat = pd.read_html(url_stat, header =0)\n",
        "df_stat"
      ],
      "execution_count": 42,
      "outputs": [
        {
          "output_type": "execute_result",
          "data": {
            "text/plain": [
              "[                    Unnamed: 0  ... 9/30/2019\n",
              " 0      Market Cap (intraday) 5  ...   976.61M\n",
              " 1           Enterprise Value 3  ...     1.03B\n",
              " 2                 Trailing P/E  ...     11.06\n",
              " 3                Forward P/E 1  ...      9.04\n",
              " 4  PEG Ratio (5 yr expected) 1  ...      0.95\n",
              " 5            Price/Sales (ttm)  ...      2.20\n",
              " 6             Price/Book (mrq)  ...      1.87\n",
              " 7   Enterprise Value/Revenue 3  ...     10.56\n",
              " 8    Enterprise Value/EBITDA 6  ...     44.87\n",
              " \n",
              " [9 rows x 6 columns],           Beta (5Y Monthly)     N/A\n",
              " 0          52-Week Change 3  81.91%\n",
              " 1   S&P500 52-Week Change 3  16.38%\n",
              " 2            52 Week High 3   12.53\n",
              " 3             52 Week Low 3    3.95\n",
              " 4   50-Day Moving Average 3    8.73\n",
              " 5  200-Day Moving Average 3    6.96,                               Avg Vol (3 month) 3     2.9M\n",
              " 0                              Avg Vol (10 day) 3    7.52M\n",
              " 1                            Shares Outstanding 5  146.25M\n",
              " 2                                           Float  145.03M\n",
              " 3                            % Held by Insiders 1    0.75%\n",
              " 4                        % Held by Institutions 1  104.82%\n",
              " 5                   Shares Short (Sep 14, 2020) 4   25.95M\n",
              " 6                    Short Ratio (Sep 14, 2020) 4    11.98\n",
              " 7               Short % of Float (Sep 14, 2020) 4   30.42%\n",
              " 8  Short % of Shares Outstanding (Sep 14, 2020) 4   17.74%\n",
              " 9       Shares Short (prior month Aug 13, 2020) 4   24.54M,      Forward Annual Dividend Rate 4    N/A\n",
              " 0   Forward Annual Dividend Yield 4    NaN\n",
              " 1   Trailing Annual Dividend Rate 3    NaN\n",
              " 2  Trailing Annual Dividend Yield 3    NaN\n",
              " 3   5 Year Average Dividend Yield 4    NaN\n",
              " 4                    Payout Ratio 4  0.00%\n",
              " 5                   Dividend Date 3    NaN\n",
              " 6                Ex-Dividend Date 4    NaN\n",
              " 7               Last Split Factor 2    NaN\n",
              " 8                 Last Split Date 3    NaN,             Fiscal Year Ends  Dec 30, 2019\n",
              " 0  Most Recent Quarter (mrq)  Jun 29, 2020,             Profit Margin  5.07%\n",
              " 0  Operating Margin (ttm)  8.50%,    Return on Assets (ttm)  2.06%\n",
              " 0  Return on Equity (ttm)  2.87%,                      Revenue (ttm)   309.5M\n",
              " 0          Revenue Per Share (ttm)     2.12\n",
              " 1   Quarterly Revenue Growth (yoy)  -43.10%\n",
              " 2               Gross Profit (ttm)   114.9M\n",
              " 3                           EBITDA    49.1M\n",
              " 4   Net Income Avi to Common (ttm)    15.7M\n",
              " 5                Diluted EPS (ttm)     0.11\n",
              " 6  Quarterly Earnings Growth (yoy)      NaN,              Total Cash (mrq)   17.2M\n",
              " 0  Total Cash Per Share (mrq)    0.12\n",
              " 1            Total Debt (mrq)  225.4M\n",
              " 2     Total Debt/Equity (mrq)   39.46\n",
              " 3         Current Ratio (mrq)    3.48\n",
              " 4  Book Value Per Share (mrq)    3.91,       Operating Cash Flow (ttm)     16.5M\n",
              " 0  Levered Free Cash Flow (ttm)  -165.56M]"
            ]
          },
          "metadata": {
            "tags": []
          },
          "execution_count": 42
        }
      ]
    },
    {
      "cell_type": "code",
      "metadata": {
        "id": "t8f9HR7DVpVE",
        "outputId": "6fa0933e-9e2b-4a94-c8de-95c00b70d586",
        "colab": {
          "base_uri": "https://localhost:8080/",
          "height": 35
        }
      },
      "source": [
        "len(df_stat)"
      ],
      "execution_count": 43,
      "outputs": [
        {
          "output_type": "execute_result",
          "data": {
            "text/plain": [
              "10"
            ]
          },
          "metadata": {
            "tags": []
          },
          "execution_count": 43
        }
      ]
    },
    {
      "cell_type": "code",
      "metadata": {
        "id": "kua3ygdsXoiT",
        "outputId": "24ecda4f-e8bf-4adf-d3c3-e4650938cb75",
        "colab": {
          "base_uri": "https://localhost:8080/",
          "height": 325
        }
      },
      "source": [
        "stat_0 = df_stat[0]\n",
        "stat_0"
      ],
      "execution_count": 44,
      "outputs": [
        {
          "output_type": "execute_result",
          "data": {
            "text/html": [
              "<div>\n",
              "<style scoped>\n",
              "    .dataframe tbody tr th:only-of-type {\n",
              "        vertical-align: middle;\n",
              "    }\n",
              "\n",
              "    .dataframe tbody tr th {\n",
              "        vertical-align: top;\n",
              "    }\n",
              "\n",
              "    .dataframe thead th {\n",
              "        text-align: right;\n",
              "    }\n",
              "</style>\n",
              "<table border=\"1\" class=\"dataframe\">\n",
              "  <thead>\n",
              "    <tr style=\"text-align: right;\">\n",
              "      <th></th>\n",
              "      <th>Unnamed: 0</th>\n",
              "      <th>As of Date: 10/1/2020Current</th>\n",
              "      <th>6/30/2020</th>\n",
              "      <th>3/31/2020</th>\n",
              "      <th>12/31/2019</th>\n",
              "      <th>9/30/2019</th>\n",
              "    </tr>\n",
              "  </thead>\n",
              "  <tbody>\n",
              "    <tr>\n",
              "      <th>0</th>\n",
              "      <td>Market Cap (intraday) 5</td>\n",
              "      <td>1.31B</td>\n",
              "      <td>900.91M</td>\n",
              "      <td>767.50M</td>\n",
              "      <td>1.25B</td>\n",
              "      <td>976.61M</td>\n",
              "    </tr>\n",
              "    <tr>\n",
              "      <th>1</th>\n",
              "      <td>Enterprise Value 3</td>\n",
              "      <td>1.52B</td>\n",
              "      <td>1.12B</td>\n",
              "      <td>922.80M</td>\n",
              "      <td>1.33B</td>\n",
              "      <td>1.03B</td>\n",
              "    </tr>\n",
              "    <tr>\n",
              "      <th>2</th>\n",
              "      <td>Trailing P/E</td>\n",
              "      <td>81.55</td>\n",
              "      <td>29.33</td>\n",
              "      <td>15.44</td>\n",
              "      <td>16.36</td>\n",
              "      <td>11.06</td>\n",
              "    </tr>\n",
              "    <tr>\n",
              "      <th>3</th>\n",
              "      <td>Forward P/E 1</td>\n",
              "      <td>43.48</td>\n",
              "      <td>58.82</td>\n",
              "      <td>18.42</td>\n",
              "      <td>13.35</td>\n",
              "      <td>9.04</td>\n",
              "    </tr>\n",
              "    <tr>\n",
              "      <th>4</th>\n",
              "      <td>PEG Ratio (5 yr expected) 1</td>\n",
              "      <td>2.25</td>\n",
              "      <td>3.04</td>\n",
              "      <td>1.25</td>\n",
              "      <td>1.25</td>\n",
              "      <td>0.95</td>\n",
              "    </tr>\n",
              "    <tr>\n",
              "      <th>5</th>\n",
              "      <td>Price/Sales (ttm)</td>\n",
              "      <td>4.24</td>\n",
              "      <td>2.51</td>\n",
              "      <td>1.98</td>\n",
              "      <td>2.90</td>\n",
              "      <td>2.20</td>\n",
              "    </tr>\n",
              "    <tr>\n",
              "      <th>6</th>\n",
              "      <td>Price/Book (mrq)</td>\n",
              "      <td>2.30</td>\n",
              "      <td>1.67</td>\n",
              "      <td>1.41</td>\n",
              "      <td>2.30</td>\n",
              "      <td>1.87</td>\n",
              "    </tr>\n",
              "    <tr>\n",
              "      <th>7</th>\n",
              "      <td>Enterprise Value/Revenue 3</td>\n",
              "      <td>4.91</td>\n",
              "      <td>17.20</td>\n",
              "      <td>13.47</td>\n",
              "      <td>17.00</td>\n",
              "      <td>10.56</td>\n",
              "    </tr>\n",
              "    <tr>\n",
              "      <th>8</th>\n",
              "      <td>Enterprise Value/EBITDA 6</td>\n",
              "      <td>30.71</td>\n",
              "      <td>237.51</td>\n",
              "      <td>109.86</td>\n",
              "      <td>99.44</td>\n",
              "      <td>44.87</td>\n",
              "    </tr>\n",
              "  </tbody>\n",
              "</table>\n",
              "</div>"
            ],
            "text/plain": [
              "                    Unnamed: 0  ... 9/30/2019\n",
              "0      Market Cap (intraday) 5  ...   976.61M\n",
              "1           Enterprise Value 3  ...     1.03B\n",
              "2                 Trailing P/E  ...     11.06\n",
              "3                Forward P/E 1  ...      9.04\n",
              "4  PEG Ratio (5 yr expected) 1  ...      0.95\n",
              "5            Price/Sales (ttm)  ...      2.20\n",
              "6             Price/Book (mrq)  ...      1.87\n",
              "7   Enterprise Value/Revenue 3  ...     10.56\n",
              "8    Enterprise Value/EBITDA 6  ...     44.87\n",
              "\n",
              "[9 rows x 6 columns]"
            ]
          },
          "metadata": {
            "tags": []
          },
          "execution_count": 44
        }
      ]
    },
    {
      "cell_type": "code",
      "metadata": {
        "id": "uhJgDa7Jbwoa",
        "outputId": "d7a5fc88-0d99-4c18-de48-38b90af0742b",
        "colab": {
          "base_uri": "https://localhost:8080/",
          "height": 233
        }
      },
      "source": [
        "stat_1 = df_stat[1]\n",
        "stat_1"
      ],
      "execution_count": 45,
      "outputs": [
        {
          "output_type": "execute_result",
          "data": {
            "text/html": [
              "<div>\n",
              "<style scoped>\n",
              "    .dataframe tbody tr th:only-of-type {\n",
              "        vertical-align: middle;\n",
              "    }\n",
              "\n",
              "    .dataframe tbody tr th {\n",
              "        vertical-align: top;\n",
              "    }\n",
              "\n",
              "    .dataframe thead th {\n",
              "        text-align: right;\n",
              "    }\n",
              "</style>\n",
              "<table border=\"1\" class=\"dataframe\">\n",
              "  <thead>\n",
              "    <tr style=\"text-align: right;\">\n",
              "      <th></th>\n",
              "      <th>Beta (5Y Monthly)</th>\n",
              "      <th>N/A</th>\n",
              "    </tr>\n",
              "  </thead>\n",
              "  <tbody>\n",
              "    <tr>\n",
              "      <th>0</th>\n",
              "      <td>52-Week Change 3</td>\n",
              "      <td>81.91%</td>\n",
              "    </tr>\n",
              "    <tr>\n",
              "      <th>1</th>\n",
              "      <td>S&amp;P500 52-Week Change 3</td>\n",
              "      <td>16.38%</td>\n",
              "    </tr>\n",
              "    <tr>\n",
              "      <th>2</th>\n",
              "      <td>52 Week High 3</td>\n",
              "      <td>12.53</td>\n",
              "    </tr>\n",
              "    <tr>\n",
              "      <th>3</th>\n",
              "      <td>52 Week Low 3</td>\n",
              "      <td>3.95</td>\n",
              "    </tr>\n",
              "    <tr>\n",
              "      <th>4</th>\n",
              "      <td>50-Day Moving Average 3</td>\n",
              "      <td>8.73</td>\n",
              "    </tr>\n",
              "    <tr>\n",
              "      <th>5</th>\n",
              "      <td>200-Day Moving Average 3</td>\n",
              "      <td>6.96</td>\n",
              "    </tr>\n",
              "  </tbody>\n",
              "</table>\n",
              "</div>"
            ],
            "text/plain": [
              "          Beta (5Y Monthly)     N/A\n",
              "0          52-Week Change 3  81.91%\n",
              "1   S&P500 52-Week Change 3  16.38%\n",
              "2            52 Week High 3   12.53\n",
              "3             52 Week Low 3    3.95\n",
              "4   50-Day Moving Average 3    8.73\n",
              "5  200-Day Moving Average 3    6.96"
            ]
          },
          "metadata": {
            "tags": []
          },
          "execution_count": 45
        }
      ]
    },
    {
      "cell_type": "code",
      "metadata": {
        "id": "czZ_N2lXcUuo",
        "outputId": "35f42dd3-2949-4181-f707-7742f789ed6b",
        "colab": {
          "base_uri": "https://localhost:8080/",
          "height": 79
        }
      },
      "source": [
        "stat_5 = df_stat[5]\n",
        "stat_5"
      ],
      "execution_count": 46,
      "outputs": [
        {
          "output_type": "execute_result",
          "data": {
            "text/html": [
              "<div>\n",
              "<style scoped>\n",
              "    .dataframe tbody tr th:only-of-type {\n",
              "        vertical-align: middle;\n",
              "    }\n",
              "\n",
              "    .dataframe tbody tr th {\n",
              "        vertical-align: top;\n",
              "    }\n",
              "\n",
              "    .dataframe thead th {\n",
              "        text-align: right;\n",
              "    }\n",
              "</style>\n",
              "<table border=\"1\" class=\"dataframe\">\n",
              "  <thead>\n",
              "    <tr style=\"text-align: right;\">\n",
              "      <th></th>\n",
              "      <th>Profit Margin</th>\n",
              "      <th>5.07%</th>\n",
              "    </tr>\n",
              "  </thead>\n",
              "  <tbody>\n",
              "    <tr>\n",
              "      <th>0</th>\n",
              "      <td>Operating Margin (ttm)</td>\n",
              "      <td>8.50%</td>\n",
              "    </tr>\n",
              "  </tbody>\n",
              "</table>\n",
              "</div>"
            ],
            "text/plain": [
              "            Profit Margin  5.07%\n",
              "0  Operating Margin (ttm)  8.50%"
            ]
          },
          "metadata": {
            "tags": []
          },
          "execution_count": 46
        }
      ]
    },
    {
      "cell_type": "code",
      "metadata": {
        "id": "ej0kcJ_7fR8D",
        "outputId": "f7393834-c1fc-4ed9-ac12-d544c2320e62",
        "colab": {
          "base_uri": "https://localhost:8080/",
          "height": 79
        }
      },
      "source": [
        "stat_6 = df_stat[6]\n",
        "stat_6"
      ],
      "execution_count": 47,
      "outputs": [
        {
          "output_type": "execute_result",
          "data": {
            "text/html": [
              "<div>\n",
              "<style scoped>\n",
              "    .dataframe tbody tr th:only-of-type {\n",
              "        vertical-align: middle;\n",
              "    }\n",
              "\n",
              "    .dataframe tbody tr th {\n",
              "        vertical-align: top;\n",
              "    }\n",
              "\n",
              "    .dataframe thead th {\n",
              "        text-align: right;\n",
              "    }\n",
              "</style>\n",
              "<table border=\"1\" class=\"dataframe\">\n",
              "  <thead>\n",
              "    <tr style=\"text-align: right;\">\n",
              "      <th></th>\n",
              "      <th>Return on Assets (ttm)</th>\n",
              "      <th>2.06%</th>\n",
              "    </tr>\n",
              "  </thead>\n",
              "  <tbody>\n",
              "    <tr>\n",
              "      <th>0</th>\n",
              "      <td>Return on Equity (ttm)</td>\n",
              "      <td>2.87%</td>\n",
              "    </tr>\n",
              "  </tbody>\n",
              "</table>\n",
              "</div>"
            ],
            "text/plain": [
              "   Return on Assets (ttm)  2.06%\n",
              "0  Return on Equity (ttm)  2.87%"
            ]
          },
          "metadata": {
            "tags": []
          },
          "execution_count": 47
        }
      ]
    },
    {
      "cell_type": "code",
      "metadata": {
        "id": "HVxwJAuZgLQv",
        "outputId": "a24a1ca8-e1c1-4fd7-f718-8355c6c9fea6",
        "colab": {
          "base_uri": "https://localhost:8080/",
          "height": 202
        }
      },
      "source": [
        "stat_8 = df_stat[8]\n",
        "stat_8"
      ],
      "execution_count": 48,
      "outputs": [
        {
          "output_type": "execute_result",
          "data": {
            "text/html": [
              "<div>\n",
              "<style scoped>\n",
              "    .dataframe tbody tr th:only-of-type {\n",
              "        vertical-align: middle;\n",
              "    }\n",
              "\n",
              "    .dataframe tbody tr th {\n",
              "        vertical-align: top;\n",
              "    }\n",
              "\n",
              "    .dataframe thead th {\n",
              "        text-align: right;\n",
              "    }\n",
              "</style>\n",
              "<table border=\"1\" class=\"dataframe\">\n",
              "  <thead>\n",
              "    <tr style=\"text-align: right;\">\n",
              "      <th></th>\n",
              "      <th>Total Cash (mrq)</th>\n",
              "      <th>17.2M</th>\n",
              "    </tr>\n",
              "  </thead>\n",
              "  <tbody>\n",
              "    <tr>\n",
              "      <th>0</th>\n",
              "      <td>Total Cash Per Share (mrq)</td>\n",
              "      <td>0.12</td>\n",
              "    </tr>\n",
              "    <tr>\n",
              "      <th>1</th>\n",
              "      <td>Total Debt (mrq)</td>\n",
              "      <td>225.4M</td>\n",
              "    </tr>\n",
              "    <tr>\n",
              "      <th>2</th>\n",
              "      <td>Total Debt/Equity (mrq)</td>\n",
              "      <td>39.46</td>\n",
              "    </tr>\n",
              "    <tr>\n",
              "      <th>3</th>\n",
              "      <td>Current Ratio (mrq)</td>\n",
              "      <td>3.48</td>\n",
              "    </tr>\n",
              "    <tr>\n",
              "      <th>4</th>\n",
              "      <td>Book Value Per Share (mrq)</td>\n",
              "      <td>3.91</td>\n",
              "    </tr>\n",
              "  </tbody>\n",
              "</table>\n",
              "</div>"
            ],
            "text/plain": [
              "             Total Cash (mrq)   17.2M\n",
              "0  Total Cash Per Share (mrq)    0.12\n",
              "1            Total Debt (mrq)  225.4M\n",
              "2     Total Debt/Equity (mrq)   39.46\n",
              "3         Current Ratio (mrq)    3.48\n",
              "4  Book Value Per Share (mrq)    3.91"
            ]
          },
          "metadata": {
            "tags": []
          },
          "execution_count": 48
        }
      ]
    },
    {
      "cell_type": "code",
      "metadata": {
        "id": "UCMxcWf4iN2v",
        "outputId": "642e50c6-357e-43f0-8d27-cfda22be0271",
        "colab": {
          "base_uri": "https://localhost:8080/",
          "height": 693
        }
      },
      "source": [
        "#read ticker financial statistics page\n",
        "df_analysis = pd.read_html(url_analysis, header =0)\n",
        "df_analysis"
      ],
      "execution_count": 49,
      "outputs": [
        {
          "output_type": "execute_result",
          "data": {
            "text/plain": [
              "[  Earnings Estimate  ...  Next Year (2021)\n",
              " 0   No. of Analysts  ...             14.00\n",
              " 1     Avg. Estimate  ...              0.24\n",
              " 2      Low Estimate  ...              0.12\n",
              " 3     High Estimate  ...              0.55\n",
              " 4      Year Ago EPS  ...              0.07\n",
              " \n",
              " [5 rows x 5 columns],           Revenue Estimate  ... Next Year (2021)\n",
              " 0          No. of Analysts  ...               12\n",
              " 1            Avg. Estimate  ...          375.83M\n",
              " 2             Low Estimate  ...             302M\n",
              " 3            High Estimate  ...             501M\n",
              " 4           Year Ago Sales  ...          303.11M\n",
              " 5  Sales Growth (year/est)  ...           24.00%\n",
              " \n",
              " [6 rows x 5 columns],   Earnings History 9/29/2019 12/30/2019 3/30/2020 6/29/2020\n",
              " 0         EPS Est.      0.13       0.05      0.04      0.02\n",
              " 1       EPS Actual      0.12       0.05      0.02         0\n",
              " 2       Difference     -0.01          0     -0.02     -0.02\n",
              " 3       Surprise %    -7.70%      0.00%   -50.00%  -100.00%,           EPS Trend  ...  Next Year (2021)\n",
              " 0  Current Estimate  ...              0.24\n",
              " 1        7 Days Ago  ...              0.24\n",
              " 2       30 Days Ago  ...              0.24\n",
              " 3       60 Days Ago  ...              0.29\n",
              " 4       90 Days Ago  ...              0.30\n",
              " \n",
              " [5 rows x 5 columns],        EPS Revisions  ...  Next Year (2021)\n",
              " 0     Up Last 7 Days  ...               1.0\n",
              " 1    Up Last 30 Days  ...               1.0\n",
              " 2   Down Last 7 Days  ...               NaN\n",
              " 3  Down Last 30 Days  ...               NaN\n",
              " \n",
              " [4 rows x 5 columns],            Growth Estimates     LTHM  Industry  Sector(s)  S&P 500\n",
              " 0              Current Qtr.  -91.70%       NaN        NaN      NaN\n",
              " 1                 Next Qtr.  -40.00%       NaN        NaN      NaN\n",
              " 2              Current Year  -83.30%       NaN        NaN      NaN\n",
              " 3                 Next Year  242.90%       NaN        NaN      NaN\n",
              " 4  Next 5 Years (per annum)    6.15%       NaN        NaN      NaN\n",
              " 5  Past 5 Years (per annum)      NaN       NaN        NaN      NaN]"
            ]
          },
          "metadata": {
            "tags": []
          },
          "execution_count": 49
        }
      ]
    },
    {
      "cell_type": "code",
      "metadata": {
        "id": "CKMSCRRojGgf",
        "outputId": "0278a9e5-4ac1-45d4-81a9-c17d495f3302",
        "colab": {
          "base_uri": "https://localhost:8080/",
          "height": 233
        }
      },
      "source": [
        "analysis_5 = df_analysis[5]\n",
        "analysis_5"
      ],
      "execution_count": 50,
      "outputs": [
        {
          "output_type": "execute_result",
          "data": {
            "text/html": [
              "<div>\n",
              "<style scoped>\n",
              "    .dataframe tbody tr th:only-of-type {\n",
              "        vertical-align: middle;\n",
              "    }\n",
              "\n",
              "    .dataframe tbody tr th {\n",
              "        vertical-align: top;\n",
              "    }\n",
              "\n",
              "    .dataframe thead th {\n",
              "        text-align: right;\n",
              "    }\n",
              "</style>\n",
              "<table border=\"1\" class=\"dataframe\">\n",
              "  <thead>\n",
              "    <tr style=\"text-align: right;\">\n",
              "      <th></th>\n",
              "      <th>Growth Estimates</th>\n",
              "      <th>LTHM</th>\n",
              "      <th>Industry</th>\n",
              "      <th>Sector(s)</th>\n",
              "      <th>S&amp;P 500</th>\n",
              "    </tr>\n",
              "  </thead>\n",
              "  <tbody>\n",
              "    <tr>\n",
              "      <th>0</th>\n",
              "      <td>Current Qtr.</td>\n",
              "      <td>-91.70%</td>\n",
              "      <td>NaN</td>\n",
              "      <td>NaN</td>\n",
              "      <td>NaN</td>\n",
              "    </tr>\n",
              "    <tr>\n",
              "      <th>1</th>\n",
              "      <td>Next Qtr.</td>\n",
              "      <td>-40.00%</td>\n",
              "      <td>NaN</td>\n",
              "      <td>NaN</td>\n",
              "      <td>NaN</td>\n",
              "    </tr>\n",
              "    <tr>\n",
              "      <th>2</th>\n",
              "      <td>Current Year</td>\n",
              "      <td>-83.30%</td>\n",
              "      <td>NaN</td>\n",
              "      <td>NaN</td>\n",
              "      <td>NaN</td>\n",
              "    </tr>\n",
              "    <tr>\n",
              "      <th>3</th>\n",
              "      <td>Next Year</td>\n",
              "      <td>242.90%</td>\n",
              "      <td>NaN</td>\n",
              "      <td>NaN</td>\n",
              "      <td>NaN</td>\n",
              "    </tr>\n",
              "    <tr>\n",
              "      <th>4</th>\n",
              "      <td>Next 5 Years (per annum)</td>\n",
              "      <td>6.15%</td>\n",
              "      <td>NaN</td>\n",
              "      <td>NaN</td>\n",
              "      <td>NaN</td>\n",
              "    </tr>\n",
              "    <tr>\n",
              "      <th>5</th>\n",
              "      <td>Past 5 Years (per annum)</td>\n",
              "      <td>NaN</td>\n",
              "      <td>NaN</td>\n",
              "      <td>NaN</td>\n",
              "      <td>NaN</td>\n",
              "    </tr>\n",
              "  </tbody>\n",
              "</table>\n",
              "</div>"
            ],
            "text/plain": [
              "           Growth Estimates     LTHM  Industry  Sector(s)  S&P 500\n",
              "0              Current Qtr.  -91.70%       NaN        NaN      NaN\n",
              "1                 Next Qtr.  -40.00%       NaN        NaN      NaN\n",
              "2              Current Year  -83.30%       NaN        NaN      NaN\n",
              "3                 Next Year  242.90%       NaN        NaN      NaN\n",
              "4  Next 5 Years (per annum)    6.15%       NaN        NaN      NaN\n",
              "5  Past 5 Years (per annum)      NaN       NaN        NaN      NaN"
            ]
          },
          "metadata": {
            "tags": []
          },
          "execution_count": 50
        }
      ]
    },
    {
      "cell_type": "markdown",
      "metadata": {
        "id": "SfGG5alJdzW0"
      },
      "source": [
        "*   [Operating margin](https://www.investopedia.com/terms/o/operatingmargin.asp) is the profit a company makes on a dollar of sales after paying for variable costs but before paying any interest or taxes\n",
        "*   [EPS](https://www.investopedia.com/terms/e/eps.asp) indicates how much money a company makes for each share of its stock\n",
        "*   [Beta](https://www.investopedia.com/terms/b/beta.asp) is a measure of the volatility—or systematic risk—of a security or portfolio compared to the market as a whole\n",
        "*   [Enterprise Value/EBITDA](https://www.investopedia.com/ask/answers/072715/what-considered-healthy-evebitda.asp#:~:text=The%20enterprise%2Dvalue%2Dto%2D,10%20are%20seen%20as%20healthy.) compares the value of a company—debt included—to the company’s cash earnings less non-cash expenses\n",
        "*   [Return on equity (ROE)](https://www.investopedia.com/terms/r/returnonequity.asp) measures how effectively management is using a company’s assets to create profits\n",
        "*   [Debt-to-Equity Ratio (D/E)](https://www.investopedia.com/terms/d/debtequityratio.asp) is a measure of the degree to which a company is financing its operations through debt versus wholly-owned funds\n",
        "\n",
        "Note: GE stands for Growth Estimates per annum. For example, GE Next Year means growth estimates for next year.\n",
        "\n"
      ]
    },
    {
      "cell_type": "code",
      "metadata": {
        "id": "X_kZYdyIDiav",
        "outputId": "d22a881a-1e83-4edf-b004-94585aeaadb6",
        "colab": {
          "base_uri": "https://localhost:8080/",
          "height": 169
        }
      },
      "source": [
        "#create stock key metrics DataFrame\n",
        "stock_metrics= {\n",
        "    'Company': stock.info.get('shortName'),\n",
        "    'Ticker': ticker,\n",
        "    'Sector': stock.info.get('sector'),\n",
        "    '52 Week Low': stat_1.loc[3][1],\n",
        "    '52 Week High': stat_1.loc[2][1],\n",
        "    'Price': round(si.get_live_price(ticker),2),\n",
        "    'Purchase Price': p_price,\n",
        "    'Shares Owned': shares,\n",
        "    'Capital Gain ($)': (round(si.get_live_price(ticker),2) - p_price)*shares,\n",
        "    'Capital Gain (%)': \"{:.2%}\".format(stock_metrics['Capital Gain ($)']/(p_price*shares)),\n",
        "    'EPS' : summary_1.loc[2][1],\n",
        "    'Beta' : stock.info.get('beta'),\n",
        "    'Enterprise Value/EBITDA': stat_0.loc[8][1],\n",
        "    'Operating Margin': stat_5.loc[0][1],\n",
        "    'ROE':stat_6.loc[0][1],\n",
        "    'Debt-to-Equity': stat_8.loc[2][1],\n",
        "    'GE Next Year': analysis_5.loc[3][1],\n",
        "    'GE Next 5 Years': analysis_5.loc[4][1],\n",
        "    'GE Past 5 Years': analysis_5.loc[5][1]\n",
        "    }\n",
        "stock_df = pd.DataFrame(data = stock_metrics, index = [0])\n",
        "stock_df"
      ],
      "execution_count": 55,
      "outputs": [
        {
          "output_type": "execute_result",
          "data": {
            "text/html": [
              "<div>\n",
              "<style scoped>\n",
              "    .dataframe tbody tr th:only-of-type {\n",
              "        vertical-align: middle;\n",
              "    }\n",
              "\n",
              "    .dataframe tbody tr th {\n",
              "        vertical-align: top;\n",
              "    }\n",
              "\n",
              "    .dataframe thead th {\n",
              "        text-align: right;\n",
              "    }\n",
              "</style>\n",
              "<table border=\"1\" class=\"dataframe\">\n",
              "  <thead>\n",
              "    <tr style=\"text-align: right;\">\n",
              "      <th></th>\n",
              "      <th>Company</th>\n",
              "      <th>Ticker</th>\n",
              "      <th>Sector</th>\n",
              "      <th>52 Week Low</th>\n",
              "      <th>52 Week High</th>\n",
              "      <th>Price</th>\n",
              "      <th>Purchase Price</th>\n",
              "      <th>Shares Owned</th>\n",
              "      <th>Capital Gain ($)</th>\n",
              "      <th>Capital Gain (%)</th>\n",
              "      <th>EPS</th>\n",
              "      <th>Beta</th>\n",
              "      <th>Enterprise Value/EBITDA</th>\n",
              "      <th>Operating Margin</th>\n",
              "      <th>ROE</th>\n",
              "      <th>Debt-to-Equity</th>\n",
              "      <th>GE Next Year</th>\n",
              "      <th>GE Next 5 Years</th>\n",
              "      <th>GE Past 5 Years</th>\n",
              "    </tr>\n",
              "  </thead>\n",
              "  <tbody>\n",
              "    <tr>\n",
              "      <th>0</th>\n",
              "      <td>Livent Corporation</td>\n",
              "      <td>LTHM</td>\n",
              "      <td>Basic Materials</td>\n",
              "      <td>3.95</td>\n",
              "      <td>12.53</td>\n",
              "      <td>11.72</td>\n",
              "      <td>11.51</td>\n",
              "      <td>10</td>\n",
              "      <td>2.1</td>\n",
              "      <td>1.82%</td>\n",
              "      <td>0.11</td>\n",
              "      <td>None</td>\n",
              "      <td>30.71</td>\n",
              "      <td>8.50%</td>\n",
              "      <td>2.87%</td>\n",
              "      <td>39.46</td>\n",
              "      <td>242.90%</td>\n",
              "      <td>6.15%</td>\n",
              "      <td>NaN</td>\n",
              "    </tr>\n",
              "  </tbody>\n",
              "</table>\n",
              "</div>"
            ],
            "text/plain": [
              "              Company Ticker  ... GE Next 5 Years GE Past 5 Years\n",
              "0  Livent Corporation   LTHM  ...           6.15%             NaN\n",
              "\n",
              "[1 rows x 19 columns]"
            ]
          },
          "metadata": {
            "tags": []
          },
          "execution_count": 55
        }
      ]
    },
    {
      "cell_type": "code",
      "metadata": {
        "id": "YBf88lPOChTc"
      },
      "source": [
        ""
      ],
      "execution_count": null,
      "outputs": []
    }
  ]
}