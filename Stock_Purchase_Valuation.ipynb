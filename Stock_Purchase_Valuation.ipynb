{
  "nbformat": 4,
  "nbformat_minor": 0,
  "metadata": {
    "colab": {
      "name": "Stock Purchase Valuation.ipynb",
      "provenance": [],
      "authorship_tag": "ABX9TyNe/F1cbiYR6Lp7GCUjwf/f",
      "include_colab_link": true
    },
    "kernelspec": {
      "name": "python3",
      "display_name": "Python 3"
    }
  },
  "cells": [
    {
      "cell_type": "markdown",
      "metadata": {
        "id": "view-in-github",
        "colab_type": "text"
      },
      "source": [
        "<a href=\"https://colab.research.google.com/github/juwimana/Trading/blob/main/Stock_Purchase_Valuation.ipynb\" target=\"_parent\"><img src=\"https://colab.research.google.com/assets/colab-badge.svg\" alt=\"Open In Colab\"/></a>"
      ]
    },
    {
      "cell_type": "code",
      "metadata": {
        "id": "vFPmek02-PrB",
        "outputId": "f9b03772-cff2-459b-d40f-5dad3e9b8192",
        "colab": {
          "base_uri": "https://localhost:8080/",
          "height": 35
        }
      },
      "source": [
        "#import packages\n",
        "import datetime as dt\n",
        "import pandas as pd\n",
        "import pandas_datareader.data as data\n",
        "from pandas_datareader._utils import RemoteDataError\n",
        "import yfinance as yf\n",
        "import locale #currency formatting\n",
        "locale.setlocale(locale.LC_ALL, '')"
      ],
      "execution_count": 130,
      "outputs": [
        {
          "output_type": "execute_result",
          "data": {
            "application/vnd.google.colaboratory.intrinsic+json": {
              "type": "string"
            },
            "text/plain": [
              "'en_US.UTF-8'"
            ]
          },
          "metadata": {
            "tags": []
          },
          "execution_count": 130
        }
      ]
    },
    {
      "cell_type": "code",
      "metadata": {
        "id": "c7eT7Bxq_8NO"
      },
      "source": [
        "start_date =dt.datetime(2020,10,1)\n",
        "end_date = dt.date.today()\n",
        "stock_data =''\n",
        "\n",
        "#stock ticker\n",
        "ticker = 'MSFT'\n",
        "stock = yf.Ticker(ticker)"
      ],
      "execution_count": 131,
      "outputs": []
    },
    {
      "cell_type": "code",
      "metadata": {
        "id": "G10rdk-u-YX5",
        "outputId": "23a65360-429a-474c-c144-66f3d4c4207d",
        "colab": {
          "base_uri": "https://localhost:8080/",
          "height": 233
        }
      },
      "source": [
        "#general stock prices\n",
        "df_prices = yf.download(ticker, \n",
        "                      start=start_date, \n",
        "                      end=end_date, \n",
        "                      progress=False)\n",
        "df_prices.head()"
      ],
      "execution_count": 94,
      "outputs": [
        {
          "output_type": "execute_result",
          "data": {
            "text/html": [
              "<div>\n",
              "<style scoped>\n",
              "    .dataframe tbody tr th:only-of-type {\n",
              "        vertical-align: middle;\n",
              "    }\n",
              "\n",
              "    .dataframe tbody tr th {\n",
              "        vertical-align: top;\n",
              "    }\n",
              "\n",
              "    .dataframe thead th {\n",
              "        text-align: right;\n",
              "    }\n",
              "</style>\n",
              "<table border=\"1\" class=\"dataframe\">\n",
              "  <thead>\n",
              "    <tr style=\"text-align: right;\">\n",
              "      <th></th>\n",
              "      <th>Open</th>\n",
              "      <th>High</th>\n",
              "      <th>Low</th>\n",
              "      <th>Close</th>\n",
              "      <th>Adj Close</th>\n",
              "      <th>Volume</th>\n",
              "    </tr>\n",
              "    <tr>\n",
              "      <th>Date</th>\n",
              "      <th></th>\n",
              "      <th></th>\n",
              "      <th></th>\n",
              "      <th></th>\n",
              "      <th></th>\n",
              "      <th></th>\n",
              "    </tr>\n",
              "  </thead>\n",
              "  <tbody>\n",
              "    <tr>\n",
              "      <th>2020-10-01</th>\n",
              "      <td>213.490005</td>\n",
              "      <td>213.990005</td>\n",
              "      <td>211.320007</td>\n",
              "      <td>212.460007</td>\n",
              "      <td>212.460007</td>\n",
              "      <td>27158400</td>\n",
              "    </tr>\n",
              "    <tr>\n",
              "      <th>2020-10-02</th>\n",
              "      <td>208.000000</td>\n",
              "      <td>210.990005</td>\n",
              "      <td>205.539993</td>\n",
              "      <td>206.190002</td>\n",
              "      <td>206.190002</td>\n",
              "      <td>33154800</td>\n",
              "    </tr>\n",
              "    <tr>\n",
              "      <th>2020-10-05</th>\n",
              "      <td>207.220001</td>\n",
              "      <td>210.410004</td>\n",
              "      <td>206.979996</td>\n",
              "      <td>210.380005</td>\n",
              "      <td>210.380005</td>\n",
              "      <td>21331600</td>\n",
              "    </tr>\n",
              "    <tr>\n",
              "      <th>2020-10-06</th>\n",
              "      <td>208.820007</td>\n",
              "      <td>210.179993</td>\n",
              "      <td>204.820007</td>\n",
              "      <td>205.910004</td>\n",
              "      <td>205.910004</td>\n",
              "      <td>28554300</td>\n",
              "    </tr>\n",
              "    <tr>\n",
              "      <th>2020-10-07</th>\n",
              "      <td>207.059998</td>\n",
              "      <td>210.110001</td>\n",
              "      <td>206.720001</td>\n",
              "      <td>209.830002</td>\n",
              "      <td>209.830002</td>\n",
              "      <td>25648100</td>\n",
              "    </tr>\n",
              "  </tbody>\n",
              "</table>\n",
              "</div>"
            ],
            "text/plain": [
              "                  Open        High  ...   Adj Close    Volume\n",
              "Date                                ...                      \n",
              "2020-10-01  213.490005  213.990005  ...  212.460007  27158400\n",
              "2020-10-02  208.000000  210.990005  ...  206.190002  33154800\n",
              "2020-10-05  207.220001  210.410004  ...  210.380005  21331600\n",
              "2020-10-06  208.820007  210.179993  ...  205.910004  28554300\n",
              "2020-10-07  207.059998  210.110001  ...  209.830002  25648100\n",
              "\n",
              "[5 rows x 6 columns]"
            ]
          },
          "metadata": {
            "tags": []
          },
          "execution_count": 94
        }
      ]
    },
    {
      "cell_type": "code",
      "metadata": {
        "id": "JXz4NCnhFmCn"
      },
      "source": [
        "#incomplete url string\n",
        "str_summary = 'https://finance.yahoo.com/quote/{}?p={}&.tsrc=fin-srch'\n",
        "str_stat = 'https://finance.yahoo.com/quote/{}/key-statistics?p={}'\n",
        "str_analysis = 'https://finance.yahoo.com/quote/{}/analysis?p={}'\n",
        "str_financials= 'https://finance.yahoo.com/quote/{}/financials?p={}'\n",
        "\n",
        "#complete website url\n",
        "url_summary = str_summary.format(ticker,ticker)\n",
        "url_stat = str_stat.format(ticker,ticker)\n",
        "url_analysis = str_analysis.format(ticker,ticker)\n",
        "url_financials = str_financials.format(ticker,ticker)\n",
        "\n",
        "print(url_summary)\n",
        "print(url_stat)\n",
        "print(url_analysis)\n",
        "print(url_financials)"
      ],
      "execution_count": null,
      "outputs": []
    },
    {
      "cell_type": "code",
      "metadata": {
        "id": "5gujSGd9HMrm"
      },
      "source": [
        "#read ticker financial summary page\n",
        "df_summary = pd.read_html(url_summary, header = 0)\n",
        "df_summary"
      ],
      "execution_count": null,
      "outputs": []
    },
    {
      "cell_type": "code",
      "metadata": {
        "id": "pTtdmrSJRZUe"
      },
      "source": [
        "summary_2 = df_summary[0]\n",
        "summary_2"
      ],
      "execution_count": null,
      "outputs": []
    },
    {
      "cell_type": "code",
      "metadata": {
        "id": "avaJdMd4HOr8"
      },
      "source": [
        "summary_1 = df_summary[1]\n",
        "summary_1"
      ],
      "execution_count": null,
      "outputs": []
    },
    {
      "cell_type": "code",
      "metadata": {
        "id": "t-yHL-XLVOI1"
      },
      "source": [
        "#read ticker financial statistics page\n",
        "df_stat = pd.read_html(url_stat, header =0)\n",
        "df_stat"
      ],
      "execution_count": null,
      "outputs": []
    },
    {
      "cell_type": "code",
      "metadata": {
        "id": "t8f9HR7DVpVE"
      },
      "source": [
        "len(df_stat)"
      ],
      "execution_count": null,
      "outputs": []
    },
    {
      "cell_type": "code",
      "metadata": {
        "id": "kua3ygdsXoiT"
      },
      "source": [
        "stat_0 = df_stat[0]\n",
        "stat_0"
      ],
      "execution_count": null,
      "outputs": []
    },
    {
      "cell_type": "code",
      "metadata": {
        "id": "uhJgDa7Jbwoa"
      },
      "source": [
        "stat_1 = df_stat[1]\n",
        "stat_1"
      ],
      "execution_count": null,
      "outputs": []
    },
    {
      "cell_type": "code",
      "metadata": {
        "id": "czZ_N2lXcUuo"
      },
      "source": [
        "stat_5 = df_stat[5]\n",
        "stat_5"
      ],
      "execution_count": null,
      "outputs": []
    },
    {
      "cell_type": "code",
      "metadata": {
        "id": "ej0kcJ_7fR8D"
      },
      "source": [
        "stat_6 = df_stat[6]\n",
        "stat_6"
      ],
      "execution_count": null,
      "outputs": []
    },
    {
      "cell_type": "code",
      "metadata": {
        "id": "HVxwJAuZgLQv"
      },
      "source": [
        "stat_8 = df_stat[8]\n",
        "stat_8"
      ],
      "execution_count": null,
      "outputs": []
    },
    {
      "cell_type": "code",
      "metadata": {
        "id": "UCMxcWf4iN2v"
      },
      "source": [
        "#read ticker financial statistics page\n",
        "df_analysis = pd.read_html(url_analysis, header =0)\n",
        "df_analysis"
      ],
      "execution_count": null,
      "outputs": []
    },
    {
      "cell_type": "code",
      "metadata": {
        "id": "CKMSCRRojGgf"
      },
      "source": [
        "analysis_5 = df_analysis[5]\n",
        "analysis_5"
      ],
      "execution_count": null,
      "outputs": []
    },
    {
      "cell_type": "markdown",
      "metadata": {
        "id": "SfGG5alJdzW0"
      },
      "source": [
        "*   [Operating margin](https://www.investopedia.com/terms/o/operatingmargin.asp) is the profit a company makes on a dollar of sales after paying for variable costs but before paying any interest or taxes\n",
        "*   [EPS](https://www.investopedia.com/terms/e/eps.asp) indicates how much money a company makes for each share of its stock\n",
        "*   [Beta](https://www.investopedia.com/terms/b/beta.asp) is a measure of the volatility—or systematic risk—of a security or portfolio compared to the market as a whole\n",
        "*   [Enterprise Value/EBITDA](https://www.investopedia.com/ask/answers/072715/what-considered-healthy-evebitda.asp#:~:text=The%20enterprise%2Dvalue%2Dto%2D,10%20are%20seen%20as%20healthy.) compares the value of a company—debt included—to the company’s cash earnings less non-cash expenses\n",
        "*   [Return on equity (ROE)](https://www.investopedia.com/terms/r/returnonequity.asp) measures how effectively management is using a company’s assets to create profits\n",
        "*   [Debt-to-Equity Ratio (D/E)](https://www.investopedia.com/terms/d/debtequityratio.asp) is a measure of the degree to which a company is financing its operations through debt versus wholly-owned funds\n",
        "\n",
        "Note: GE stands for Growth Estimates per annum. For example, GE Next Year means growth estimates for next year.\n",
        "\n"
      ]
    },
    {
      "cell_type": "code",
      "metadata": {
        "id": "X_kZYdyIDiav",
        "outputId": "759e70e0-c70b-4229-967a-01494ab1ab20",
        "colab": {
          "base_uri": "https://localhost:8080/",
          "height": 131
        }
      },
      "source": [
        "#create stock key metrics DataFrame\n",
        "stock_metrics= {\n",
        "    'Company': stock.info.get('shortName'),\n",
        "    'Ticker': ticker,\n",
        "    'Sector': stock.info.get('sector'),\n",
        "    'Market Cap': locale.currency(stock.info.get('marketCap'),grouping=True),\n",
        "    '52 Week Low': stat_1.loc[3][1],\n",
        "    '52 Week High': stat_1.loc[2][1],\n",
        "    'EPS' : summary_1.loc[2][1],\n",
        "    'Beta' : stock.info.get('beta'),\n",
        "    'Enterprise Value/EBITDA': stat_0.loc[8][1],\n",
        "    'Operating Margin': stat_5.loc[0][1],\n",
        "    'ROE':stat_6.loc[0][1],\n",
        "    'Debt-to-Equity': stat_8.loc[2][1],\n",
        "    'GE Next Year': analysis_5.loc[3][1],\n",
        "    'GE Next 5 Years': analysis_5.loc[4][1],\n",
        "    'GE Past 5 Years': analysis_5.loc[5][1]\n",
        "    }\n",
        "stock_df = pd.DataFrame(data = stock_metrics, index = [0])\n",
        "stock_df"
      ],
      "execution_count": 221,
      "outputs": [
        {
          "output_type": "execute_result",
          "data": {
            "text/html": [
              "<div>\n",
              "<style scoped>\n",
              "    .dataframe tbody tr th:only-of-type {\n",
              "        vertical-align: middle;\n",
              "    }\n",
              "\n",
              "    .dataframe tbody tr th {\n",
              "        vertical-align: top;\n",
              "    }\n",
              "\n",
              "    .dataframe thead th {\n",
              "        text-align: right;\n",
              "    }\n",
              "</style>\n",
              "<table border=\"1\" class=\"dataframe\">\n",
              "  <thead>\n",
              "    <tr style=\"text-align: right;\">\n",
              "      <th></th>\n",
              "      <th>Company</th>\n",
              "      <th>Ticker</th>\n",
              "      <th>Sector</th>\n",
              "      <th>Market Cap</th>\n",
              "      <th>52 Week Low</th>\n",
              "      <th>52 Week High</th>\n",
              "      <th>EPS</th>\n",
              "      <th>Beta</th>\n",
              "      <th>Enterprise Value/EBITDA</th>\n",
              "      <th>Operating Margin</th>\n",
              "      <th>ROE</th>\n",
              "      <th>Debt-to-Equity</th>\n",
              "      <th>GE Next Year</th>\n",
              "      <th>GE Next 5 Years</th>\n",
              "      <th>GE Past 5 Years</th>\n",
              "    </tr>\n",
              "  </thead>\n",
              "  <tbody>\n",
              "    <tr>\n",
              "      <th>0</th>\n",
              "      <td>Microsoft Corporation</td>\n",
              "      <td>MSFT</td>\n",
              "      <td>Technology</td>\n",
              "      <td>$1,587,919,978,496.00</td>\n",
              "      <td>132.52</td>\n",
              "      <td>232.86</td>\n",
              "      <td>5.76</td>\n",
              "      <td>0.923331</td>\n",
              "      <td>21.52</td>\n",
              "      <td>37.03%</td>\n",
              "      <td>40.14%</td>\n",
              "      <td>69.41</td>\n",
              "      <td>13.80%</td>\n",
              "      <td>15.25%</td>\n",
              "      <td>18.17%</td>\n",
              "    </tr>\n",
              "  </tbody>\n",
              "</table>\n",
              "</div>"
            ],
            "text/plain": [
              "                 Company Ticker  ... GE Next 5 Years GE Past 5 Years\n",
              "0  Microsoft Corporation   MSFT  ...          15.25%          18.17%\n",
              "\n",
              "[1 rows x 15 columns]"
            ]
          },
          "metadata": {
            "tags": []
          },
          "execution_count": 221
        }
      ]
    }
  ]
}