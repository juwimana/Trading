{
  "nbformat": 4,
  "nbformat_minor": 0,
  "metadata": {
    "colab": {
      "name": "Stock Purchase Valuation.ipynb",
      "provenance": [],
      "authorship_tag": "ABX9TyNAUxdGQJ1muGCxeqpl4zwT",
      "include_colab_link": true
    },
    "kernelspec": {
      "name": "python3",
      "display_name": "Python 3"
    }
  },
  "cells": [
    {
      "cell_type": "markdown",
      "metadata": {
        "id": "view-in-github",
        "colab_type": "text"
      },
      "source": [
        "<a href=\"https://colab.research.google.com/github/juwimana/Trading/blob/main/Stock_Purchase_Valuation.ipynb\" target=\"_parent\"><img src=\"https://colab.research.google.com/assets/colab-badge.svg\" alt=\"Open In Colab\"/></a>"
      ]
    },
    {
      "cell_type": "code",
      "metadata": {
        "id": "vFPmek02-PrB"
      },
      "source": [
        "#import packages\n",
        "import datetime as dt\n",
        "import pandas as pd\n",
        "\n",
        "#visualization packages\n",
        "import seaborn as sns\n",
        "import matplotlib.pyplot as plt\n",
        "\n",
        "#install mplfinance package\n",
        "!pip install mplfinance\n",
        "import mplfinance as mpf\n",
        "\n",
        "#install python package yfinance\n",
        "!pip install yfinance\n",
        "import yfinance as yf\n",
        "\n",
        "# import stock_info module from yahoo_fin\n",
        "!pip install yahoo_fin\n",
        "from yahoo_fin import stock_info as si\n",
        "\n",
        "#styling package\n",
        "from IPython.display import HTML\n",
        "\n",
        "#currency formatting\n",
        "import locale \n",
        "locale.setlocale(locale.LC_ALL, '')"
      ],
      "execution_count": null,
      "outputs": []
    },
    {
      "cell_type": "code",
      "metadata": {
        "id": "c7eT7Bxq_8NO"
      },
      "source": [
        "start_date =dt.datetime(2020,10,1)\n",
        "end_date = dt.date.today()\n",
        "stock_data =''\n",
        "\n",
        "#stock ticker\n",
        "ticker = 'BA'\n",
        "stock = yf.Ticker(ticker)\n",
        "p_price = 11.51\n",
        "shares = 10"
      ],
      "execution_count": 2,
      "outputs": []
    },
    {
      "cell_type": "code",
      "metadata": {
        "id": "G10rdk-u-YX5",
        "outputId": "a36b14df-f22f-4019-81ff-f49014e1c5ff",
        "colab": {
          "base_uri": "https://localhost:8080/",
          "height": 233
        }
      },
      "source": [
        "#general stock prices\n",
        "df_prices = yf.download(ticker, \n",
        "                      start=start_date, \n",
        "                      end=end_date, \n",
        "                      progress=False)\n",
        "df_prices.head()"
      ],
      "execution_count": 3,
      "outputs": [
        {
          "output_type": "execute_result",
          "data": {
            "text/html": [
              "<div>\n",
              "<style scoped>\n",
              "    .dataframe tbody tr th:only-of-type {\n",
              "        vertical-align: middle;\n",
              "    }\n",
              "\n",
              "    .dataframe tbody tr th {\n",
              "        vertical-align: top;\n",
              "    }\n",
              "\n",
              "    .dataframe thead th {\n",
              "        text-align: right;\n",
              "    }\n",
              "</style>\n",
              "<table border=\"1\" class=\"dataframe\">\n",
              "  <thead>\n",
              "    <tr style=\"text-align: right;\">\n",
              "      <th></th>\n",
              "      <th>Open</th>\n",
              "      <th>High</th>\n",
              "      <th>Low</th>\n",
              "      <th>Close</th>\n",
              "      <th>Adj Close</th>\n",
              "      <th>Volume</th>\n",
              "    </tr>\n",
              "    <tr>\n",
              "      <th>Date</th>\n",
              "      <th></th>\n",
              "      <th></th>\n",
              "      <th></th>\n",
              "      <th></th>\n",
              "      <th></th>\n",
              "      <th></th>\n",
              "    </tr>\n",
              "  </thead>\n",
              "  <tbody>\n",
              "    <tr>\n",
              "      <th>2020-10-01</th>\n",
              "      <td>170.149994</td>\n",
              "      <td>172.759995</td>\n",
              "      <td>165.570007</td>\n",
              "      <td>167.860001</td>\n",
              "      <td>167.860001</td>\n",
              "      <td>30677100</td>\n",
              "    </tr>\n",
              "    <tr>\n",
              "      <th>2020-10-02</th>\n",
              "      <td>161.860001</td>\n",
              "      <td>169.779999</td>\n",
              "      <td>161.800003</td>\n",
              "      <td>168.080002</td>\n",
              "      <td>168.080002</td>\n",
              "      <td>31773800</td>\n",
              "    </tr>\n",
              "    <tr>\n",
              "      <th>2020-10-05</th>\n",
              "      <td>169.490005</td>\n",
              "      <td>172.080002</td>\n",
              "      <td>167.509995</td>\n",
              "      <td>171.199997</td>\n",
              "      <td>171.199997</td>\n",
              "      <td>19082100</td>\n",
              "    </tr>\n",
              "    <tr>\n",
              "      <th>2020-10-06</th>\n",
              "      <td>173.039993</td>\n",
              "      <td>175.559998</td>\n",
              "      <td>159.330002</td>\n",
              "      <td>159.539993</td>\n",
              "      <td>159.539993</td>\n",
              "      <td>47132500</td>\n",
              "    </tr>\n",
              "    <tr>\n",
              "      <th>2020-10-07</th>\n",
              "      <td>163.710007</td>\n",
              "      <td>166.339996</td>\n",
              "      <td>162.380005</td>\n",
              "      <td>164.610001</td>\n",
              "      <td>164.610001</td>\n",
              "      <td>26019100</td>\n",
              "    </tr>\n",
              "  </tbody>\n",
              "</table>\n",
              "</div>"
            ],
            "text/plain": [
              "                  Open        High  ...   Adj Close    Volume\n",
              "Date                                ...                      \n",
              "2020-10-01  170.149994  172.759995  ...  167.860001  30677100\n",
              "2020-10-02  161.860001  169.779999  ...  168.080002  31773800\n",
              "2020-10-05  169.490005  172.080002  ...  171.199997  19082100\n",
              "2020-10-06  173.039993  175.559998  ...  159.539993  47132500\n",
              "2020-10-07  163.710007  166.339996  ...  164.610001  26019100\n",
              "\n",
              "[5 rows x 6 columns]"
            ]
          },
          "metadata": {
            "tags": []
          },
          "execution_count": 3
        }
      ]
    },
    {
      "cell_type": "code",
      "metadata": {
        "id": "jLwBWG-cRuBc",
        "outputId": "545dd61c-1703-407d-9728-d6e48c7d543b",
        "colab": {
          "base_uri": "https://localhost:8080/",
          "height": 446
        }
      },
      "source": [
        "#get stock price historical data\n",
        "h_stock = stock.history(period='max')\n",
        "h_stock"
      ],
      "execution_count": 4,
      "outputs": [
        {
          "output_type": "execute_result",
          "data": {
            "text/html": [
              "<div>\n",
              "<style scoped>\n",
              "    .dataframe tbody tr th:only-of-type {\n",
              "        vertical-align: middle;\n",
              "    }\n",
              "\n",
              "    .dataframe tbody tr th {\n",
              "        vertical-align: top;\n",
              "    }\n",
              "\n",
              "    .dataframe thead th {\n",
              "        text-align: right;\n",
              "    }\n",
              "</style>\n",
              "<table border=\"1\" class=\"dataframe\">\n",
              "  <thead>\n",
              "    <tr style=\"text-align: right;\">\n",
              "      <th></th>\n",
              "      <th>Open</th>\n",
              "      <th>High</th>\n",
              "      <th>Low</th>\n",
              "      <th>Close</th>\n",
              "      <th>Volume</th>\n",
              "      <th>Dividends</th>\n",
              "      <th>Stock Splits</th>\n",
              "    </tr>\n",
              "    <tr>\n",
              "      <th>Date</th>\n",
              "      <th></th>\n",
              "      <th></th>\n",
              "      <th></th>\n",
              "      <th></th>\n",
              "      <th></th>\n",
              "      <th></th>\n",
              "      <th></th>\n",
              "    </tr>\n",
              "  </thead>\n",
              "  <tbody>\n",
              "    <tr>\n",
              "      <th>1962-01-02</th>\n",
              "      <td>0.190310</td>\n",
              "      <td>0.190310</td>\n",
              "      <td>0.187037</td>\n",
              "      <td>0.187037</td>\n",
              "      <td>352200</td>\n",
              "      <td>0.0</td>\n",
              "      <td>0.0</td>\n",
              "    </tr>\n",
              "    <tr>\n",
              "      <th>1962-01-03</th>\n",
              "      <td>0.189843</td>\n",
              "      <td>0.193584</td>\n",
              "      <td>0.189843</td>\n",
              "      <td>0.190778</td>\n",
              "      <td>710400</td>\n",
              "      <td>0.0</td>\n",
              "      <td>0.0</td>\n",
              "    </tr>\n",
              "    <tr>\n",
              "      <th>1962-01-04</th>\n",
              "      <td>0.190778</td>\n",
              "      <td>0.194051</td>\n",
              "      <td>0.188908</td>\n",
              "      <td>0.188908</td>\n",
              "      <td>911000</td>\n",
              "      <td>0.0</td>\n",
              "      <td>0.0</td>\n",
              "    </tr>\n",
              "    <tr>\n",
              "      <th>1962-01-05</th>\n",
              "      <td>0.188908</td>\n",
              "      <td>0.189843</td>\n",
              "      <td>0.180023</td>\n",
              "      <td>0.185167</td>\n",
              "      <td>880400</td>\n",
              "      <td>0.0</td>\n",
              "      <td>0.0</td>\n",
              "    </tr>\n",
              "    <tr>\n",
              "      <th>1962-01-08</th>\n",
              "      <td>0.185167</td>\n",
              "      <td>0.188440</td>\n",
              "      <td>0.182829</td>\n",
              "      <td>0.185635</td>\n",
              "      <td>473600</td>\n",
              "      <td>0.0</td>\n",
              "      <td>0.0</td>\n",
              "    </tr>\n",
              "    <tr>\n",
              "      <th>...</th>\n",
              "      <td>...</td>\n",
              "      <td>...</td>\n",
              "      <td>...</td>\n",
              "      <td>...</td>\n",
              "      <td>...</td>\n",
              "      <td>...</td>\n",
              "      <td>...</td>\n",
              "    </tr>\n",
              "    <tr>\n",
              "      <th>2020-10-02</th>\n",
              "      <td>161.860001</td>\n",
              "      <td>169.779999</td>\n",
              "      <td>161.800003</td>\n",
              "      <td>168.080002</td>\n",
              "      <td>31773800</td>\n",
              "      <td>0.0</td>\n",
              "      <td>0.0</td>\n",
              "    </tr>\n",
              "    <tr>\n",
              "      <th>2020-10-05</th>\n",
              "      <td>169.490005</td>\n",
              "      <td>172.080002</td>\n",
              "      <td>167.509995</td>\n",
              "      <td>171.199997</td>\n",
              "      <td>19082100</td>\n",
              "      <td>0.0</td>\n",
              "      <td>0.0</td>\n",
              "    </tr>\n",
              "    <tr>\n",
              "      <th>2020-10-06</th>\n",
              "      <td>173.039993</td>\n",
              "      <td>175.559998</td>\n",
              "      <td>159.330002</td>\n",
              "      <td>159.539993</td>\n",
              "      <td>47132500</td>\n",
              "      <td>0.0</td>\n",
              "      <td>0.0</td>\n",
              "    </tr>\n",
              "    <tr>\n",
              "      <th>2020-10-07</th>\n",
              "      <td>163.710007</td>\n",
              "      <td>166.339996</td>\n",
              "      <td>162.380005</td>\n",
              "      <td>164.610001</td>\n",
              "      <td>26019100</td>\n",
              "      <td>0.0</td>\n",
              "      <td>0.0</td>\n",
              "    </tr>\n",
              "    <tr>\n",
              "      <th>2020-10-08</th>\n",
              "      <td>166.220001</td>\n",
              "      <td>168.089996</td>\n",
              "      <td>163.539993</td>\n",
              "      <td>168.000000</td>\n",
              "      <td>20517000</td>\n",
              "      <td>0.0</td>\n",
              "      <td>0.0</td>\n",
              "    </tr>\n",
              "  </tbody>\n",
              "</table>\n",
              "<p>14795 rows × 7 columns</p>\n",
              "</div>"
            ],
            "text/plain": [
              "                  Open        High  ...  Dividends  Stock Splits\n",
              "Date                                ...                         \n",
              "1962-01-02    0.190310    0.190310  ...        0.0           0.0\n",
              "1962-01-03    0.189843    0.193584  ...        0.0           0.0\n",
              "1962-01-04    0.190778    0.194051  ...        0.0           0.0\n",
              "1962-01-05    0.188908    0.189843  ...        0.0           0.0\n",
              "1962-01-08    0.185167    0.188440  ...        0.0           0.0\n",
              "...                ...         ...  ...        ...           ...\n",
              "2020-10-02  161.860001  169.779999  ...        0.0           0.0\n",
              "2020-10-05  169.490005  172.080002  ...        0.0           0.0\n",
              "2020-10-06  173.039993  175.559998  ...        0.0           0.0\n",
              "2020-10-07  163.710007  166.339996  ...        0.0           0.0\n",
              "2020-10-08  166.220001  168.089996  ...        0.0           0.0\n",
              "\n",
              "[14795 rows x 7 columns]"
            ]
          },
          "metadata": {
            "tags": []
          },
          "execution_count": 4
        }
      ]
    },
    {
      "cell_type": "code",
      "metadata": {
        "id": "MptdReskWAVp",
        "outputId": "fa93e7ff-ac28-4b0a-e25c-314837437f63",
        "colab": {
          "base_uri": "https://localhost:8080/",
          "height": 459
        }
      },
      "source": [
        "#plot historical data\n",
        "plt.rcParams[\"figure.figsize\"] = (20,7)\n",
        "sns.set_theme(style=\"whitegrid\")\n",
        "sns.lineplot(data=h_stock.High, palette='tab10')"
      ],
      "execution_count": 5,
      "outputs": [
        {
          "output_type": "execute_result",
          "data": {
            "text/plain": [
              "<matplotlib.axes._subplots.AxesSubplot at 0x7fc3674dd6a0>"
            ]
          },
          "metadata": {
            "tags": []
          },
          "execution_count": 5
        },
        {
          "output_type": "display_data",
          "data": {
            "image/png": "[encoded data removed]",
            "text/plain": [
              "<Figure size 1440x504 with 1 Axes>"
            ]
          },
          "metadata": {
            "tags": []
          }
        }
      ]
    },
    {
      "cell_type": "code",
      "metadata": {
        "id": "N9fvgWeJYV0b",
        "outputId": "32292053-1ab5-482e-e2a8-ac820b7a9352",
        "colab": {
          "base_uri": "https://localhost:8080/",
          "height": 618
        }
      },
      "source": [
        "#plot stock historical data using mplfinance package\n",
        "mpf.plot(h_stock,type='candle',mav=(3,6,9),volume=True, figratio=(25,10), \n",
        "         title='\\n{}\\n {}, {} {}, {}'.format(ticker,end_date.strftime('%A'), end_date.strftime(\"%B\"), end_date.day, end_date.year),\n",
        "         ylabel='OHLC Candles',\n",
        "         ylabel_lower='Shares\\nTraded'\n",
        "         )"
      ],
      "execution_count": 6,
      "outputs": [
        {
          "output_type": "display_data",
          "data": {
            "image/png": "[encoded data removed]",
            "text/plain": [
              "<Figure size 1437.5x575 with 4 Axes>"
            ]
          },
          "metadata": {
            "tags": []
          }
        }
      ]
    },
    {
      "cell_type": "code",
      "metadata": {
        "id": "JXz4NCnhFmCn",
        "outputId": "97546162-469f-419a-8092-02c99dca8259",
        "colab": {
          "base_uri": "https://localhost:8080/",
          "height": 104
        }
      },
      "source": [
        "#incomplete url string\n",
        "str_summary = 'https://finance.yahoo.com/quote/{}?p={}&.tsrc=fin-srch'\n",
        "str_stat = 'https://finance.yahoo.com/quote/{}/key-statistics?p={}'\n",
        "str_analysis = 'https://finance.yahoo.com/quote/{}/analysis?p={}'\n",
        "str_financials= 'https://finance.yahoo.com/quote/{}/financials?p={}'\n",
        "\n",
        "#complete website url\n",
        "url_summary = str_summary.format(ticker,ticker)\n",
        "url_stat = str_stat.format(ticker,ticker)\n",
        "url_analysis = str_analysis.format(ticker,ticker)\n",
        "url_financials = str_financials.format(ticker,ticker)\n",
        "url_indexes = 'https://finance.yahoo.com/world-indices'\n",
        "\n",
        "print(url_summary)\n",
        "print(url_stat)\n",
        "print(url_analysis)\n",
        "print(url_financials)\n",
        "print(url_indexes)"
      ],
      "execution_count": 7,
      "outputs": [
        {
          "output_type": "stream",
          "text": [
            "https://finance.yahoo.com/quote/BA?p=BA&.tsrc=fin-srch\n",
            "https://finance.yahoo.com/quote/BA/key-statistics?p=BA\n",
            "https://finance.yahoo.com/quote/BA/analysis?p=BA\n",
            "https://finance.yahoo.com/quote/BA/financials?p=BA\n",
            "https://finance.yahoo.com/world-indices\n"
          ],
          "name": "stdout"
        }
      ]
    },
    {
      "cell_type": "code",
      "metadata": {
        "id": "aX5-1ejUyYBJ"
      },
      "source": [
        "#DataFrame styling\n",
        "def color_negative_red(value):\n",
        "  \"\"\"\n",
        "  Colors elements in a dateframe\n",
        "  green if positive and red if\n",
        "  negative. Does not color NaN\n",
        "  values.\n",
        "  \"\"\"\n",
        "\n",
        "  if value < 0:\n",
        "    color = 'red'\n",
        "  elif value > 0:\n",
        "    color = 'green'\n",
        "  else:\n",
        "    color = 'black'\n",
        "\n",
        "  return 'color: %s' % color"
      ],
      "execution_count": 8,
      "outputs": []
    },
    {
      "cell_type": "code",
      "metadata": {
        "id": "RRvqTLlpvSQO",
        "outputId": "f7233e16-11e8-4518-e446-e04c78174cc8",
        "colab": {
          "base_uri": "https://localhost:8080/",
          "height": 141
        }
      },
      "source": [
        "#real-time US major index trend\n",
        "df_indexes = pd.read_html(url_indexes, header = 0)\n",
        "name = df_indexes[0].get('Name').to_frame()\n",
        "d_change  = df_indexes[0].get('Change').to_frame()\n",
        "p_change = df_indexes[0].get('% Change').to_frame()\n",
        "last_price = df_indexes[0].get('Last Price').to_frame()\n",
        "index_df = pd.concat([name, last_price ,d_change, p_change], axis=1, sort=False)\n",
        "index_df[0:3]"
      ],
      "execution_count": 9,
      "outputs": [
        {
          "output_type": "execute_result",
          "data": {
            "text/html": [
              "<div>\n",
              "<style scoped>\n",
              "    .dataframe tbody tr th:only-of-type {\n",
              "        vertical-align: middle;\n",
              "    }\n",
              "\n",
              "    .dataframe tbody tr th {\n",
              "        vertical-align: top;\n",
              "    }\n",
              "\n",
              "    .dataframe thead th {\n",
              "        text-align: right;\n",
              "    }\n",
              "</style>\n",
              "<table border=\"1\" class=\"dataframe\">\n",
              "  <thead>\n",
              "    <tr style=\"text-align: right;\">\n",
              "      <th></th>\n",
              "      <th>Name</th>\n",
              "      <th>Last Price</th>\n",
              "      <th>Change</th>\n",
              "      <th>% Change</th>\n",
              "    </tr>\n",
              "  </thead>\n",
              "  <tbody>\n",
              "    <tr>\n",
              "      <th>0</th>\n",
              "      <td>S&amp;P 500</td>\n",
              "      <td>3446.83</td>\n",
              "      <td>+27.38</td>\n",
              "      <td>+0.80%</td>\n",
              "    </tr>\n",
              "    <tr>\n",
              "      <th>1</th>\n",
              "      <td>Dow Jones Industrial Average</td>\n",
              "      <td>28425.51</td>\n",
              "      <td>+122.05</td>\n",
              "      <td>+0.43%</td>\n",
              "    </tr>\n",
              "    <tr>\n",
              "      <th>2</th>\n",
              "      <td>NASDAQ Composite</td>\n",
              "      <td>11420.98</td>\n",
              "      <td>+56.38</td>\n",
              "      <td>+0.50%</td>\n",
              "    </tr>\n",
              "  </tbody>\n",
              "</table>\n",
              "</div>"
            ],
            "text/plain": [
              "                           Name  Last Price   Change % Change\n",
              "0                       S&P 500     3446.83   +27.38   +0.80%\n",
              "1  Dow Jones Industrial Average    28425.51  +122.05   +0.43%\n",
              "2              NASDAQ Composite    11420.98   +56.38   +0.50%"
            ]
          },
          "metadata": {
            "tags": []
          },
          "execution_count": 9
        }
      ]
    },
    {
      "cell_type": "code",
      "metadata": {
        "id": "5gujSGd9HMrm",
        "outputId": "c6991c53-f01f-4870-d258-ab96738526dd",
        "colab": {
          "base_uri": "https://localhost:8080/",
          "height": 277
        }
      },
      "source": [
        "#read ticker financial summary page\n",
        "df_summary = pd.read_html(url_summary, header = 0)\n",
        "df_summary"
      ],
      "execution_count": 10,
      "outputs": [
        {
          "output_type": "execute_result",
          "data": {
            "text/plain": [
              "[  Previous Close           164.61\n",
              " 0           Open           166.22\n",
              " 1            Bid     168.60 x 900\n",
              " 2            Ask     168.95 x 900\n",
              " 3    Day's Range  163.54 - 168.09\n",
              " 4  52 Week Range   89.00 - 378.70\n",
              " 5         Volume         20398647\n",
              " 6    Avg. Volume         28471041,                  Market Cap       94.827B\n",
              " 0         Beta (5Y Monthly)          1.38\n",
              " 1            PE Ratio (TTM)           NaN\n",
              " 2                 EPS (TTM)         -5.03\n",
              " 3             Earnings Date  Oct 28, 2020\n",
              " 4  Forward Dividend & Yield     N/A (N/A)\n",
              " 5          Ex-Dividend Date  Feb 13, 2020\n",
              " 6             1y Target Est        177.14]"
            ]
          },
          "metadata": {
            "tags": []
          },
          "execution_count": 10
        }
      ]
    },
    {
      "cell_type": "code",
      "metadata": {
        "id": "pTtdmrSJRZUe",
        "outputId": "6b9e8c69-7c89-4b14-b8d9-013613be16c8",
        "colab": {
          "base_uri": "https://localhost:8080/",
          "height": 263
        }
      },
      "source": [
        "summary_2 = df_summary[0]\n",
        "summary_2"
      ],
      "execution_count": 11,
      "outputs": [
        {
          "output_type": "execute_result",
          "data": {
            "text/html": [
              "<div>\n",
              "<style scoped>\n",
              "    .dataframe tbody tr th:only-of-type {\n",
              "        vertical-align: middle;\n",
              "    }\n",
              "\n",
              "    .dataframe tbody tr th {\n",
              "        vertical-align: top;\n",
              "    }\n",
              "\n",
              "    .dataframe thead th {\n",
              "        text-align: right;\n",
              "    }\n",
              "</style>\n",
              "<table border=\"1\" class=\"dataframe\">\n",
              "  <thead>\n",
              "    <tr style=\"text-align: right;\">\n",
              "      <th></th>\n",
              "      <th>Previous Close</th>\n",
              "      <th>164.61</th>\n",
              "    </tr>\n",
              "  </thead>\n",
              "  <tbody>\n",
              "    <tr>\n",
              "      <th>0</th>\n",
              "      <td>Open</td>\n",
              "      <td>166.22</td>\n",
              "    </tr>\n",
              "    <tr>\n",
              "      <th>1</th>\n",
              "      <td>Bid</td>\n",
              "      <td>168.60 x 900</td>\n",
              "    </tr>\n",
              "    <tr>\n",
              "      <th>2</th>\n",
              "      <td>Ask</td>\n",
              "      <td>168.95 x 900</td>\n",
              "    </tr>\n",
              "    <tr>\n",
              "      <th>3</th>\n",
              "      <td>Day's Range</td>\n",
              "      <td>163.54 - 168.09</td>\n",
              "    </tr>\n",
              "    <tr>\n",
              "      <th>4</th>\n",
              "      <td>52 Week Range</td>\n",
              "      <td>89.00 - 378.70</td>\n",
              "    </tr>\n",
              "    <tr>\n",
              "      <th>5</th>\n",
              "      <td>Volume</td>\n",
              "      <td>20398647</td>\n",
              "    </tr>\n",
              "    <tr>\n",
              "      <th>6</th>\n",
              "      <td>Avg. Volume</td>\n",
              "      <td>28471041</td>\n",
              "    </tr>\n",
              "  </tbody>\n",
              "</table>\n",
              "</div>"
            ],
            "text/plain": [
              "  Previous Close           164.61\n",
              "0           Open           166.22\n",
              "1            Bid     168.60 x 900\n",
              "2            Ask     168.95 x 900\n",
              "3    Day's Range  163.54 - 168.09\n",
              "4  52 Week Range   89.00 - 378.70\n",
              "5         Volume         20398647\n",
              "6    Avg. Volume         28471041"
            ]
          },
          "metadata": {
            "tags": []
          },
          "execution_count": 11
        }
      ]
    },
    {
      "cell_type": "code",
      "metadata": {
        "id": "avaJdMd4HOr8",
        "outputId": "d026a99b-e93d-4551-ae84-6d9339f11eb3",
        "colab": {
          "base_uri": "https://localhost:8080/",
          "height": 263
        }
      },
      "source": [
        "summary_1 = df_summary[1]\n",
        "summary_1"
      ],
      "execution_count": 12,
      "outputs": [
        {
          "output_type": "execute_result",
          "data": {
            "text/html": [
              "<div>\n",
              "<style scoped>\n",
              "    .dataframe tbody tr th:only-of-type {\n",
              "        vertical-align: middle;\n",
              "    }\n",
              "\n",
              "    .dataframe tbody tr th {\n",
              "        vertical-align: top;\n",
              "    }\n",
              "\n",
              "    .dataframe thead th {\n",
              "        text-align: right;\n",
              "    }\n",
              "</style>\n",
              "<table border=\"1\" class=\"dataframe\">\n",
              "  <thead>\n",
              "    <tr style=\"text-align: right;\">\n",
              "      <th></th>\n",
              "      <th>Market Cap</th>\n",
              "      <th>94.827B</th>\n",
              "    </tr>\n",
              "  </thead>\n",
              "  <tbody>\n",
              "    <tr>\n",
              "      <th>0</th>\n",
              "      <td>Beta (5Y Monthly)</td>\n",
              "      <td>1.38</td>\n",
              "    </tr>\n",
              "    <tr>\n",
              "      <th>1</th>\n",
              "      <td>PE Ratio (TTM)</td>\n",
              "      <td>NaN</td>\n",
              "    </tr>\n",
              "    <tr>\n",
              "      <th>2</th>\n",
              "      <td>EPS (TTM)</td>\n",
              "      <td>-5.03</td>\n",
              "    </tr>\n",
              "    <tr>\n",
              "      <th>3</th>\n",
              "      <td>Earnings Date</td>\n",
              "      <td>Oct 28, 2020</td>\n",
              "    </tr>\n",
              "    <tr>\n",
              "      <th>4</th>\n",
              "      <td>Forward Dividend &amp; Yield</td>\n",
              "      <td>N/A (N/A)</td>\n",
              "    </tr>\n",
              "    <tr>\n",
              "      <th>5</th>\n",
              "      <td>Ex-Dividend Date</td>\n",
              "      <td>Feb 13, 2020</td>\n",
              "    </tr>\n",
              "    <tr>\n",
              "      <th>6</th>\n",
              "      <td>1y Target Est</td>\n",
              "      <td>177.14</td>\n",
              "    </tr>\n",
              "  </tbody>\n",
              "</table>\n",
              "</div>"
            ],
            "text/plain": [
              "                 Market Cap       94.827B\n",
              "0         Beta (5Y Monthly)          1.38\n",
              "1            PE Ratio (TTM)           NaN\n",
              "2                 EPS (TTM)         -5.03\n",
              "3             Earnings Date  Oct 28, 2020\n",
              "4  Forward Dividend & Yield     N/A (N/A)\n",
              "5          Ex-Dividend Date  Feb 13, 2020\n",
              "6             1y Target Est        177.14"
            ]
          },
          "metadata": {
            "tags": []
          },
          "execution_count": 12
        }
      ]
    },
    {
      "cell_type": "code",
      "metadata": {
        "id": "t-yHL-XLVOI1",
        "outputId": "b21affa1-1677-428d-bdce-2b37e359788e",
        "colab": {
          "base_uri": "https://localhost:8080/",
          "height": 936
        }
      },
      "source": [
        "#read ticker financial statistics page\n",
        "df_stat = pd.read_html(url_stat, header =0)\n",
        "df_stat"
      ],
      "execution_count": 13,
      "outputs": [
        {
          "output_type": "execute_result",
          "data": {
            "text/plain": [
              "[                    Unnamed: 0  ... 9/30/2019\n",
              " 0      Market Cap (intraday) 5  ...   214.12B\n",
              " 1           Enterprise Value 3  ...   223.73B\n",
              " 2                 Trailing P/E  ...     44.40\n",
              " 3                Forward P/E 1  ...     17.01\n",
              " 4  PEG Ratio (5 yr expected) 1  ...      0.92\n",
              " 5            Price/Sales (ttm)  ...      2.36\n",
              " 6             Price/Book (mrq)  ...       NaN\n",
              " 7   Enterprise Value/Revenue 3  ...     11.20\n",
              " 8    Enterprise Value/EBITDA 6  ...    114.38\n",
              " \n",
              " [9 rows x 6 columns],           Beta (5Y Monthly)     1.38\n",
              " 0          52-Week Change 3  -55.19%\n",
              " 1   S&P500 52-Week Change 3   16.04%\n",
              " 2            52 Week High 3   378.70\n",
              " 3             52 Week Low 3    89.00\n",
              " 4   50-Day Moving Average 3   165.60\n",
              " 5  200-Day Moving Average 3   161.62,                               Avg Vol (3 month) 3   28.47M\n",
              " 0                              Avg Vol (10 day) 3    29.1M\n",
              " 1                            Shares Outstanding 5  564.32M\n",
              " 2                                           Float  532.96M\n",
              " 3                            % Held by Insiders 1    0.13%\n",
              " 4                        % Held by Institutions 1   66.60%\n",
              " 5                   Shares Short (Sep 14, 2020) 4      10M\n",
              " 6                    Short Ratio (Sep 14, 2020) 4     0.47\n",
              " 7               Short % of Float (Sep 14, 2020) 4    1.77%\n",
              " 8  Short % of Shares Outstanding (Sep 14, 2020) 4    1.77%\n",
              " 9       Shares Short (prior month Aug 13, 2020) 4    8.05M,      Forward Annual Dividend Rate 4           N/A\n",
              " 0   Forward Annual Dividend Yield 4           NaN\n",
              " 1   Trailing Annual Dividend Rate 3          6.16\n",
              " 2  Trailing Annual Dividend Yield 3         3.75%\n",
              " 3   5 Year Average Dividend Yield 4          2.58\n",
              " 4                    Payout Ratio 4           NaN\n",
              " 5                   Dividend Date 3  Mar 05, 2020\n",
              " 6                Ex-Dividend Date 4  Feb 12, 2020\n",
              " 7               Last Split Factor 2           2:1\n",
              " 8                 Last Split Date 3  Jun 08, 1997,             Fiscal Year Ends  Dec 30, 2019\n",
              " 0  Most Recent Quarter (mrq)  Jun 29, 2020,             Profit Margin  -4.27%\n",
              " 0  Operating Margin (ttm)  -5.01%,    Return on Assets (ttm)  -1.44%\n",
              " 0  Return on Equity (ttm)     NaN,                      Revenue (ttm)   66.61B\n",
              " 0          Revenue Per Share (ttm)   117.73\n",
              " 1   Quarterly Revenue Growth (yoy)  -25.00%\n",
              " 2               Gross Profit (ttm)    4.76B\n",
              " 3                           EBITDA   -1.03B\n",
              " 4   Net Income Avi to Common (ttm)   -2.85B\n",
              " 5                Diluted EPS (ttm)    -5.03\n",
              " 6  Quarterly Earnings Growth (yoy)      NaN,              Total Cash (mrq)  32.43B\n",
              " 0  Total Cash Per Share (mrq)   57.45\n",
              " 1            Total Debt (mrq)  61.38B\n",
              " 2     Total Debt/Equity (mrq)     NaN\n",
              " 3         Current Ratio (mrq)    1.41\n",
              " 4  Book Value Per Share (mrq)  -20.67,       Operating Cash Flow (ttm) -14.23B\n",
              " 0  Levered Free Cash Flow (ttm)  -12.5B]"
            ]
          },
          "metadata": {
            "tags": []
          },
          "execution_count": 13
        }
      ]
    },
    {
      "cell_type": "code",
      "metadata": {
        "id": "t8f9HR7DVpVE",
        "outputId": "fce01d77-5974-4d23-f706-77306bbcb944",
        "colab": {
          "base_uri": "https://localhost:8080/",
          "height": 35
        }
      },
      "source": [
        "len(df_stat)"
      ],
      "execution_count": 14,
      "outputs": [
        {
          "output_type": "execute_result",
          "data": {
            "text/plain": [
              "10"
            ]
          },
          "metadata": {
            "tags": []
          },
          "execution_count": 14
        }
      ]
    },
    {
      "cell_type": "code",
      "metadata": {
        "id": "kua3ygdsXoiT",
        "outputId": "2e4391b9-2482-4744-afca-13e47137e4a4",
        "colab": {
          "base_uri": "https://localhost:8080/",
          "height": 325
        }
      },
      "source": [
        "stat_0 = df_stat[0]\n",
        "stat_0"
      ],
      "execution_count": 15,
      "outputs": [
        {
          "output_type": "execute_result",
          "data": {
            "text/html": [
              "<div>\n",
              "<style scoped>\n",
              "    .dataframe tbody tr th:only-of-type {\n",
              "        vertical-align: middle;\n",
              "    }\n",
              "\n",
              "    .dataframe tbody tr th {\n",
              "        vertical-align: top;\n",
              "    }\n",
              "\n",
              "    .dataframe thead th {\n",
              "        text-align: right;\n",
              "    }\n",
              "</style>\n",
              "<table border=\"1\" class=\"dataframe\">\n",
              "  <thead>\n",
              "    <tr style=\"text-align: right;\">\n",
              "      <th></th>\n",
              "      <th>Unnamed: 0</th>\n",
              "      <th>As of Date: 9/26/2020Current</th>\n",
              "      <th>6/30/2020</th>\n",
              "      <th>3/31/2020</th>\n",
              "      <th>12/31/2019</th>\n",
              "      <th>9/30/2019</th>\n",
              "    </tr>\n",
              "  </thead>\n",
              "  <tbody>\n",
              "    <tr>\n",
              "      <th>0</th>\n",
              "      <td>Market Cap (intraday) 5</td>\n",
              "      <td>82.44B</td>\n",
              "      <td>103.46B</td>\n",
              "      <td>84.16B</td>\n",
              "      <td>183.37B</td>\n",
              "      <td>214.12B</td>\n",
              "    </tr>\n",
              "    <tr>\n",
              "      <th>1</th>\n",
              "      <td>Enterprise Value 3</td>\n",
              "      <td>111.39B</td>\n",
              "      <td>126.86B</td>\n",
              "      <td>101.43B</td>\n",
              "      <td>197.11B</td>\n",
              "      <td>223.73B</td>\n",
              "    </tr>\n",
              "    <tr>\n",
              "      <th>2</th>\n",
              "      <td>Trailing P/E</td>\n",
              "      <td>NaN</td>\n",
              "      <td>NaN</td>\n",
              "      <td>NaN</td>\n",
              "      <td>49.66</td>\n",
              "      <td>44.40</td>\n",
              "    </tr>\n",
              "    <tr>\n",
              "      <th>3</th>\n",
              "      <td>Forward P/E 1</td>\n",
              "      <td>31.85</td>\n",
              "      <td>NaN</td>\n",
              "      <td>35.09</td>\n",
              "      <td>16.31</td>\n",
              "      <td>17.01</td>\n",
              "    </tr>\n",
              "    <tr>\n",
              "      <th>4</th>\n",
              "      <td>PEG Ratio (5 yr expected) 1</td>\n",
              "      <td>6.53</td>\n",
              "      <td>NaN</td>\n",
              "      <td>5.16</td>\n",
              "      <td>0.99</td>\n",
              "      <td>0.92</td>\n",
              "    </tr>\n",
              "    <tr>\n",
              "      <th>5</th>\n",
              "      <td>Price/Sales (ttm)</td>\n",
              "      <td>1.24</td>\n",
              "      <td>1.47</td>\n",
              "      <td>1.10</td>\n",
              "      <td>2.14</td>\n",
              "      <td>2.36</td>\n",
              "    </tr>\n",
              "    <tr>\n",
              "      <th>6</th>\n",
              "      <td>Price/Book (mrq)</td>\n",
              "      <td>NaN</td>\n",
              "      <td>NaN</td>\n",
              "      <td>NaN</td>\n",
              "      <td>NaN</td>\n",
              "      <td>NaN</td>\n",
              "    </tr>\n",
              "    <tr>\n",
              "      <th>7</th>\n",
              "      <td>Enterprise Value/Revenue 3</td>\n",
              "      <td>1.67</td>\n",
              "      <td>10.74</td>\n",
              "      <td>6.00</td>\n",
              "      <td>11.01</td>\n",
              "      <td>11.20</td>\n",
              "    </tr>\n",
              "    <tr>\n",
              "      <th>8</th>\n",
              "      <td>Enterprise Value/EBITDA 6</td>\n",
              "      <td>-44.13</td>\n",
              "      <td>-54.61</td>\n",
              "      <td>-148.08</td>\n",
              "      <td>-133.91</td>\n",
              "      <td>114.38</td>\n",
              "    </tr>\n",
              "  </tbody>\n",
              "</table>\n",
              "</div>"
            ],
            "text/plain": [
              "                    Unnamed: 0  ... 9/30/2019\n",
              "0      Market Cap (intraday) 5  ...   214.12B\n",
              "1           Enterprise Value 3  ...   223.73B\n",
              "2                 Trailing P/E  ...     44.40\n",
              "3                Forward P/E 1  ...     17.01\n",
              "4  PEG Ratio (5 yr expected) 1  ...      0.92\n",
              "5            Price/Sales (ttm)  ...      2.36\n",
              "6             Price/Book (mrq)  ...       NaN\n",
              "7   Enterprise Value/Revenue 3  ...     11.20\n",
              "8    Enterprise Value/EBITDA 6  ...    114.38\n",
              "\n",
              "[9 rows x 6 columns]"
            ]
          },
          "metadata": {
            "tags": []
          },
          "execution_count": 15
        }
      ]
    },
    {
      "cell_type": "code",
      "metadata": {
        "id": "uhJgDa7Jbwoa",
        "outputId": "23bc3bc5-ae45-4d67-a670-ac81459d22ce",
        "colab": {
          "base_uri": "https://localhost:8080/",
          "height": 233
        }
      },
      "source": [
        "stat_1 = df_stat[1]\n",
        "stat_1"
      ],
      "execution_count": 16,
      "outputs": [
        {
          "output_type": "execute_result",
          "data": {
            "text/html": [
              "<div>\n",
              "<style scoped>\n",
              "    .dataframe tbody tr th:only-of-type {\n",
              "        vertical-align: middle;\n",
              "    }\n",
              "\n",
              "    .dataframe tbody tr th {\n",
              "        vertical-align: top;\n",
              "    }\n",
              "\n",
              "    .dataframe thead th {\n",
              "        text-align: right;\n",
              "    }\n",
              "</style>\n",
              "<table border=\"1\" class=\"dataframe\">\n",
              "  <thead>\n",
              "    <tr style=\"text-align: right;\">\n",
              "      <th></th>\n",
              "      <th>Beta (5Y Monthly)</th>\n",
              "      <th>1.38</th>\n",
              "    </tr>\n",
              "  </thead>\n",
              "  <tbody>\n",
              "    <tr>\n",
              "      <th>0</th>\n",
              "      <td>52-Week Change 3</td>\n",
              "      <td>-55.19%</td>\n",
              "    </tr>\n",
              "    <tr>\n",
              "      <th>1</th>\n",
              "      <td>S&amp;P500 52-Week Change 3</td>\n",
              "      <td>16.04%</td>\n",
              "    </tr>\n",
              "    <tr>\n",
              "      <th>2</th>\n",
              "      <td>52 Week High 3</td>\n",
              "      <td>378.70</td>\n",
              "    </tr>\n",
              "    <tr>\n",
              "      <th>3</th>\n",
              "      <td>52 Week Low 3</td>\n",
              "      <td>89.00</td>\n",
              "    </tr>\n",
              "    <tr>\n",
              "      <th>4</th>\n",
              "      <td>50-Day Moving Average 3</td>\n",
              "      <td>165.60</td>\n",
              "    </tr>\n",
              "    <tr>\n",
              "      <th>5</th>\n",
              "      <td>200-Day Moving Average 3</td>\n",
              "      <td>161.62</td>\n",
              "    </tr>\n",
              "  </tbody>\n",
              "</table>\n",
              "</div>"
            ],
            "text/plain": [
              "          Beta (5Y Monthly)     1.38\n",
              "0          52-Week Change 3  -55.19%\n",
              "1   S&P500 52-Week Change 3   16.04%\n",
              "2            52 Week High 3   378.70\n",
              "3             52 Week Low 3    89.00\n",
              "4   50-Day Moving Average 3   165.60\n",
              "5  200-Day Moving Average 3   161.62"
            ]
          },
          "metadata": {
            "tags": []
          },
          "execution_count": 16
        }
      ]
    },
    {
      "cell_type": "code",
      "metadata": {
        "id": "czZ_N2lXcUuo",
        "outputId": "7c397fd0-d7d6-48e8-8cea-f8c110226657",
        "colab": {
          "base_uri": "https://localhost:8080/",
          "height": 79
        }
      },
      "source": [
        "stat_5 = df_stat[5]\n",
        "stat_5"
      ],
      "execution_count": 17,
      "outputs": [
        {
          "output_type": "execute_result",
          "data": {
            "text/html": [
              "<div>\n",
              "<style scoped>\n",
              "    .dataframe tbody tr th:only-of-type {\n",
              "        vertical-align: middle;\n",
              "    }\n",
              "\n",
              "    .dataframe tbody tr th {\n",
              "        vertical-align: top;\n",
              "    }\n",
              "\n",
              "    .dataframe thead th {\n",
              "        text-align: right;\n",
              "    }\n",
              "</style>\n",
              "<table border=\"1\" class=\"dataframe\">\n",
              "  <thead>\n",
              "    <tr style=\"text-align: right;\">\n",
              "      <th></th>\n",
              "      <th>Profit Margin</th>\n",
              "      <th>-4.27%</th>\n",
              "    </tr>\n",
              "  </thead>\n",
              "  <tbody>\n",
              "    <tr>\n",
              "      <th>0</th>\n",
              "      <td>Operating Margin (ttm)</td>\n",
              "      <td>-5.01%</td>\n",
              "    </tr>\n",
              "  </tbody>\n",
              "</table>\n",
              "</div>"
            ],
            "text/plain": [
              "            Profit Margin  -4.27%\n",
              "0  Operating Margin (ttm)  -5.01%"
            ]
          },
          "metadata": {
            "tags": []
          },
          "execution_count": 17
        }
      ]
    },
    {
      "cell_type": "code",
      "metadata": {
        "id": "ej0kcJ_7fR8D",
        "outputId": "41a4c748-4b64-490e-ee4b-174a8d4a684a",
        "colab": {
          "base_uri": "https://localhost:8080/",
          "height": 79
        }
      },
      "source": [
        "stat_6 = df_stat[6]\n",
        "stat_6"
      ],
      "execution_count": 18,
      "outputs": [
        {
          "output_type": "execute_result",
          "data": {
            "text/html": [
              "<div>\n",
              "<style scoped>\n",
              "    .dataframe tbody tr th:only-of-type {\n",
              "        vertical-align: middle;\n",
              "    }\n",
              "\n",
              "    .dataframe tbody tr th {\n",
              "        vertical-align: top;\n",
              "    }\n",
              "\n",
              "    .dataframe thead th {\n",
              "        text-align: right;\n",
              "    }\n",
              "</style>\n",
              "<table border=\"1\" class=\"dataframe\">\n",
              "  <thead>\n",
              "    <tr style=\"text-align: right;\">\n",
              "      <th></th>\n",
              "      <th>Return on Assets (ttm)</th>\n",
              "      <th>-1.44%</th>\n",
              "    </tr>\n",
              "  </thead>\n",
              "  <tbody>\n",
              "    <tr>\n",
              "      <th>0</th>\n",
              "      <td>Return on Equity (ttm)</td>\n",
              "      <td>NaN</td>\n",
              "    </tr>\n",
              "  </tbody>\n",
              "</table>\n",
              "</div>"
            ],
            "text/plain": [
              "   Return on Assets (ttm)  -1.44%\n",
              "0  Return on Equity (ttm)     NaN"
            ]
          },
          "metadata": {
            "tags": []
          },
          "execution_count": 18
        }
      ]
    },
    {
      "cell_type": "code",
      "metadata": {
        "id": "HVxwJAuZgLQv",
        "outputId": "19b2e0e5-c296-4934-a559-e506334c416b",
        "colab": {
          "base_uri": "https://localhost:8080/",
          "height": 202
        }
      },
      "source": [
        "stat_8 = df_stat[8]\n",
        "stat_8"
      ],
      "execution_count": 19,
      "outputs": [
        {
          "output_type": "execute_result",
          "data": {
            "text/html": [
              "<div>\n",
              "<style scoped>\n",
              "    .dataframe tbody tr th:only-of-type {\n",
              "        vertical-align: middle;\n",
              "    }\n",
              "\n",
              "    .dataframe tbody tr th {\n",
              "        vertical-align: top;\n",
              "    }\n",
              "\n",
              "    .dataframe thead th {\n",
              "        text-align: right;\n",
              "    }\n",
              "</style>\n",
              "<table border=\"1\" class=\"dataframe\">\n",
              "  <thead>\n",
              "    <tr style=\"text-align: right;\">\n",
              "      <th></th>\n",
              "      <th>Total Cash (mrq)</th>\n",
              "      <th>32.43B</th>\n",
              "    </tr>\n",
              "  </thead>\n",
              "  <tbody>\n",
              "    <tr>\n",
              "      <th>0</th>\n",
              "      <td>Total Cash Per Share (mrq)</td>\n",
              "      <td>57.45</td>\n",
              "    </tr>\n",
              "    <tr>\n",
              "      <th>1</th>\n",
              "      <td>Total Debt (mrq)</td>\n",
              "      <td>61.38B</td>\n",
              "    </tr>\n",
              "    <tr>\n",
              "      <th>2</th>\n",
              "      <td>Total Debt/Equity (mrq)</td>\n",
              "      <td>NaN</td>\n",
              "    </tr>\n",
              "    <tr>\n",
              "      <th>3</th>\n",
              "      <td>Current Ratio (mrq)</td>\n",
              "      <td>1.41</td>\n",
              "    </tr>\n",
              "    <tr>\n",
              "      <th>4</th>\n",
              "      <td>Book Value Per Share (mrq)</td>\n",
              "      <td>-20.67</td>\n",
              "    </tr>\n",
              "  </tbody>\n",
              "</table>\n",
              "</div>"
            ],
            "text/plain": [
              "             Total Cash (mrq)  32.43B\n",
              "0  Total Cash Per Share (mrq)   57.45\n",
              "1            Total Debt (mrq)  61.38B\n",
              "2     Total Debt/Equity (mrq)     NaN\n",
              "3         Current Ratio (mrq)    1.41\n",
              "4  Book Value Per Share (mrq)  -20.67"
            ]
          },
          "metadata": {
            "tags": []
          },
          "execution_count": 19
        }
      ]
    },
    {
      "cell_type": "code",
      "metadata": {
        "id": "UCMxcWf4iN2v",
        "outputId": "5d722935-30a8-4141-8b53-502ed7bb8dad",
        "colab": {
          "base_uri": "https://localhost:8080/",
          "height": 693
        }
      },
      "source": [
        "#read ticker financial statistics page\n",
        "df_analysis = pd.read_html(url_analysis, header =0)\n",
        "df_analysis"
      ],
      "execution_count": 20,
      "outputs": [
        {
          "output_type": "execute_result",
          "data": {
            "text/plain": [
              "[  Earnings Estimate  ...  Next Year (2021)\n",
              " 0   No. of Analysts  ...             24.00\n",
              " 1     Avg. Estimate  ...              3.93\n",
              " 2      Low Estimate  ...             -3.10\n",
              " 3     High Estimate  ...             11.47\n",
              " 4      Year Ago EPS  ...             -9.64\n",
              " \n",
              " [5 rows x 5 columns],           Revenue Estimate  ... Next Year (2021)\n",
              " 0          No. of Analysts  ...               24\n",
              " 1            Avg. Estimate  ...           81.74B\n",
              " 2             Low Estimate  ...           72.24B\n",
              " 3            High Estimate  ...           94.37B\n",
              " 4           Year Ago Sales  ...           61.22B\n",
              " 5  Sales Growth (year/est)  ...           33.50%\n",
              " \n",
              " [6 rows x 5 columns],   Earnings History 9/29/2019 12/30/2019 3/30/2020 6/29/2020\n",
              " 0         EPS Est.      2.09       1.47     -1.61     -2.54\n",
              " 1       EPS Actual      1.45      -2.33      -1.7     -4.79\n",
              " 2       Difference     -0.64       -3.8     -0.09     -2.25\n",
              " 3       Surprise %   -30.60%   -258.50%    -5.60%   -88.60%,           EPS Trend  ...  Next Year (2021)\n",
              " 0  Current Estimate  ...              3.93\n",
              " 1        7 Days Ago  ...              4.24\n",
              " 2       30 Days Ago  ...              3.81\n",
              " 3       60 Days Ago  ...              3.97\n",
              " 4       90 Days Ago  ...              6.26\n",
              " \n",
              " [5 rows x 5 columns],        EPS Revisions  ...  Next Year (2021)\n",
              " 0     Up Last 7 Days  ...               NaN\n",
              " 1    Up Last 30 Days  ...               4.0\n",
              " 2   Down Last 7 Days  ...               NaN\n",
              " 3  Down Last 30 Days  ...               2.0\n",
              " \n",
              " [4 rows x 5 columns],            Growth Estimates        BA  Industry  Sector(s)  S&P 500\n",
              " 0              Current Qtr.  -260.00%       NaN        NaN      NaN\n",
              " 1                 Next Qtr.    54.50%       NaN        NaN      NaN\n",
              " 2              Current Year  -177.80%       NaN        NaN      NaN\n",
              " 3                 Next Year   140.80%       NaN        NaN      NaN\n",
              " 4  Next 5 Years (per annum)    12.33%       NaN        NaN      NaN\n",
              " 5  Past 5 Years (per annum)    11.23%       NaN        NaN      NaN]"
            ]
          },
          "metadata": {
            "tags": []
          },
          "execution_count": 20
        }
      ]
    },
    {
      "cell_type": "code",
      "metadata": {
        "id": "CKMSCRRojGgf",
        "outputId": "532e55f6-5ce2-47af-a8a4-986e742cddce",
        "colab": {
          "base_uri": "https://localhost:8080/",
          "height": 233
        }
      },
      "source": [
        "analysis_5 = df_analysis[5]\n",
        "analysis_5"
      ],
      "execution_count": 21,
      "outputs": [
        {
          "output_type": "execute_result",
          "data": {
            "text/html": [
              "<div>\n",
              "<style scoped>\n",
              "    .dataframe tbody tr th:only-of-type {\n",
              "        vertical-align: middle;\n",
              "    }\n",
              "\n",
              "    .dataframe tbody tr th {\n",
              "        vertical-align: top;\n",
              "    }\n",
              "\n",
              "    .dataframe thead th {\n",
              "        text-align: right;\n",
              "    }\n",
              "</style>\n",
              "<table border=\"1\" class=\"dataframe\">\n",
              "  <thead>\n",
              "    <tr style=\"text-align: right;\">\n",
              "      <th></th>\n",
              "      <th>Growth Estimates</th>\n",
              "      <th>BA</th>\n",
              "      <th>Industry</th>\n",
              "      <th>Sector(s)</th>\n",
              "      <th>S&amp;P 500</th>\n",
              "    </tr>\n",
              "  </thead>\n",
              "  <tbody>\n",
              "    <tr>\n",
              "      <th>0</th>\n",
              "      <td>Current Qtr.</td>\n",
              "      <td>-260.00%</td>\n",
              "      <td>NaN</td>\n",
              "      <td>NaN</td>\n",
              "      <td>NaN</td>\n",
              "    </tr>\n",
              "    <tr>\n",
              "      <th>1</th>\n",
              "      <td>Next Qtr.</td>\n",
              "      <td>54.50%</td>\n",
              "      <td>NaN</td>\n",
              "      <td>NaN</td>\n",
              "      <td>NaN</td>\n",
              "    </tr>\n",
              "    <tr>\n",
              "      <th>2</th>\n",
              "      <td>Current Year</td>\n",
              "      <td>-177.80%</td>\n",
              "      <td>NaN</td>\n",
              "      <td>NaN</td>\n",
              "      <td>NaN</td>\n",
              "    </tr>\n",
              "    <tr>\n",
              "      <th>3</th>\n",
              "      <td>Next Year</td>\n",
              "      <td>140.80%</td>\n",
              "      <td>NaN</td>\n",
              "      <td>NaN</td>\n",
              "      <td>NaN</td>\n",
              "    </tr>\n",
              "    <tr>\n",
              "      <th>4</th>\n",
              "      <td>Next 5 Years (per annum)</td>\n",
              "      <td>12.33%</td>\n",
              "      <td>NaN</td>\n",
              "      <td>NaN</td>\n",
              "      <td>NaN</td>\n",
              "    </tr>\n",
              "    <tr>\n",
              "      <th>5</th>\n",
              "      <td>Past 5 Years (per annum)</td>\n",
              "      <td>11.23%</td>\n",
              "      <td>NaN</td>\n",
              "      <td>NaN</td>\n",
              "      <td>NaN</td>\n",
              "    </tr>\n",
              "  </tbody>\n",
              "</table>\n",
              "</div>"
            ],
            "text/plain": [
              "           Growth Estimates        BA  Industry  Sector(s)  S&P 500\n",
              "0              Current Qtr.  -260.00%       NaN        NaN      NaN\n",
              "1                 Next Qtr.    54.50%       NaN        NaN      NaN\n",
              "2              Current Year  -177.80%       NaN        NaN      NaN\n",
              "3                 Next Year   140.80%       NaN        NaN      NaN\n",
              "4  Next 5 Years (per annum)    12.33%       NaN        NaN      NaN\n",
              "5  Past 5 Years (per annum)    11.23%       NaN        NaN      NaN"
            ]
          },
          "metadata": {
            "tags": []
          },
          "execution_count": 21
        }
      ]
    },
    {
      "cell_type": "markdown",
      "metadata": {
        "id": "SfGG5alJdzW0"
      },
      "source": [
        "*   [Operating margin](https://www.investopedia.com/terms/o/operatingmargin.asp) is the profit a company makes on a dollar of sales after paying for variable costs but before paying any interest or taxes\n",
        "*   [EPS](https://www.investopedia.com/terms/e/eps.asp) indicates how much money a company makes for each share of its stock\n",
        "*   [Beta](https://www.investopedia.com/terms/b/beta.asp) is a measure of the volatility—or systematic risk—of a security or portfolio compared to the market as a whole\n",
        "*   [Enterprise Value/EBITDA](https://www.investopedia.com/ask/answers/072715/what-considered-healthy-evebitda.asp#:~:text=The%20enterprise%2Dvalue%2Dto%2D,10%20are%20seen%20as%20healthy.) compares the value of a company—debt included—to the company’s cash earnings less non-cash expenses\n",
        "*   [Return on equity (ROE)](https://www.investopedia.com/terms/r/returnonequity.asp) measures how effectively management is using a company’s assets to create profits\n",
        "*   [Debt-to-Equity Ratio (D/E)](https://www.investopedia.com/terms/d/debtequityratio.asp) is a measure of the degree to which a company is financing its operations through debt versus wholly-owned funds\n",
        "\n",
        "Note: GE stands for Growth Estimates per annum. For example, GE Next Year means growth estimates for next year.\n",
        "\n"
      ]
    },
    {
      "cell_type": "code",
      "metadata": {
        "id": "X_kZYdyIDiav",
        "outputId": "91b75254-5c69-4b07-f5d2-0d335d09acaa",
        "colab": {
          "base_uri": "https://localhost:8080/",
          "height": 169
        }
      },
      "source": [
        "#create stock key metrics DataFrame\n",
        "stock_metrics= {\n",
        "    'Company': stock.info.get('shortName'),\n",
        "    'Ticker': ticker,\n",
        "    'Sector': stock.info.get('sector'),\n",
        "    '52 Week Low': stat_1.loc[3][1],\n",
        "    '52 Week High': stat_1.loc[2][1],\n",
        "    'Price': round(si.get_live_price(ticker),2),\n",
        "    'Purchase Price': p_price,\n",
        "    'Shares Owned': shares,\n",
        "    'Capital Gain ($)': (round(si.get_live_price(ticker),2) - p_price)*shares,\n",
        "    'Capital Gain (%)': \"{:.2%}\".format(((round(si.get_live_price(ticker),2) - p_price)*shares)/(p_price*shares)),\n",
        "    'EPS' : summary_1.loc[2][1],\n",
        "    'Beta' : stock.info.get('beta'),\n",
        "    'Enterprise Value/EBITDA': stat_0.loc[8][1],\n",
        "    'Operating Margin': stat_5.loc[0][1],\n",
        "    'ROE':stat_6.loc[0][1],\n",
        "    'Debt-to-Equity': stat_8.loc[2][1],\n",
        "    'GE Next Year': analysis_5.loc[3][1],\n",
        "    'GE Next 5 Years': analysis_5.loc[4][1],\n",
        "    'GE Past 5 Years': analysis_5.loc[5][1]\n",
        "    }\n",
        "stock_df = pd.DataFrame(data = stock_metrics, index = [0])\n",
        "stock_df"
      ],
      "execution_count": 24,
      "outputs": [
        {
          "output_type": "execute_result",
          "data": {
            "text/html": [
              "<div>\n",
              "<style scoped>\n",
              "    .dataframe tbody tr th:only-of-type {\n",
              "        vertical-align: middle;\n",
              "    }\n",
              "\n",
              "    .dataframe tbody tr th {\n",
              "        vertical-align: top;\n",
              "    }\n",
              "\n",
              "    .dataframe thead th {\n",
              "        text-align: right;\n",
              "    }\n",
              "</style>\n",
              "<table border=\"1\" class=\"dataframe\">\n",
              "  <thead>\n",
              "    <tr style=\"text-align: right;\">\n",
              "      <th></th>\n",
              "      <th>Company</th>\n",
              "      <th>Ticker</th>\n",
              "      <th>Sector</th>\n",
              "      <th>52 Week Low</th>\n",
              "      <th>52 Week High</th>\n",
              "      <th>Price</th>\n",
              "      <th>Purchase Price</th>\n",
              "      <th>Shares Owned</th>\n",
              "      <th>Capital Gain ($)</th>\n",
              "      <th>Capital Gain (%)</th>\n",
              "      <th>EPS</th>\n",
              "      <th>Beta</th>\n",
              "      <th>Enterprise Value/EBITDA</th>\n",
              "      <th>Operating Margin</th>\n",
              "      <th>ROE</th>\n",
              "      <th>Debt-to-Equity</th>\n",
              "      <th>GE Next Year</th>\n",
              "      <th>GE Next 5 Years</th>\n",
              "      <th>GE Past 5 Years</th>\n",
              "    </tr>\n",
              "  </thead>\n",
              "  <tbody>\n",
              "    <tr>\n",
              "      <th>0</th>\n",
              "      <td>Boeing Company (The)</td>\n",
              "      <td>BA</td>\n",
              "      <td>Industrials</td>\n",
              "      <td>89.00</td>\n",
              "      <td>378.70</td>\n",
              "      <td>168.0</td>\n",
              "      <td>11.51</td>\n",
              "      <td>10</td>\n",
              "      <td>1564.9</td>\n",
              "      <td>1359.60%</td>\n",
              "      <td>-5.03</td>\n",
              "      <td>1.378378</td>\n",
              "      <td>-44.13</td>\n",
              "      <td>-5.01%</td>\n",
              "      <td>NaN</td>\n",
              "      <td>NaN</td>\n",
              "      <td>140.80%</td>\n",
              "      <td>12.33%</td>\n",
              "      <td>11.23%</td>\n",
              "    </tr>\n",
              "  </tbody>\n",
              "</table>\n",
              "</div>"
            ],
            "text/plain": [
              "                Company Ticker  ... GE Next 5 Years GE Past 5 Years\n",
              "0  Boeing Company (The)     BA  ...          12.33%          11.23%\n",
              "\n",
              "[1 rows x 19 columns]"
            ]
          },
          "metadata": {
            "tags": []
          },
          "execution_count": 24
        }
      ]
    },
    {
      "cell_type": "code",
      "metadata": {
        "id": "YBf88lPOChTc"
      },
      "source": [
        ""
      ],
      "execution_count": null,
      "outputs": []
    }
  ]
}