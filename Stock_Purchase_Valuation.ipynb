{
  "nbformat": 4,
  "nbformat_minor": 0,
  "metadata": {
    "colab": {
      "name": "Stock Purchase Valuation.ipynb",
      "provenance": [],
      "authorship_tag": "ABX9TyPCt2d4HNaLLXc+4M46IA/r",
      "include_colab_link": true
    },
    "kernelspec": {
      "name": "python3",
      "display_name": "Python 3"
    }
  },
  "cells": [
    {
      "cell_type": "markdown",
      "metadata": {
        "id": "view-in-github",
        "colab_type": "text"
      },
      "source": [
        "<a href=\"https://colab.research.google.com/github/juwimana/Trading/blob/main/Stock_Purchase_Valuation.ipynb\" target=\"_parent\"><img src=\"https://colab.research.google.com/assets/colab-badge.svg\" alt=\"Open In Colab\"/></a>"
      ]
    },
    {
      "cell_type": "code",
      "metadata": {
        "id": "vFPmek02-PrB",
        "outputId": "53846cd9-8b1a-4353-a35c-9f99877afac7",
        "colab": {
          "base_uri": "https://localhost:8080/",
          "height": 35
        }
      },
      "source": [
        "#import packages\n",
        "import datetime as dt\n",
        "import pandas as pd\n",
        "import pandas_datareader.data as data\n",
        "from pandas_datareader._utils import RemoteDataError\n",
        "\n",
        "#visualization packages\n",
        "import seaborn as sns\n",
        "\n",
        "#!pip install mplfinance\n",
        "import mplfinance as mpf\n",
        "\n",
        "#install python package yfinance\n",
        "#!pip install yfinance\n",
        "import yfinance as yf\n",
        "\n",
        "#currency formatting\n",
        "import locale \n",
        "locale.setlocale(locale.LC_ALL, '')"
      ],
      "execution_count": 253,
      "outputs": [
        {
          "output_type": "execute_result",
          "data": {
            "application/vnd.google.colaboratory.intrinsic+json": {
              "type": "string"
            },
            "text/plain": [
              "'en_US.UTF-8'"
            ]
          },
          "metadata": {
            "tags": []
          },
          "execution_count": 253
        }
      ]
    },
    {
      "cell_type": "code",
      "metadata": {
        "id": "c7eT7Bxq_8NO"
      },
      "source": [
        "start_date =dt.datetime(2020,10,1)\n",
        "end_date = dt.date.today()\n",
        "stock_data =''\n",
        "\n",
        "#stock ticker\n",
        "ticker = 'AMD'\n",
        "stock = yf.Ticker(ticker)"
      ],
      "execution_count": 254,
      "outputs": []
    },
    {
      "cell_type": "code",
      "metadata": {
        "id": "G10rdk-u-YX5",
        "outputId": "117bc9aa-e70b-45a7-d2a0-95eee3cf46ec",
        "colab": {
          "base_uri": "https://localhost:8080/",
          "height": 233
        }
      },
      "source": [
        "#general stock prices\n",
        "df_prices = yf.download(ticker, \n",
        "                      start=start_date, \n",
        "                      end=end_date, \n",
        "                      progress=False)\n",
        "df_prices.head()"
      ],
      "execution_count": 255,
      "outputs": [
        {
          "output_type": "execute_result",
          "data": {
            "text/html": [
              "<div>\n",
              "<style scoped>\n",
              "    .dataframe tbody tr th:only-of-type {\n",
              "        vertical-align: middle;\n",
              "    }\n",
              "\n",
              "    .dataframe tbody tr th {\n",
              "        vertical-align: top;\n",
              "    }\n",
              "\n",
              "    .dataframe thead th {\n",
              "        text-align: right;\n",
              "    }\n",
              "</style>\n",
              "<table border=\"1\" class=\"dataframe\">\n",
              "  <thead>\n",
              "    <tr style=\"text-align: right;\">\n",
              "      <th></th>\n",
              "      <th>Open</th>\n",
              "      <th>High</th>\n",
              "      <th>Low</th>\n",
              "      <th>Close</th>\n",
              "      <th>Adj Close</th>\n",
              "      <th>Volume</th>\n",
              "    </tr>\n",
              "    <tr>\n",
              "      <th>Date</th>\n",
              "      <th></th>\n",
              "      <th></th>\n",
              "      <th></th>\n",
              "      <th></th>\n",
              "      <th></th>\n",
              "      <th></th>\n",
              "    </tr>\n",
              "  </thead>\n",
              "  <tbody>\n",
              "    <tr>\n",
              "      <th>2020-10-01</th>\n",
              "      <td>83.059998</td>\n",
              "      <td>85.250000</td>\n",
              "      <td>82.860001</td>\n",
              "      <td>84.860001</td>\n",
              "      <td>84.860001</td>\n",
              "      <td>52177100</td>\n",
              "    </tr>\n",
              "    <tr>\n",
              "      <th>2020-10-02</th>\n",
              "      <td>82.580002</td>\n",
              "      <td>84.650002</td>\n",
              "      <td>81.660004</td>\n",
              "      <td>81.800003</td>\n",
              "      <td>81.800003</td>\n",
              "      <td>52855100</td>\n",
              "    </tr>\n",
              "    <tr>\n",
              "      <th>2020-10-05</th>\n",
              "      <td>82.550003</td>\n",
              "      <td>86.279999</td>\n",
              "      <td>82.550003</td>\n",
              "      <td>86.150002</td>\n",
              "      <td>86.150002</td>\n",
              "      <td>47056500</td>\n",
              "    </tr>\n",
              "    <tr>\n",
              "      <th>2020-10-06</th>\n",
              "      <td>86.209999</td>\n",
              "      <td>87.250000</td>\n",
              "      <td>83.540001</td>\n",
              "      <td>84.480003</td>\n",
              "      <td>84.480003</td>\n",
              "      <td>52725400</td>\n",
              "    </tr>\n",
              "    <tr>\n",
              "      <th>2020-10-07</th>\n",
              "      <td>86.099998</td>\n",
              "      <td>87.790001</td>\n",
              "      <td>85.650002</td>\n",
              "      <td>86.690002</td>\n",
              "      <td>86.690002</td>\n",
              "      <td>42951900</td>\n",
              "    </tr>\n",
              "  </tbody>\n",
              "</table>\n",
              "</div>"
            ],
            "text/plain": [
              "                 Open       High        Low      Close  Adj Close    Volume\n",
              "Date                                                                       \n",
              "2020-10-01  83.059998  85.250000  82.860001  84.860001  84.860001  52177100\n",
              "2020-10-02  82.580002  84.650002  81.660004  81.800003  81.800003  52855100\n",
              "2020-10-05  82.550003  86.279999  82.550003  86.150002  86.150002  47056500\n",
              "2020-10-06  86.209999  87.250000  83.540001  84.480003  84.480003  52725400\n",
              "2020-10-07  86.099998  87.790001  85.650002  86.690002  86.690002  42951900"
            ]
          },
          "metadata": {
            "tags": []
          },
          "execution_count": 255
        }
      ]
    },
    {
      "cell_type": "code",
      "metadata": {
        "id": "jLwBWG-cRuBc",
        "outputId": "bb1c3cad-8592-4e4c-821b-00e2b934d210",
        "colab": {
          "base_uri": "https://localhost:8080/",
          "height": 446
        }
      },
      "source": [
        "#get stock price historical data\n",
        "h_stock = stock.history(period='max')\n",
        "h_stock"
      ],
      "execution_count": 256,
      "outputs": [
        {
          "output_type": "execute_result",
          "data": {
            "text/html": [
              "<div>\n",
              "<style scoped>\n",
              "    .dataframe tbody tr th:only-of-type {\n",
              "        vertical-align: middle;\n",
              "    }\n",
              "\n",
              "    .dataframe tbody tr th {\n",
              "        vertical-align: top;\n",
              "    }\n",
              "\n",
              "    .dataframe thead th {\n",
              "        text-align: right;\n",
              "    }\n",
              "</style>\n",
              "<table border=\"1\" class=\"dataframe\">\n",
              "  <thead>\n",
              "    <tr style=\"text-align: right;\">\n",
              "      <th></th>\n",
              "      <th>Open</th>\n",
              "      <th>High</th>\n",
              "      <th>Low</th>\n",
              "      <th>Close</th>\n",
              "      <th>Volume</th>\n",
              "      <th>Dividends</th>\n",
              "      <th>Stock Splits</th>\n",
              "    </tr>\n",
              "    <tr>\n",
              "      <th>Date</th>\n",
              "      <th></th>\n",
              "      <th></th>\n",
              "      <th></th>\n",
              "      <th></th>\n",
              "      <th></th>\n",
              "      <th></th>\n",
              "      <th></th>\n",
              "    </tr>\n",
              "  </thead>\n",
              "  <tbody>\n",
              "    <tr>\n",
              "      <th>1980-03-17</th>\n",
              "      <td>0.000000</td>\n",
              "      <td>3.302083</td>\n",
              "      <td>3.125000</td>\n",
              "      <td>3.145833</td>\n",
              "      <td>219600</td>\n",
              "      <td>0</td>\n",
              "      <td>0.0</td>\n",
              "    </tr>\n",
              "    <tr>\n",
              "      <th>1980-03-18</th>\n",
              "      <td>0.000000</td>\n",
              "      <td>3.125000</td>\n",
              "      <td>2.937500</td>\n",
              "      <td>3.031250</td>\n",
              "      <td>727200</td>\n",
              "      <td>0</td>\n",
              "      <td>0.0</td>\n",
              "    </tr>\n",
              "    <tr>\n",
              "      <th>1980-03-19</th>\n",
              "      <td>0.000000</td>\n",
              "      <td>3.083333</td>\n",
              "      <td>3.020833</td>\n",
              "      <td>3.041667</td>\n",
              "      <td>295200</td>\n",
              "      <td>0</td>\n",
              "      <td>0.0</td>\n",
              "    </tr>\n",
              "    <tr>\n",
              "      <th>1980-03-20</th>\n",
              "      <td>0.000000</td>\n",
              "      <td>3.062500</td>\n",
              "      <td>3.010417</td>\n",
              "      <td>3.010417</td>\n",
              "      <td>159600</td>\n",
              "      <td>0</td>\n",
              "      <td>0.0</td>\n",
              "    </tr>\n",
              "    <tr>\n",
              "      <th>1980-03-21</th>\n",
              "      <td>0.000000</td>\n",
              "      <td>3.020833</td>\n",
              "      <td>2.906250</td>\n",
              "      <td>2.916667</td>\n",
              "      <td>130800</td>\n",
              "      <td>0</td>\n",
              "      <td>0.0</td>\n",
              "    </tr>\n",
              "    <tr>\n",
              "      <th>...</th>\n",
              "      <td>...</td>\n",
              "      <td>...</td>\n",
              "      <td>...</td>\n",
              "      <td>...</td>\n",
              "      <td>...</td>\n",
              "      <td>...</td>\n",
              "      <td>...</td>\n",
              "    </tr>\n",
              "    <tr>\n",
              "      <th>2020-10-02</th>\n",
              "      <td>82.580002</td>\n",
              "      <td>84.650002</td>\n",
              "      <td>81.660004</td>\n",
              "      <td>81.800003</td>\n",
              "      <td>52855100</td>\n",
              "      <td>0</td>\n",
              "      <td>0.0</td>\n",
              "    </tr>\n",
              "    <tr>\n",
              "      <th>2020-10-05</th>\n",
              "      <td>82.550003</td>\n",
              "      <td>86.279999</td>\n",
              "      <td>82.550003</td>\n",
              "      <td>86.150002</td>\n",
              "      <td>47056500</td>\n",
              "      <td>0</td>\n",
              "      <td>0.0</td>\n",
              "    </tr>\n",
              "    <tr>\n",
              "      <th>2020-10-06</th>\n",
              "      <td>86.209999</td>\n",
              "      <td>87.250000</td>\n",
              "      <td>83.540001</td>\n",
              "      <td>84.480003</td>\n",
              "      <td>52725400</td>\n",
              "      <td>0</td>\n",
              "      <td>0.0</td>\n",
              "    </tr>\n",
              "    <tr>\n",
              "      <th>2020-10-07</th>\n",
              "      <td>86.099998</td>\n",
              "      <td>87.790001</td>\n",
              "      <td>85.650002</td>\n",
              "      <td>86.690002</td>\n",
              "      <td>42951900</td>\n",
              "      <td>0</td>\n",
              "      <td>0.0</td>\n",
              "    </tr>\n",
              "    <tr>\n",
              "      <th>2020-10-08</th>\n",
              "      <td>88.110001</td>\n",
              "      <td>88.220001</td>\n",
              "      <td>86.459999</td>\n",
              "      <td>86.699997</td>\n",
              "      <td>7005652</td>\n",
              "      <td>0</td>\n",
              "      <td>0.0</td>\n",
              "    </tr>\n",
              "  </tbody>\n",
              "</table>\n",
              "<p>10230 rows × 7 columns</p>\n",
              "</div>"
            ],
            "text/plain": [
              "                 Open       High        Low  ...    Volume  Dividends  Stock Splits\n",
              "Date                                         ...                                   \n",
              "1980-03-17   0.000000   3.302083   3.125000  ...    219600          0           0.0\n",
              "1980-03-18   0.000000   3.125000   2.937500  ...    727200          0           0.0\n",
              "1980-03-19   0.000000   3.083333   3.020833  ...    295200          0           0.0\n",
              "1980-03-20   0.000000   3.062500   3.010417  ...    159600          0           0.0\n",
              "1980-03-21   0.000000   3.020833   2.906250  ...    130800          0           0.0\n",
              "...               ...        ...        ...  ...       ...        ...           ...\n",
              "2020-10-02  82.580002  84.650002  81.660004  ...  52855100          0           0.0\n",
              "2020-10-05  82.550003  86.279999  82.550003  ...  47056500          0           0.0\n",
              "2020-10-06  86.209999  87.250000  83.540001  ...  52725400          0           0.0\n",
              "2020-10-07  86.099998  87.790001  85.650002  ...  42951900          0           0.0\n",
              "2020-10-08  88.110001  88.220001  86.459999  ...   7005652          0           0.0\n",
              "\n",
              "[10230 rows x 7 columns]"
            ]
          },
          "metadata": {
            "tags": []
          },
          "execution_count": 256
        }
      ]
    },
    {
      "cell_type": "code",
      "metadata": {
        "id": "MptdReskWAVp",
        "outputId": "2c16d9d9-e31f-46cc-b4d1-78b604e8fa2c",
        "colab": {
          "base_uri": "https://localhost:8080/",
          "height": 469
        }
      },
      "source": [
        "#plot historical data\n",
        "plt.rcParams[\"figure.figsize\"] = (20,7)\n",
        "sns.set_theme(style=\"whitegrid\")\n",
        "sns.lineplot(data=h_stock.High, palette='tab10')"
      ],
      "execution_count": 257,
      "outputs": [
        {
          "output_type": "execute_result",
          "data": {
            "text/plain": [
              "<matplotlib.axes._subplots.AxesSubplot at 0x7f4d8c1f7e48>"
            ]
          },
          "metadata": {
            "tags": []
          },
          "execution_count": 257
        },
        {
          "output_type": "display_data",
          "data": {
            "image/png": "[encoded data removed]",
            "text/plain": [
              "<Figure size 2000x700 with 1 Axes>"
            ]
          },
          "metadata": {
            "tags": []
          }
        }
      ]
    },
    {
      "cell_type": "code",
      "metadata": {
        "id": "N9fvgWeJYV0b",
        "outputId": "03910f2b-8a8a-4703-e296-817cbf5957eb",
        "colab": {
          "base_uri": "https://localhost:8080/",
          "height": 618
        }
      },
      "source": [
        "#plot stock historical data using mplfinance package\n",
        "mpf.plot(h_stock,type='candle',mav=(3,6,9),volume=False, figratio=(25,10), \n",
        "         title='\\n{}\\n {}, {} {}, {}'.format(ticker,end_date.strftime('%A'), end_date.strftime(\"%B\"), end_date.day, end_date.year),\n",
        "         ylabel='OHLC Candles',\n",
        "         ylabel_lower='Shares\\nTraded'\n",
        "         )"
      ],
      "execution_count": 258,
      "outputs": [
        {
          "output_type": "display_data",
          "data": {
            "image/png": "[encoded data removed]",
            "text/plain": [
              "<Figure size 1437.5x575 with 2 Axes>"
            ]
          },
          "metadata": {
            "tags": []
          }
        }
      ]
    },
    {
      "cell_type": "code",
      "metadata": {
        "id": "JXz4NCnhFmCn",
        "outputId": "0c5cce40-222c-4a78-d606-0cb6c216c375",
        "colab": {
          "base_uri": "https://localhost:8080/",
          "height": 87
        }
      },
      "source": [
        "#incomplete url string\n",
        "str_summary = 'https://finance.yahoo.com/quote/{}?p={}&.tsrc=fin-srch'\n",
        "str_stat = 'https://finance.yahoo.com/quote/{}/key-statistics?p={}'\n",
        "str_analysis = 'https://finance.yahoo.com/quote/{}/analysis?p={}'\n",
        "str_financials= 'https://finance.yahoo.com/quote/{}/financials?p={}'\n",
        "\n",
        "#complete website url\n",
        "url_summary = str_summary.format(ticker,ticker)\n",
        "url_stat = str_stat.format(ticker,ticker)\n",
        "url_analysis = str_analysis.format(ticker,ticker)\n",
        "url_financials = str_financials.format(ticker,ticker)\n",
        "\n",
        "print(url_summary)\n",
        "print(url_stat)\n",
        "print(url_analysis)\n",
        "print(url_financials)"
      ],
      "execution_count": 259,
      "outputs": [
        {
          "output_type": "stream",
          "text": [
            "https://finance.yahoo.com/quote/AMD?p=AMD&.tsrc=fin-srch\n",
            "https://finance.yahoo.com/quote/AMD/key-statistics?p=AMD\n",
            "https://finance.yahoo.com/quote/AMD/analysis?p=AMD\n",
            "https://finance.yahoo.com/quote/AMD/financials?p=AMD\n"
          ],
          "name": "stdout"
        }
      ]
    },
    {
      "cell_type": "code",
      "metadata": {
        "id": "5gujSGd9HMrm",
        "outputId": "12d49240-2add-4ea8-ffbe-8b8a6cb8868d",
        "colab": {
          "base_uri": "https://localhost:8080/",
          "height": 295
        }
      },
      "source": [
        "#read ticker financial summary page\n",
        "df_summary = pd.read_html(url_summary, header = 0)\n",
        "df_summary"
      ],
      "execution_count": 260,
      "outputs": [
        {
          "output_type": "execute_result",
          "data": {
            "text/plain": [
              "[  Previous Close          86.69\n",
              " 0           Open          88.11\n",
              " 1            Bid   87.17 x 1200\n",
              " 2            Ask   87.03 x 2900\n",
              " 3    Day's Range  86.46 - 88.22\n",
              " 4  52 Week Range  28.00 - 94.28\n",
              " 5         Volume        7027955\n",
              " 6    Avg. Volume       62618356,\n",
              "                  Market Cap                     101.826B\n",
              " 0         Beta (5Y Monthly)                         2.29\n",
              " 1            PE Ratio (TTM)                       168.73\n",
              " 2                 EPS (TTM)                         0.51\n",
              " 3             Earnings Date  Oct 27, 2020 - Nov 02, 2020\n",
              " 4  Forward Dividend & Yield                    N/A (N/A)\n",
              " 5          Ex-Dividend Date                 Apr 27, 1995\n",
              " 6             1y Target Est                        78.64]"
            ]
          },
          "metadata": {
            "tags": []
          },
          "execution_count": 260
        }
      ]
    },
    {
      "cell_type": "code",
      "metadata": {
        "id": "pTtdmrSJRZUe",
        "outputId": "9eb98032-b5f9-463d-99c6-66224f07bb35",
        "colab": {
          "base_uri": "https://localhost:8080/",
          "height": 263
        }
      },
      "source": [
        "summary_2 = df_summary[0]\n",
        "summary_2"
      ],
      "execution_count": 261,
      "outputs": [
        {
          "output_type": "execute_result",
          "data": {
            "text/html": [
              "<div>\n",
              "<style scoped>\n",
              "    .dataframe tbody tr th:only-of-type {\n",
              "        vertical-align: middle;\n",
              "    }\n",
              "\n",
              "    .dataframe tbody tr th {\n",
              "        vertical-align: top;\n",
              "    }\n",
              "\n",
              "    .dataframe thead th {\n",
              "        text-align: right;\n",
              "    }\n",
              "</style>\n",
              "<table border=\"1\" class=\"dataframe\">\n",
              "  <thead>\n",
              "    <tr style=\"text-align: right;\">\n",
              "      <th></th>\n",
              "      <th>Previous Close</th>\n",
              "      <th>86.69</th>\n",
              "    </tr>\n",
              "  </thead>\n",
              "  <tbody>\n",
              "    <tr>\n",
              "      <th>0</th>\n",
              "      <td>Open</td>\n",
              "      <td>88.11</td>\n",
              "    </tr>\n",
              "    <tr>\n",
              "      <th>1</th>\n",
              "      <td>Bid</td>\n",
              "      <td>87.17 x 1200</td>\n",
              "    </tr>\n",
              "    <tr>\n",
              "      <th>2</th>\n",
              "      <td>Ask</td>\n",
              "      <td>87.03 x 2900</td>\n",
              "    </tr>\n",
              "    <tr>\n",
              "      <th>3</th>\n",
              "      <td>Day's Range</td>\n",
              "      <td>86.46 - 88.22</td>\n",
              "    </tr>\n",
              "    <tr>\n",
              "      <th>4</th>\n",
              "      <td>52 Week Range</td>\n",
              "      <td>28.00 - 94.28</td>\n",
              "    </tr>\n",
              "    <tr>\n",
              "      <th>5</th>\n",
              "      <td>Volume</td>\n",
              "      <td>7027955</td>\n",
              "    </tr>\n",
              "    <tr>\n",
              "      <th>6</th>\n",
              "      <td>Avg. Volume</td>\n",
              "      <td>62618356</td>\n",
              "    </tr>\n",
              "  </tbody>\n",
              "</table>\n",
              "</div>"
            ],
            "text/plain": [
              "  Previous Close          86.69\n",
              "0           Open          88.11\n",
              "1            Bid   87.17 x 1200\n",
              "2            Ask   87.03 x 2900\n",
              "3    Day's Range  86.46 - 88.22\n",
              "4  52 Week Range  28.00 - 94.28\n",
              "5         Volume        7027955\n",
              "6    Avg. Volume       62618356"
            ]
          },
          "metadata": {
            "tags": []
          },
          "execution_count": 261
        }
      ]
    },
    {
      "cell_type": "code",
      "metadata": {
        "id": "avaJdMd4HOr8",
        "outputId": "08c2eac7-0bab-4926-ba5f-9ea0e6ef7bbd",
        "colab": {
          "base_uri": "https://localhost:8080/",
          "height": 263
        }
      },
      "source": [
        "summary_1 = df_summary[1]\n",
        "summary_1"
      ],
      "execution_count": 262,
      "outputs": [
        {
          "output_type": "execute_result",
          "data": {
            "text/html": [
              "<div>\n",
              "<style scoped>\n",
              "    .dataframe tbody tr th:only-of-type {\n",
              "        vertical-align: middle;\n",
              "    }\n",
              "\n",
              "    .dataframe tbody tr th {\n",
              "        vertical-align: top;\n",
              "    }\n",
              "\n",
              "    .dataframe thead th {\n",
              "        text-align: right;\n",
              "    }\n",
              "</style>\n",
              "<table border=\"1\" class=\"dataframe\">\n",
              "  <thead>\n",
              "    <tr style=\"text-align: right;\">\n",
              "      <th></th>\n",
              "      <th>Market Cap</th>\n",
              "      <th>101.826B</th>\n",
              "    </tr>\n",
              "  </thead>\n",
              "  <tbody>\n",
              "    <tr>\n",
              "      <th>0</th>\n",
              "      <td>Beta (5Y Monthly)</td>\n",
              "      <td>2.29</td>\n",
              "    </tr>\n",
              "    <tr>\n",
              "      <th>1</th>\n",
              "      <td>PE Ratio (TTM)</td>\n",
              "      <td>168.73</td>\n",
              "    </tr>\n",
              "    <tr>\n",
              "      <th>2</th>\n",
              "      <td>EPS (TTM)</td>\n",
              "      <td>0.51</td>\n",
              "    </tr>\n",
              "    <tr>\n",
              "      <th>3</th>\n",
              "      <td>Earnings Date</td>\n",
              "      <td>Oct 27, 2020 - Nov 02, 2020</td>\n",
              "    </tr>\n",
              "    <tr>\n",
              "      <th>4</th>\n",
              "      <td>Forward Dividend &amp; Yield</td>\n",
              "      <td>N/A (N/A)</td>\n",
              "    </tr>\n",
              "    <tr>\n",
              "      <th>5</th>\n",
              "      <td>Ex-Dividend Date</td>\n",
              "      <td>Apr 27, 1995</td>\n",
              "    </tr>\n",
              "    <tr>\n",
              "      <th>6</th>\n",
              "      <td>1y Target Est</td>\n",
              "      <td>78.64</td>\n",
              "    </tr>\n",
              "  </tbody>\n",
              "</table>\n",
              "</div>"
            ],
            "text/plain": [
              "                 Market Cap                     101.826B\n",
              "0         Beta (5Y Monthly)                         2.29\n",
              "1            PE Ratio (TTM)                       168.73\n",
              "2                 EPS (TTM)                         0.51\n",
              "3             Earnings Date  Oct 27, 2020 - Nov 02, 2020\n",
              "4  Forward Dividend & Yield                    N/A (N/A)\n",
              "5          Ex-Dividend Date                 Apr 27, 1995\n",
              "6             1y Target Est                        78.64"
            ]
          },
          "metadata": {
            "tags": []
          },
          "execution_count": 262
        }
      ]
    },
    {
      "cell_type": "code",
      "metadata": {
        "id": "t-yHL-XLVOI1",
        "outputId": "5843659c-7d57-4533-f9a5-f863fd71fdba",
        "colab": {
          "base_uri": "https://localhost:8080/",
          "height": 936
        }
      },
      "source": [
        "#read ticker financial statistics page\n",
        "df_stat = pd.read_html(url_stat, header =0)\n",
        "df_stat"
      ],
      "execution_count": 263,
      "outputs": [
        {
          "output_type": "execute_result",
          "data": {
            "text/plain": [
              "[                    Unnamed: 0  ... 9/30/2019\n",
              " 0      Market Cap (intraday) 5  ...    32.29B\n",
              " 1           Enterprise Value 3  ...    32.45B\n",
              " 2                 Trailing P/E  ...    161.06\n",
              " 3                Forward P/E 1  ...     28.17\n",
              " 4  PEG Ratio (5 yr expected) 1  ...      0.99\n",
              " 5            Price/Sales (ttm)  ...      5.40\n",
              " 6             Price/Book (mrq)  ...     16.99\n",
              " 7   Enterprise Value/Revenue 3  ...     18.02\n",
              " 8    Enterprise Value/EBITDA 6  ...    148.16\n",
              " \n",
              " [9 rows x 6 columns],           Beta (5Y Monthly)     2.29\n",
              " 0          52-Week Change 3  205.46%\n",
              " 1   S&P500 52-Week Change 3   16.38%\n",
              " 2            52 Week High 3    94.28\n",
              " 3             52 Week Low 3    28.00\n",
              " 4   50-Day Moving Average 3    81.79\n",
              " 5  200-Day Moving Average 3    63.57,                               Avg Vol (3 month) 3  62.62M\n",
              " 0                              Avg Vol (10 day) 3   51.1M\n",
              " 1                            Shares Outstanding 5   1.17B\n",
              " 2                                           Float   1.17B\n",
              " 3                            % Held by Insiders 1   0.60%\n",
              " 4                        % Held by Institutions 1  78.19%\n",
              " 5                   Shares Short (Sep 14, 2020) 4  32.52M\n",
              " 6                    Short Ratio (Sep 14, 2020) 4    0.62\n",
              " 7               Short % of Float (Sep 14, 2020) 4   2.79%\n",
              " 8  Short % of Shares Outstanding (Sep 14, 2020) 4   2.77%\n",
              " 9       Shares Short (prior month Aug 13, 2020) 4  44.79M,      Forward Annual Dividend Rate 4           N/A\n",
              " 0   Forward Annual Dividend Yield 4           NaN\n",
              " 1   Trailing Annual Dividend Rate 3           NaN\n",
              " 2  Trailing Annual Dividend Yield 3           NaN\n",
              " 3   5 Year Average Dividend Yield 4           NaN\n",
              " 4                    Payout Ratio 4         0.00%\n",
              " 5                   Dividend Date 3           NaN\n",
              " 6                Ex-Dividend Date 4  Apr 26, 1995\n",
              " 7               Last Split Factor 2           2:1\n",
              " 8                 Last Split Date 3  Aug 21, 2000,             Fiscal Year Ends  Dec 27, 2019\n",
              " 0  Most Recent Quarter (mrq)  Jun 26, 2020,             Profit Margin   7.96%\n",
              " 0  Operating Margin (ttm)  11.56%,    Return on Assets (ttm)   9.46%\n",
              " 0  Return on Equity (ttm)  23.40%,                      Revenue (ttm)    7.65B\n",
              " 0          Revenue Per Share (ttm)     6.68\n",
              " 1   Quarterly Revenue Growth (yoy)   26.20%\n",
              " 2               Gross Profit (ttm)    2.87B\n",
              " 3                           EBITDA    1.15B\n",
              " 4   Net Income Avi to Common (ttm)     609M\n",
              " 5                Diluted EPS (ttm)     0.51\n",
              " 6  Quarterly Earnings Growth (yoy)  348.60%,              Total Cash (mrq)  1.78B\n",
              " 0  Total Cash Per Share (mrq)   1.51\n",
              " 1            Total Debt (mrq)   894M\n",
              " 2     Total Debt/Equity (mrq)  27.05\n",
              " 3         Current Ratio (mrq)   2.10\n",
              " 4  Book Value Per Share (mrq)   2.82,       Operating Cash Flow (ttm)     854M\n",
              " 0  Levered Free Cash Flow (ttm)  578.37M]"
            ]
          },
          "metadata": {
            "tags": []
          },
          "execution_count": 263
        }
      ]
    },
    {
      "cell_type": "code",
      "metadata": {
        "id": "t8f9HR7DVpVE",
        "outputId": "e8f6502c-d622-4bd9-fbd4-a83661088ddc",
        "colab": {
          "base_uri": "https://localhost:8080/",
          "height": 35
        }
      },
      "source": [
        "len(df_stat)"
      ],
      "execution_count": 264,
      "outputs": [
        {
          "output_type": "execute_result",
          "data": {
            "text/plain": [
              "10"
            ]
          },
          "metadata": {
            "tags": []
          },
          "execution_count": 264
        }
      ]
    },
    {
      "cell_type": "code",
      "metadata": {
        "id": "kua3ygdsXoiT",
        "outputId": "b86b8284-44dd-402f-dfae-f0f52c7a3baa",
        "colab": {
          "base_uri": "https://localhost:8080/",
          "height": 325
        }
      },
      "source": [
        "stat_0 = df_stat[0]\n",
        "stat_0"
      ],
      "execution_count": 265,
      "outputs": [
        {
          "output_type": "execute_result",
          "data": {
            "text/html": [
              "<div>\n",
              "<style scoped>\n",
              "    .dataframe tbody tr th:only-of-type {\n",
              "        vertical-align: middle;\n",
              "    }\n",
              "\n",
              "    .dataframe tbody tr th {\n",
              "        vertical-align: top;\n",
              "    }\n",
              "\n",
              "    .dataframe thead th {\n",
              "        text-align: right;\n",
              "    }\n",
              "</style>\n",
              "<table border=\"1\" class=\"dataframe\">\n",
              "  <thead>\n",
              "    <tr style=\"text-align: right;\">\n",
              "      <th></th>\n",
              "      <th>Unnamed: 0</th>\n",
              "      <th>As of Date: 9/26/2020Current</th>\n",
              "      <th>6/30/2020</th>\n",
              "      <th>3/31/2020</th>\n",
              "      <th>12/31/2019</th>\n",
              "      <th>9/30/2019</th>\n",
              "    </tr>\n",
              "  </thead>\n",
              "  <tbody>\n",
              "    <tr>\n",
              "      <th>0</th>\n",
              "      <td>Market Cap (intraday) 5</td>\n",
              "      <td>89.02B</td>\n",
              "      <td>61.76B</td>\n",
              "      <td>53.26B</td>\n",
              "      <td>53.66B</td>\n",
              "      <td>32.29B</td>\n",
              "    </tr>\n",
              "    <tr>\n",
              "      <th>1</th>\n",
              "      <td>Enterprise Value 3</td>\n",
              "      <td>88.14B</td>\n",
              "      <td>61.08B</td>\n",
              "      <td>52.48B</td>\n",
              "      <td>53.56B</td>\n",
              "      <td>32.45B</td>\n",
              "    </tr>\n",
              "    <tr>\n",
              "      <th>2</th>\n",
              "      <td>Trailing P/E</td>\n",
              "      <td>145.81</td>\n",
              "      <td>122.35</td>\n",
              "      <td>151.60</td>\n",
              "      <td>241.37</td>\n",
              "      <td>161.06</td>\n",
              "    </tr>\n",
              "    <tr>\n",
              "      <th>3</th>\n",
              "      <td>Forward P/E 1</td>\n",
              "      <td>45.45</td>\n",
              "      <td>52.63</td>\n",
              "      <td>39.84</td>\n",
              "      <td>43.48</td>\n",
              "      <td>28.17</td>\n",
              "    </tr>\n",
              "    <tr>\n",
              "      <th>4</th>\n",
              "      <td>PEG Ratio (5 yr expected) 1</td>\n",
              "      <td>1.31</td>\n",
              "      <td>1.55</td>\n",
              "      <td>1.66</td>\n",
              "      <td>1.55</td>\n",
              "      <td>0.99</td>\n",
              "    </tr>\n",
              "    <tr>\n",
              "      <th>5</th>\n",
              "      <td>Price/Sales (ttm)</td>\n",
              "      <td>11.72</td>\n",
              "      <td>8.37</td>\n",
              "      <td>7.57</td>\n",
              "      <td>8.38</td>\n",
              "      <td>5.40</td>\n",
              "    </tr>\n",
              "    <tr>\n",
              "      <th>6</th>\n",
              "      <td>Price/Book (mrq)</td>\n",
              "      <td>26.93</td>\n",
              "      <td>20.34</td>\n",
              "      <td>18.84</td>\n",
              "      <td>24.66</td>\n",
              "      <td>16.99</td>\n",
              "    </tr>\n",
              "    <tr>\n",
              "      <th>7</th>\n",
              "      <td>Enterprise Value/Revenue 3</td>\n",
              "      <td>11.53</td>\n",
              "      <td>31.61</td>\n",
              "      <td>29.39</td>\n",
              "      <td>25.18</td>\n",
              "      <td>18.02</td>\n",
              "    </tr>\n",
              "    <tr>\n",
              "      <th>8</th>\n",
              "      <td>Enterprise Value/EBITDA 6</td>\n",
              "      <td>85.57</td>\n",
              "      <td>238.59</td>\n",
              "      <td>202.63</td>\n",
              "      <td>180.94</td>\n",
              "      <td>148.16</td>\n",
              "    </tr>\n",
              "  </tbody>\n",
              "</table>\n",
              "</div>"
            ],
            "text/plain": [
              "                    Unnamed: 0  ... 9/30/2019\n",
              "0      Market Cap (intraday) 5  ...    32.29B\n",
              "1           Enterprise Value 3  ...    32.45B\n",
              "2                 Trailing P/E  ...    161.06\n",
              "3                Forward P/E 1  ...     28.17\n",
              "4  PEG Ratio (5 yr expected) 1  ...      0.99\n",
              "5            Price/Sales (ttm)  ...      5.40\n",
              "6             Price/Book (mrq)  ...     16.99\n",
              "7   Enterprise Value/Revenue 3  ...     18.02\n",
              "8    Enterprise Value/EBITDA 6  ...    148.16\n",
              "\n",
              "[9 rows x 6 columns]"
            ]
          },
          "metadata": {
            "tags": []
          },
          "execution_count": 265
        }
      ]
    },
    {
      "cell_type": "code",
      "metadata": {
        "id": "uhJgDa7Jbwoa",
        "outputId": "32e11989-0c9a-4877-f67d-1829098a5511",
        "colab": {
          "base_uri": "https://localhost:8080/",
          "height": 233
        }
      },
      "source": [
        "stat_1 = df_stat[1]\n",
        "stat_1"
      ],
      "execution_count": 266,
      "outputs": [
        {
          "output_type": "execute_result",
          "data": {
            "text/html": [
              "<div>\n",
              "<style scoped>\n",
              "    .dataframe tbody tr th:only-of-type {\n",
              "        vertical-align: middle;\n",
              "    }\n",
              "\n",
              "    .dataframe tbody tr th {\n",
              "        vertical-align: top;\n",
              "    }\n",
              "\n",
              "    .dataframe thead th {\n",
              "        text-align: right;\n",
              "    }\n",
              "</style>\n",
              "<table border=\"1\" class=\"dataframe\">\n",
              "  <thead>\n",
              "    <tr style=\"text-align: right;\">\n",
              "      <th></th>\n",
              "      <th>Beta (5Y Monthly)</th>\n",
              "      <th>2.29</th>\n",
              "    </tr>\n",
              "  </thead>\n",
              "  <tbody>\n",
              "    <tr>\n",
              "      <th>0</th>\n",
              "      <td>52-Week Change 3</td>\n",
              "      <td>205.46%</td>\n",
              "    </tr>\n",
              "    <tr>\n",
              "      <th>1</th>\n",
              "      <td>S&amp;P500 52-Week Change 3</td>\n",
              "      <td>16.38%</td>\n",
              "    </tr>\n",
              "    <tr>\n",
              "      <th>2</th>\n",
              "      <td>52 Week High 3</td>\n",
              "      <td>94.28</td>\n",
              "    </tr>\n",
              "    <tr>\n",
              "      <th>3</th>\n",
              "      <td>52 Week Low 3</td>\n",
              "      <td>28.00</td>\n",
              "    </tr>\n",
              "    <tr>\n",
              "      <th>4</th>\n",
              "      <td>50-Day Moving Average 3</td>\n",
              "      <td>81.79</td>\n",
              "    </tr>\n",
              "    <tr>\n",
              "      <th>5</th>\n",
              "      <td>200-Day Moving Average 3</td>\n",
              "      <td>63.57</td>\n",
              "    </tr>\n",
              "  </tbody>\n",
              "</table>\n",
              "</div>"
            ],
            "text/plain": [
              "          Beta (5Y Monthly)     2.29\n",
              "0          52-Week Change 3  205.46%\n",
              "1   S&P500 52-Week Change 3   16.38%\n",
              "2            52 Week High 3    94.28\n",
              "3             52 Week Low 3    28.00\n",
              "4   50-Day Moving Average 3    81.79\n",
              "5  200-Day Moving Average 3    63.57"
            ]
          },
          "metadata": {
            "tags": []
          },
          "execution_count": 266
        }
      ]
    },
    {
      "cell_type": "code",
      "metadata": {
        "id": "czZ_N2lXcUuo",
        "outputId": "e0039432-6dbc-44b4-85b7-46b1330da17b",
        "colab": {
          "base_uri": "https://localhost:8080/",
          "height": 79
        }
      },
      "source": [
        "stat_5 = df_stat[5]\n",
        "stat_5"
      ],
      "execution_count": 267,
      "outputs": [
        {
          "output_type": "execute_result",
          "data": {
            "text/html": [
              "<div>\n",
              "<style scoped>\n",
              "    .dataframe tbody tr th:only-of-type {\n",
              "        vertical-align: middle;\n",
              "    }\n",
              "\n",
              "    .dataframe tbody tr th {\n",
              "        vertical-align: top;\n",
              "    }\n",
              "\n",
              "    .dataframe thead th {\n",
              "        text-align: right;\n",
              "    }\n",
              "</style>\n",
              "<table border=\"1\" class=\"dataframe\">\n",
              "  <thead>\n",
              "    <tr style=\"text-align: right;\">\n",
              "      <th></th>\n",
              "      <th>Profit Margin</th>\n",
              "      <th>7.96%</th>\n",
              "    </tr>\n",
              "  </thead>\n",
              "  <tbody>\n",
              "    <tr>\n",
              "      <th>0</th>\n",
              "      <td>Operating Margin (ttm)</td>\n",
              "      <td>11.56%</td>\n",
              "    </tr>\n",
              "  </tbody>\n",
              "</table>\n",
              "</div>"
            ],
            "text/plain": [
              "            Profit Margin   7.96%\n",
              "0  Operating Margin (ttm)  11.56%"
            ]
          },
          "metadata": {
            "tags": []
          },
          "execution_count": 267
        }
      ]
    },
    {
      "cell_type": "code",
      "metadata": {
        "id": "ej0kcJ_7fR8D",
        "outputId": "ac40e896-08e3-46f4-84bf-58c9b575adda",
        "colab": {
          "base_uri": "https://localhost:8080/",
          "height": 79
        }
      },
      "source": [
        "stat_6 = df_stat[6]\n",
        "stat_6"
      ],
      "execution_count": 268,
      "outputs": [
        {
          "output_type": "execute_result",
          "data": {
            "text/html": [
              "<div>\n",
              "<style scoped>\n",
              "    .dataframe tbody tr th:only-of-type {\n",
              "        vertical-align: middle;\n",
              "    }\n",
              "\n",
              "    .dataframe tbody tr th {\n",
              "        vertical-align: top;\n",
              "    }\n",
              "\n",
              "    .dataframe thead th {\n",
              "        text-align: right;\n",
              "    }\n",
              "</style>\n",
              "<table border=\"1\" class=\"dataframe\">\n",
              "  <thead>\n",
              "    <tr style=\"text-align: right;\">\n",
              "      <th></th>\n",
              "      <th>Return on Assets (ttm)</th>\n",
              "      <th>9.46%</th>\n",
              "    </tr>\n",
              "  </thead>\n",
              "  <tbody>\n",
              "    <tr>\n",
              "      <th>0</th>\n",
              "      <td>Return on Equity (ttm)</td>\n",
              "      <td>23.40%</td>\n",
              "    </tr>\n",
              "  </tbody>\n",
              "</table>\n",
              "</div>"
            ],
            "text/plain": [
              "   Return on Assets (ttm)   9.46%\n",
              "0  Return on Equity (ttm)  23.40%"
            ]
          },
          "metadata": {
            "tags": []
          },
          "execution_count": 268
        }
      ]
    },
    {
      "cell_type": "code",
      "metadata": {
        "id": "HVxwJAuZgLQv",
        "outputId": "9cd448b2-48ba-48d9-a572-aa50ffe1042d",
        "colab": {
          "base_uri": "https://localhost:8080/",
          "height": 202
        }
      },
      "source": [
        "stat_8 = df_stat[8]\n",
        "stat_8"
      ],
      "execution_count": 269,
      "outputs": [
        {
          "output_type": "execute_result",
          "data": {
            "text/html": [
              "<div>\n",
              "<style scoped>\n",
              "    .dataframe tbody tr th:only-of-type {\n",
              "        vertical-align: middle;\n",
              "    }\n",
              "\n",
              "    .dataframe tbody tr th {\n",
              "        vertical-align: top;\n",
              "    }\n",
              "\n",
              "    .dataframe thead th {\n",
              "        text-align: right;\n",
              "    }\n",
              "</style>\n",
              "<table border=\"1\" class=\"dataframe\">\n",
              "  <thead>\n",
              "    <tr style=\"text-align: right;\">\n",
              "      <th></th>\n",
              "      <th>Total Cash (mrq)</th>\n",
              "      <th>1.78B</th>\n",
              "    </tr>\n",
              "  </thead>\n",
              "  <tbody>\n",
              "    <tr>\n",
              "      <th>0</th>\n",
              "      <td>Total Cash Per Share (mrq)</td>\n",
              "      <td>1.51</td>\n",
              "    </tr>\n",
              "    <tr>\n",
              "      <th>1</th>\n",
              "      <td>Total Debt (mrq)</td>\n",
              "      <td>894M</td>\n",
              "    </tr>\n",
              "    <tr>\n",
              "      <th>2</th>\n",
              "      <td>Total Debt/Equity (mrq)</td>\n",
              "      <td>27.05</td>\n",
              "    </tr>\n",
              "    <tr>\n",
              "      <th>3</th>\n",
              "      <td>Current Ratio (mrq)</td>\n",
              "      <td>2.10</td>\n",
              "    </tr>\n",
              "    <tr>\n",
              "      <th>4</th>\n",
              "      <td>Book Value Per Share (mrq)</td>\n",
              "      <td>2.82</td>\n",
              "    </tr>\n",
              "  </tbody>\n",
              "</table>\n",
              "</div>"
            ],
            "text/plain": [
              "             Total Cash (mrq)  1.78B\n",
              "0  Total Cash Per Share (mrq)   1.51\n",
              "1            Total Debt (mrq)   894M\n",
              "2     Total Debt/Equity (mrq)  27.05\n",
              "3         Current Ratio (mrq)   2.10\n",
              "4  Book Value Per Share (mrq)   2.82"
            ]
          },
          "metadata": {
            "tags": []
          },
          "execution_count": 269
        }
      ]
    },
    {
      "cell_type": "code",
      "metadata": {
        "id": "UCMxcWf4iN2v",
        "outputId": "16da2470-00f1-4d96-b009-751182c12c1a",
        "colab": {
          "base_uri": "https://localhost:8080/",
          "height": 693
        }
      },
      "source": [
        "#read ticker financial statistics page\n",
        "df_analysis = pd.read_html(url_analysis, header =0)\n",
        "df_analysis"
      ],
      "execution_count": 270,
      "outputs": [
        {
          "output_type": "execute_result",
          "data": {
            "text/plain": [
              "[  Earnings Estimate  ...  Next Year (2021)\n",
              " 0   No. of Analysts  ...             36.00\n",
              " 1     Avg. Estimate  ...              1.66\n",
              " 2      Low Estimate  ...              1.35\n",
              " 3     High Estimate  ...              2.16\n",
              " 4      Year Ago EPS  ...              1.10\n",
              " \n",
              " [5 rows x 5 columns],           Revenue Estimate  ... Next Year (2021)\n",
              " 0          No. of Analysts  ...               36\n",
              " 1            Avg. Estimate  ...           10.96B\n",
              " 2             Low Estimate  ...            9.76B\n",
              " 3            High Estimate  ...           11.96B\n",
              " 4           Year Ago Sales  ...            8.92B\n",
              " 5  Sales Growth (year/est)  ...           23.00%\n",
              " \n",
              " [6 rows x 5 columns],   Earnings History 9/29/2019 12/30/2019 3/30/2020 6/29/2020\n",
              " 0         EPS Est.      0.18       0.31      0.18      0.16\n",
              " 1       EPS Actual      0.18       0.32      0.18      0.18\n",
              " 2       Difference         0       0.01         0      0.02\n",
              " 3       Surprise %     0.00%      3.20%     0.00%    12.50%,           EPS Trend  ...  Next Year (2021)\n",
              " 0  Current Estimate  ...              1.66\n",
              " 1        7 Days Ago  ...              1.66\n",
              " 2       30 Days Ago  ...              1.65\n",
              " 3       60 Days Ago  ...              1.64\n",
              " 4       90 Days Ago  ...              1.52\n",
              " \n",
              " [5 rows x 5 columns],        EPS Revisions  ...  Next Year (2021)\n",
              " 0     Up Last 7 Days  ...               NaN\n",
              " 1    Up Last 30 Days  ...               2.0\n",
              " 2   Down Last 7 Days  ...               NaN\n",
              " 3  Down Last 30 Days  ...               NaN\n",
              " \n",
              " [4 rows x 5 columns],            Growth Estimates     AMD  Industry  Sector(s)  S&P 500\n",
              " 0              Current Qtr.  94.40%       NaN        NaN      NaN\n",
              " 1                 Next Qtr.  21.90%       NaN        NaN      NaN\n",
              " 2              Current Year  71.90%       NaN        NaN      NaN\n",
              " 3                 Next Year  50.90%       NaN        NaN      NaN\n",
              " 4  Next 5 Years (per annum)  35.83%       NaN        NaN      NaN\n",
              " 5  Past 5 Years (per annum)  39.81%       NaN        NaN      NaN]"
            ]
          },
          "metadata": {
            "tags": []
          },
          "execution_count": 270
        }
      ]
    },
    {
      "cell_type": "code",
      "metadata": {
        "id": "CKMSCRRojGgf",
        "outputId": "d299bae4-68b4-4bd2-f36e-f862d42d673a",
        "colab": {
          "base_uri": "https://localhost:8080/",
          "height": 233
        }
      },
      "source": [
        "analysis_5 = df_analysis[5]\n",
        "analysis_5"
      ],
      "execution_count": 271,
      "outputs": [
        {
          "output_type": "execute_result",
          "data": {
            "text/html": [
              "<div>\n",
              "<style scoped>\n",
              "    .dataframe tbody tr th:only-of-type {\n",
              "        vertical-align: middle;\n",
              "    }\n",
              "\n",
              "    .dataframe tbody tr th {\n",
              "        vertical-align: top;\n",
              "    }\n",
              "\n",
              "    .dataframe thead th {\n",
              "        text-align: right;\n",
              "    }\n",
              "</style>\n",
              "<table border=\"1\" class=\"dataframe\">\n",
              "  <thead>\n",
              "    <tr style=\"text-align: right;\">\n",
              "      <th></th>\n",
              "      <th>Growth Estimates</th>\n",
              "      <th>AMD</th>\n",
              "      <th>Industry</th>\n",
              "      <th>Sector(s)</th>\n",
              "      <th>S&amp;P 500</th>\n",
              "    </tr>\n",
              "  </thead>\n",
              "  <tbody>\n",
              "    <tr>\n",
              "      <th>0</th>\n",
              "      <td>Current Qtr.</td>\n",
              "      <td>94.40%</td>\n",
              "      <td>NaN</td>\n",
              "      <td>NaN</td>\n",
              "      <td>NaN</td>\n",
              "    </tr>\n",
              "    <tr>\n",
              "      <th>1</th>\n",
              "      <td>Next Qtr.</td>\n",
              "      <td>21.90%</td>\n",
              "      <td>NaN</td>\n",
              "      <td>NaN</td>\n",
              "      <td>NaN</td>\n",
              "    </tr>\n",
              "    <tr>\n",
              "      <th>2</th>\n",
              "      <td>Current Year</td>\n",
              "      <td>71.90%</td>\n",
              "      <td>NaN</td>\n",
              "      <td>NaN</td>\n",
              "      <td>NaN</td>\n",
              "    </tr>\n",
              "    <tr>\n",
              "      <th>3</th>\n",
              "      <td>Next Year</td>\n",
              "      <td>50.90%</td>\n",
              "      <td>NaN</td>\n",
              "      <td>NaN</td>\n",
              "      <td>NaN</td>\n",
              "    </tr>\n",
              "    <tr>\n",
              "      <th>4</th>\n",
              "      <td>Next 5 Years (per annum)</td>\n",
              "      <td>35.83%</td>\n",
              "      <td>NaN</td>\n",
              "      <td>NaN</td>\n",
              "      <td>NaN</td>\n",
              "    </tr>\n",
              "    <tr>\n",
              "      <th>5</th>\n",
              "      <td>Past 5 Years (per annum)</td>\n",
              "      <td>39.81%</td>\n",
              "      <td>NaN</td>\n",
              "      <td>NaN</td>\n",
              "      <td>NaN</td>\n",
              "    </tr>\n",
              "  </tbody>\n",
              "</table>\n",
              "</div>"
            ],
            "text/plain": [
              "           Growth Estimates     AMD  Industry  Sector(s)  S&P 500\n",
              "0              Current Qtr.  94.40%       NaN        NaN      NaN\n",
              "1                 Next Qtr.  21.90%       NaN        NaN      NaN\n",
              "2              Current Year  71.90%       NaN        NaN      NaN\n",
              "3                 Next Year  50.90%       NaN        NaN      NaN\n",
              "4  Next 5 Years (per annum)  35.83%       NaN        NaN      NaN\n",
              "5  Past 5 Years (per annum)  39.81%       NaN        NaN      NaN"
            ]
          },
          "metadata": {
            "tags": []
          },
          "execution_count": 271
        }
      ]
    },
    {
      "cell_type": "markdown",
      "metadata": {
        "id": "SfGG5alJdzW0"
      },
      "source": [
        "*   [Operating margin](https://www.investopedia.com/terms/o/operatingmargin.asp) is the profit a company makes on a dollar of sales after paying for variable costs but before paying any interest or taxes\n",
        "*   [EPS](https://www.investopedia.com/terms/e/eps.asp) indicates how much money a company makes for each share of its stock\n",
        "*   [Beta](https://www.investopedia.com/terms/b/beta.asp) is a measure of the volatility—or systematic risk—of a security or portfolio compared to the market as a whole\n",
        "*   [Enterprise Value/EBITDA](https://www.investopedia.com/ask/answers/072715/what-considered-healthy-evebitda.asp#:~:text=The%20enterprise%2Dvalue%2Dto%2D,10%20are%20seen%20as%20healthy.) compares the value of a company—debt included—to the company’s cash earnings less non-cash expenses\n",
        "*   [Return on equity (ROE)](https://www.investopedia.com/terms/r/returnonequity.asp) measures how effectively management is using a company’s assets to create profits\n",
        "*   [Debt-to-Equity Ratio (D/E)](https://www.investopedia.com/terms/d/debtequityratio.asp) is a measure of the degree to which a company is financing its operations through debt versus wholly-owned funds\n",
        "\n",
        "Note: GE stands for Growth Estimates per annum. For example, GE Next Year means growth estimates for next year.\n",
        "\n"
      ]
    },
    {
      "cell_type": "code",
      "metadata": {
        "id": "X_kZYdyIDiav",
        "outputId": "ff0e6c29-bb05-468a-db53-701274cef2e4",
        "colab": {
          "base_uri": "https://localhost:8080/",
          "height": 131
        }
      },
      "source": [
        "#create stock key metrics DataFrame\n",
        "stock_metrics= {\n",
        "    'Company': stock.info.get('shortName'),\n",
        "    'Ticker': ticker,\n",
        "    'Sector': stock.info.get('sector'),\n",
        "    'Market Cap': locale.currency(stock.info.get('marketCap'),grouping=True),\n",
        "    '52 Week Low': stat_1.loc[3][1],\n",
        "    '52 Week High': stat_1.loc[2][1],\n",
        "    'EPS' : summary_1.loc[2][1],\n",
        "    'Beta' : stock.info.get('beta'),\n",
        "    'Enterprise Value/EBITDA': stat_0.loc[8][1],\n",
        "    'Operating Margin': stat_5.loc[0][1],\n",
        "    'ROE':stat_6.loc[0][1],\n",
        "    'Debt-to-Equity': stat_8.loc[2][1],\n",
        "    'GE Next Year': analysis_5.loc[3][1],\n",
        "    'GE Next 5 Years': analysis_5.loc[4][1],\n",
        "    'GE Past 5 Years': analysis_5.loc[5][1]\n",
        "    }\n",
        "stock_df = pd.DataFrame(data = stock_metrics, index = [0])\n",
        "stock_df"
      ],
      "execution_count": 272,
      "outputs": [
        {
          "output_type": "execute_result",
          "data": {
            "text/html": [
              "<div>\n",
              "<style scoped>\n",
              "    .dataframe tbody tr th:only-of-type {\n",
              "        vertical-align: middle;\n",
              "    }\n",
              "\n",
              "    .dataframe tbody tr th {\n",
              "        vertical-align: top;\n",
              "    }\n",
              "\n",
              "    .dataframe thead th {\n",
              "        text-align: right;\n",
              "    }\n",
              "</style>\n",
              "<table border=\"1\" class=\"dataframe\">\n",
              "  <thead>\n",
              "    <tr style=\"text-align: right;\">\n",
              "      <th></th>\n",
              "      <th>Company</th>\n",
              "      <th>Ticker</th>\n",
              "      <th>Sector</th>\n",
              "      <th>Market Cap</th>\n",
              "      <th>52 Week Low</th>\n",
              "      <th>52 Week High</th>\n",
              "      <th>EPS</th>\n",
              "      <th>Beta</th>\n",
              "      <th>Enterprise Value/EBITDA</th>\n",
              "      <th>Operating Margin</th>\n",
              "      <th>ROE</th>\n",
              "      <th>Debt-to-Equity</th>\n",
              "      <th>GE Next Year</th>\n",
              "      <th>GE Next 5 Years</th>\n",
              "      <th>GE Past 5 Years</th>\n",
              "    </tr>\n",
              "  </thead>\n",
              "  <tbody>\n",
              "    <tr>\n",
              "      <th>0</th>\n",
              "      <td>Advanced Micro Devices, Inc.</td>\n",
              "      <td>AMD</td>\n",
              "      <td>Technology</td>\n",
              "      <td>$101,802,745,856.00</td>\n",
              "      <td>28.00</td>\n",
              "      <td>94.28</td>\n",
              "      <td>0.51</td>\n",
              "      <td>2.290678</td>\n",
              "      <td>85.57</td>\n",
              "      <td>11.56%</td>\n",
              "      <td>23.40%</td>\n",
              "      <td>27.05</td>\n",
              "      <td>50.90%</td>\n",
              "      <td>35.83%</td>\n",
              "      <td>39.81%</td>\n",
              "    </tr>\n",
              "  </tbody>\n",
              "</table>\n",
              "</div>"
            ],
            "text/plain": [
              "                        Company Ticker  ... GE Next 5 Years GE Past 5 Years\n",
              "0  Advanced Micro Devices, Inc.    AMD  ...          35.83%          39.81%\n",
              "\n",
              "[1 rows x 15 columns]"
            ]
          },
          "metadata": {
            "tags": []
          },
          "execution_count": 272
        }
      ]
    },
    {
      "cell_type": "code",
      "metadata": {
        "id": "174FKNCVHPo_"
      },
      "source": [
        ""
      ],
      "execution_count": 272,
      "outputs": []
    }
  ]
}