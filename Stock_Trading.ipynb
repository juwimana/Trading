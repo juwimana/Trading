{
  "nbformat": 4,
  "nbformat_minor": 0,
  "metadata": {
    "colab": {
      "name": "Stock Trading.ipynb",
      "provenance": [],
      "collapsed_sections": [],
      "authorship_tag": "ABX9TyNya3pB1v5WASV7HW5xIihI",
      "include_colab_link": true
    },
    "kernelspec": {
      "name": "python3",
      "display_name": "Python 3"
    }
  },
  "cells": [
    {
      "cell_type": "markdown",
      "metadata": {
        "id": "view-in-github",
        "colab_type": "text"
      },
      "source": [
        "<a href=\"https://colab.research.google.com/github/juwimana/Trading/blob/main/Stock_Trading.ipynb\" target=\"_parent\"><img src=\"https://colab.research.google.com/assets/colab-badge.svg\" alt=\"Open In Colab\"/></a>"
      ]
    },
    {
      "cell_type": "markdown",
      "metadata": {
        "id": "koK7zaSLFJZQ"
      },
      "source": [
        "## Stock Valuation "
      ]
    },
    {
      "cell_type": "code",
      "metadata": {
        "id": "wE-BcoO_FEma"
      },
      "source": [
        "#import packages\n",
        "import datetime as dt\n",
        "import pandas as pd\n",
        "import pandas_datareader.data as data\n",
        "from pandas_datareader._utils import RemoteDataError\n",
        "import matplotlib.pyplot as plt\n",
        "import numpy as np\n",
        "import requests\n",
        "import bs4 \n",
        "from bs4 import BeautifulSoup as bs"
      ],
      "execution_count": 54,
      "outputs": []
    },
    {
      "cell_type": "code",
      "metadata": {
        "id": "NvQAROznFq9h"
      },
      "source": [
        "start =dt.datetime(2020,10,1)\n",
        "end = dt.date.today()\n",
        "stock_data =''\n",
        "\n",
        "#stock ticker\n",
        "ticker = 'TSLA'\n",
        "\n",
        "#define method get_data()\n",
        "def get_data(ticker):\n",
        "  try:\n",
        "    stock_data = data.DataReader(ticker, 'yahoo', start, end)\n",
        "    print(stock_data)\n",
        "  except RemoteDataError:\n",
        "      print('No data found for {}'.format(ticker))"
      ],
      "execution_count": 55,
      "outputs": []
    },
    {
      "cell_type": "code",
      "metadata": {
        "id": "0513gGh_GX7G",
        "outputId": "79d5ad86-37a8-4087-e575-f8bf7d0ca92f",
        "colab": {
          "base_uri": "https://localhost:8080/"
        }
      },
      "source": [
        "get_data(ticker)"
      ],
      "execution_count": 56,
      "outputs": [
        {
          "output_type": "stream",
          "text": [
            "                  High         Low  ...    Volume   Adj Close\n",
            "Date                                ...                      \n",
            "2020-10-01  448.880005  434.420013  ...  50741500  448.160004\n",
            "2020-10-02  439.130005  415.000000  ...  71430000  415.089996\n",
            "2020-10-05  433.640015  419.329987  ...  44722800  425.679993\n",
            "2020-10-06  428.779999  406.049988  ...  48925000  413.980011\n",
            "2020-10-07  423.220001  417.570007  ...   7215037  418.500000\n",
            "\n",
            "[5 rows x 6 columns]\n"
          ],
          "name": "stdout"
        }
      ]
    }
  ]
}